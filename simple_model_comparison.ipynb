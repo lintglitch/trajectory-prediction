{
 "cells": [
  {
   "cell_type": "code",
   "execution_count": 2,
   "metadata": {},
   "outputs": [
    {
     "data": {
      "text/plain": [
       "<module 'visualization' from '/home/deus/Documents/trajectory-prediction/visualization.py'>"
      ]
     },
     "execution_count": 2,
     "metadata": {},
     "output_type": "execute_result"
    }
   ],
   "source": [
    "from importlib import reload\n",
    "import parsing\n",
    "import models\n",
    "import model_interface\n",
    "import visualization\n",
    "reload(parsing)\n",
    "reload(models)\n",
    "reload(model_interface)\n",
    "reload(visualization)"
   ]
  },
  {
   "cell_type": "code",
   "execution_count": 3,
   "metadata": {},
   "outputs": [
    {
     "name": "stderr",
     "output_type": "stream",
     "text": [
      "  1%|          | 7/1224 [00:00<00:17, 69.46it/s]"
     ]
    },
    {
     "name": "stdout",
     "output_type": "stream",
     "text": [
      "           time       id      x      y         z  velocity  motion_angle  \\\n",
      "0  1.352853e+09  9315400  39830 -22779  1704.245   823.082        -0.499   \n",
      "1  1.352853e+09  9330400  34873 -17618  1467.723  1280.126         2.821   \n",
      "2  1.352853e+09  9330600  -9670   7396  1230.397  1095.896         2.322   \n",
      "3  1.352853e+09  9315400  39848 -22802  1704.947   903.930        -0.648   \n",
      "4  1.352853e+09  9330400  34830 -17590  1466.868  1302.011         2.751   \n",
      "\n",
      "   facing_angle  \n",
      "0        -0.708  \n",
      "1         2.799  \n",
      "2         2.357  \n",
      "3        -0.732  \n",
      "4         2.748  \n",
      "time    float64\n",
      "id        int64\n",
      "x         int64\n",
      "y         int64\n",
      "dtype: object\n",
      "           time       id      x      y\n",
      "0  1.352853e+09  9315400  39830 -22779\n",
      "1  1.352853e+09  9330400  34873 -17618\n",
      "2  1.352853e+09  9330600  -9670   7396\n",
      "3  1.352853e+09  9315400  39848 -22802\n",
      "4  1.352853e+09  9330400  34830 -17590\n",
      "0   2012-11-14 00:33:08.708000000\n",
      "1   2012-11-14 00:33:08.708000000\n",
      "2   2012-11-14 00:33:08.708000000\n",
      "3   2012-11-14 00:33:08.742000128\n",
      "4   2012-11-14 00:33:08.742000128\n",
      "Name: time, dtype: datetime64[ns]\n",
      "time    datetime64[ns]\n",
      "id               int64\n",
      "x              float64\n",
      "y              float64\n",
      "dtype: object\n"
     ]
    },
    {
     "name": "stderr",
     "output_type": "stream",
     "text": [
      "100%|██████████| 1224/1224 [00:16<00:00, 72.83it/s]\n"
     ]
    },
    {
     "name": "stdout",
     "output_type": "stream",
     "text": [
      "Dividing 697 human trajectories: 627 training, 70 eval, 0 test\n",
      "train (226805, 40, 2) float64 (226805, 25) float32 (226805, 40, 2) float64\n",
      "eval (22415, 40, 2) float64 (22415, 25) float32 (22415, 40, 2) float64\n"
     ]
    }
   ],
   "source": [
    "# file_path = \"data/small.csv\"\n",
    "file_path = \"data/medium_aa.csv\"\n",
    "# file_path = \"data/atc-20121114.csv\"\n",
    "\n",
    "train_data, eval_data, test_data = parsing.parse_atc_day(file_path, train_ratio=0.9, eval_ratio=0.1)\n",
    "eval_data_x, eval_data_goals, eval_data_y = eval_data"
   ]
  },
  {
   "cell_type": "code",
   "execution_count": 6,
   "metadata": {},
   "outputs": [
    {
     "name": "stdout",
     "output_type": "stream",
     "text": [
      "Epoch 1/20\n",
      "7088/7088 [==============================] - 21s 3ms/step - loss: 0.0031 - mean_absolute_error: 0.0355 - val_loss: 0.0027 - val_mean_absolute_error: 0.0336\n",
      "Epoch 2/20\n",
      "7088/7088 [==============================] - 20s 3ms/step - loss: 0.0027 - mean_absolute_error: 0.0326 - val_loss: 0.0025 - val_mean_absolute_error: 0.0316\n",
      "Epoch 3/20\n",
      "7088/7088 [==============================] - 20s 3ms/step - loss: 0.0026 - mean_absolute_error: 0.0320 - val_loss: 0.0026 - val_mean_absolute_error: 0.0322\n",
      "Epoch 4/20\n",
      "7088/7088 [==============================] - 21s 3ms/step - loss: 0.0026 - mean_absolute_error: 0.0316 - val_loss: 0.0025 - val_mean_absolute_error: 0.0311\n",
      "Epoch 5/20\n",
      "7088/7088 [==============================] - 21s 3ms/step - loss: 0.0026 - mean_absolute_error: 0.0315 - val_loss: 0.0025 - val_mean_absolute_error: 0.0314\n",
      "Epoch 6/20\n",
      "7088/7088 [==============================] - 21s 3ms/step - loss: 0.0026 - mean_absolute_error: 0.0313 - val_loss: 0.0025 - val_mean_absolute_error: 0.0318\n"
     ]
    }
   ],
   "source": [
    "model = None\n",
    "model, _ = models.simple_lstm(train_data, eval_data)\n",
    "# model, _ = models.simple_lstm_goal(train_data, eval_data)\n",
    "\n",
    "# model_no_goal, _ = models.simple_lstm(train_data, eval_data)\n",
    "# model_goal, _ = models.simple_lstm_goal(train_data, eval_data)"
   ]
  },
  {
   "cell_type": "code",
   "execution_count": 7,
   "metadata": {},
   "outputs": [
    {
     "name": "stdout",
     "output_type": "stream",
     "text": [
      "MED: 0.04988967905875525\n",
      "FDE: 0.09320758756838872\n"
     ]
    }
   ],
   "source": [
    "# eval_data_goal_x = model_interface.concatenate_x_goal(eval_data_x, eval_data_goals)\n",
    "model_interface.calculate_final_metrics(model, eval_x=eval_data_x, eval_y=eval_data_y, filepath='no_goal_model_errors')\n",
    "# model_interface.calculate_final_metrics(model, eval_x=eval_data_goal_x, eval_y=eval_data_y, filepath='goal_model_errors')"
   ]
  },
  {
   "cell_type": "code",
   "execution_count": 14,
   "metadata": {},
   "outputs": [
    {
     "data": {
      "image/png": "[encoded data removed]",
      "text/plain": [
       "<Figure size 576x576 with 1 Axes>"
      ]
     },
     "metadata": {
      "needs_background": "light"
     },
     "output_type": "display_data"
    },
    {
     "name": "stdout",
     "output_type": "stream",
     "text": [
      "9 4 1\n"
     ]
    },
    {
     "data": {
      "image/png": "[encoded data removed]",
      "text/plain": [
       "<Figure size 576x576 with 1 Axes>"
      ]
     },
     "metadata": {
      "needs_background": "light"
     },
     "output_type": "display_data"
    }
   ],
   "source": [
    "\n",
    "N = 0\n",
    "visualization.draw_path(eval_data_x[N], eval_data_y[N], prediction_model=model_no_goal, name=\"no goal prediction\")\n",
    "visualization.draw_path(eval_data_x[N], eval_data_y[N], eval_data_goals[N], prediction_model=model_goal, name=\"with accurate goal prediction\")"
   ]
  },
  {
   "cell_type": "code",
   "execution_count": null,
   "metadata": {},
   "outputs": [],
   "source": []
  }
 ],
 "metadata": {
  "interpreter": {
   "hash": "916dbcbb3f70747c44a77c7bcd40155683ae19c65e1c03b4aa3499c5328201f1"
  },
  "kernelspec": {
   "display_name": "Python 3.8.5 64-bit",
   "name": "python3"
  },
  "language_info": {
   "name": "python",
   "version": ""
  },
  "orig_nbformat": 4
 },
 "nbformat": 4,
 "nbformat_minor": 2
}