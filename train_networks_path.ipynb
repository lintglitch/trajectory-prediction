{
 "cells": [
  {
   "cell_type": "code",
   "execution_count": 1,
   "metadata": {},
   "outputs": [],
   "source": [
    "from importlib import reload\n",
    "from src import parsing\n",
    "from src import model_path\n",
    "from src import models_path\n",
    "from src import model_goal\n",
    "from src import models_goal\n",
    "from src import inception\n",
    "from src import model_interface\n",
    "from src import visualization\n",
    "from src import util\n",
    "from src import config\n",
    "reload(parsing)\n",
    "reload(model_path)\n",
    "reload(models_path)\n",
    "reload(model_goal)\n",
    "reload(models_goal)\n",
    "reload(inception)\n",
    "reload(model_interface)\n",
    "reload(visualization)\n",
    "reload(util)\n",
    "reload(config)\n",
    "\n",
    "import numpy as np"
   ]
  },
  {
   "cell_type": "code",
   "execution_count": 2,
   "metadata": {},
   "outputs": [],
   "source": [
    "## load data\n",
    "\n",
    "# file_name = \"atc-20121114.csv\"\n",
    "# file_name = \"part1_days_01_to_03\"\n",
    "# file_name = \"medium_aa.csv\"\n",
    "file_name = \"part1_days_04_to_07\"\n",
    "# ratio = 1.0\n",
    "ratio = 0.2\n",
    "\n",
    "train_data, eval_data, test_data = parsing.load_processed_data(file_name, ratio=ratio)\n",
    "\n",
    "\n",
    "# define model input shapes\n",
    "input_shape = train_data[0].shape[1:]\n",
    "input_shape_goal = np.array((50, 27))"
   ]
  },
  {
   "cell_type": "code",
   "execution_count": 2,
   "metadata": {},
   "outputs": [
    {
     "name": "stdout",
     "output_type": "stream",
     "text": [
      "Compiling new model\n",
      "Epoch 1/25\n",
      "19305/19305 [==============================] - 288s 15ms/step - loss: 0.0095 - mean_absolute_error: 0.0567 - val_loss: 0.0045 - val_mean_absolute_error: 0.0430\n"
     ]
    },
    {
     "name": "stderr",
     "output_type": "stream",
     "text": [
      "WARNING:absl:Found untraced functions such as multi_head_attention_layer_call_and_return_conditional_losses, multi_head_attention_layer_call_fn, dropout_layer_call_and_return_conditional_losses, dropout_layer_call_fn, dropout_1_layer_call_and_return_conditional_losses while saving (showing 5 of 45). These functions will not be directly callable after loading.\n"
     ]
    },
    {
     "name": "stdout",
     "output_type": "stream",
     "text": [
      "INFO:tensorflow:Assets written to: checkpoints/path_transformerk_dropout_a/assets\n"
     ]
    },
    {
     "name": "stderr",
     "output_type": "stream",
     "text": [
      "INFO:tensorflow:Assets written to: checkpoints/path_transformerk_dropout_a/assets\n"
     ]
    },
    {
     "name": "stdout",
     "output_type": "stream",
     "text": [
      "Epoch 2/25\n",
      "19305/19305 [==============================] - 301s 16ms/step - loss: 0.0044 - mean_absolute_error: 0.0413 - val_loss: 0.0043 - val_mean_absolute_error: 0.0411\n"
     ]
    },
    {
     "name": "stderr",
     "output_type": "stream",
     "text": [
      "WARNING:absl:Found untraced functions such as multi_head_attention_layer_call_and_return_conditional_losses, multi_head_attention_layer_call_fn, dropout_layer_call_and_return_conditional_losses, dropout_layer_call_fn, dropout_1_layer_call_and_return_conditional_losses while saving (showing 5 of 45). These functions will not be directly callable after loading.\n"
     ]
    },
    {
     "name": "stdout",
     "output_type": "stream",
     "text": [
      "INFO:tensorflow:Assets written to: checkpoints/path_transformerk_dropout_a/assets\n"
     ]
    },
    {
     "name": "stderr",
     "output_type": "stream",
     "text": [
      "INFO:tensorflow:Assets written to: checkpoints/path_transformerk_dropout_a/assets\n"
     ]
    },
    {
     "name": "stdout",
     "output_type": "stream",
     "text": [
      "Epoch 3/25\n",
      "19305/19305 [==============================] - 298s 15ms/step - loss: 0.0043 - mean_absolute_error: 0.0410 - val_loss: 0.0045 - val_mean_absolute_error: 0.0424\n",
      "Epoch 4/25\n",
      "19305/19305 [==============================] - 300s 16ms/step - loss: 0.0043 - mean_absolute_error: 0.0408 - val_loss: 0.0042 - val_mean_absolute_error: 0.0404\n"
     ]
    },
    {
     "name": "stderr",
     "output_type": "stream",
     "text": [
      "WARNING:absl:Found untraced functions such as multi_head_attention_layer_call_and_return_conditional_losses, multi_head_attention_layer_call_fn, dropout_layer_call_and_return_conditional_losses, dropout_layer_call_fn, dropout_1_layer_call_and_return_conditional_losses while saving (showing 5 of 45). These functions will not be directly callable after loading.\n"
     ]
    },
    {
     "name": "stdout",
     "output_type": "stream",
     "text": [
      "INFO:tensorflow:Assets written to: checkpoints/path_transformerk_dropout_a/assets\n"
     ]
    },
    {
     "name": "stderr",
     "output_type": "stream",
     "text": [
      "INFO:tensorflow:Assets written to: checkpoints/path_transformerk_dropout_a/assets\n"
     ]
    },
    {
     "name": "stdout",
     "output_type": "stream",
     "text": [
      "Epoch 5/25\n",
      "19305/19305 [==============================] - 289s 15ms/step - loss: 0.0043 - mean_absolute_error: 0.0407 - val_loss: 0.0042 - val_mean_absolute_error: 0.0407\n",
      "Epoch 6/25\n",
      "19305/19305 [==============================] - 278s 14ms/step - loss: 0.0043 - mean_absolute_error: 0.0406 - val_loss: 0.0042 - val_mean_absolute_error: 0.0406\n",
      "Epoch 7/25\n",
      "19305/19305 [==============================] - 285s 15ms/step - loss: 0.0043 - mean_absolute_error: 0.0406 - val_loss: 0.0042 - val_mean_absolute_error: 0.0402\n"
     ]
    },
    {
     "name": "stderr",
     "output_type": "stream",
     "text": [
      "WARNING:absl:Found untraced functions such as multi_head_attention_layer_call_and_return_conditional_losses, multi_head_attention_layer_call_fn, dropout_layer_call_and_return_conditional_losses, dropout_layer_call_fn, dropout_1_layer_call_and_return_conditional_losses while saving (showing 5 of 45). These functions will not be directly callable after loading.\n"
     ]
    },
    {
     "name": "stdout",
     "output_type": "stream",
     "text": [
      "INFO:tensorflow:Assets written to: checkpoints/path_transformerk_dropout_a/assets\n"
     ]
    },
    {
     "name": "stderr",
     "output_type": "stream",
     "text": [
      "INFO:tensorflow:Assets written to: checkpoints/path_transformerk_dropout_a/assets\n"
     ]
    },
    {
     "name": "stdout",
     "output_type": "stream",
     "text": [
      "Epoch 8/25\n",
      "19305/19305 [==============================] - 270s 14ms/step - loss: 0.0042 - mean_absolute_error: 0.0405 - val_loss: 0.0043 - val_mean_absolute_error: 0.0413\n",
      "Epoch 9/25\n",
      "19305/19305 [==============================] - 271s 14ms/step - loss: 0.0042 - mean_absolute_error: 0.0404 - val_loss: 0.0042 - val_mean_absolute_error: 0.0405\n",
      "Epoch 10/25\n",
      "19305/19305 [==============================] - 271s 14ms/step - loss: 0.0042 - mean_absolute_error: 0.0404 - val_loss: 0.0042 - val_mean_absolute_error: 0.0401\n"
     ]
    },
    {
     "name": "stderr",
     "output_type": "stream",
     "text": [
      "WARNING:absl:Found untraced functions such as multi_head_attention_layer_call_and_return_conditional_losses, multi_head_attention_layer_call_fn, dropout_layer_call_and_return_conditional_losses, dropout_layer_call_fn, dropout_1_layer_call_and_return_conditional_losses while saving (showing 5 of 45). These functions will not be directly callable after loading.\n"
     ]
    },
    {
     "name": "stdout",
     "output_type": "stream",
     "text": [
      "INFO:tensorflow:Assets written to: checkpoints/path_transformerk_dropout_a/assets\n"
     ]
    },
    {
     "name": "stderr",
     "output_type": "stream",
     "text": [
      "INFO:tensorflow:Assets written to: checkpoints/path_transformerk_dropout_a/assets\n"
     ]
    },
    {
     "name": "stdout",
     "output_type": "stream",
     "text": [
      "Epoch 11/25\n",
      "19305/19305 [==============================] - 270s 14ms/step - loss: 0.0042 - mean_absolute_error: 0.0403 - val_loss: 0.0042 - val_mean_absolute_error: 0.0402\n",
      "Epoch 12/25\n",
      "19305/19305 [==============================] - 270s 14ms/step - loss: 0.0042 - mean_absolute_error: 0.0403 - val_loss: 0.0042 - val_mean_absolute_error: 0.0404\n",
      "Epoch 13/25\n",
      "19305/19305 [==============================] - 269s 14ms/step - loss: 0.0042 - mean_absolute_error: 0.0402 - val_loss: 0.0042 - val_mean_absolute_error: 0.0400\n"
     ]
    },
    {
     "name": "stderr",
     "output_type": "stream",
     "text": [
      "WARNING:absl:Found untraced functions such as multi_head_attention_layer_call_and_return_conditional_losses, multi_head_attention_layer_call_fn, dropout_layer_call_and_return_conditional_losses, dropout_layer_call_fn, dropout_1_layer_call_and_return_conditional_losses while saving (showing 5 of 45). These functions will not be directly callable after loading.\n"
     ]
    },
    {
     "name": "stdout",
     "output_type": "stream",
     "text": [
      "INFO:tensorflow:Assets written to: checkpoints/path_transformerk_dropout_a/assets\n"
     ]
    },
    {
     "name": "stderr",
     "output_type": "stream",
     "text": [
      "INFO:tensorflow:Assets written to: checkpoints/path_transformerk_dropout_a/assets\n"
     ]
    },
    {
     "name": "stdout",
     "output_type": "stream",
     "text": [
      "Epoch 14/25\n",
      "19305/19305 [==============================] - 270s 14ms/step - loss: 0.0042 - mean_absolute_error: 0.0402 - val_loss: 0.0042 - val_mean_absolute_error: 0.0402\n",
      "Epoch 15/25\n",
      "19305/19305 [==============================] - 271s 14ms/step - loss: 0.0042 - mean_absolute_error: 0.0402 - val_loss: 0.0042 - val_mean_absolute_error: 0.0405\n",
      "Epoch 16/25\n",
      "19305/19305 [==============================] - 270s 14ms/step - loss: 0.0042 - mean_absolute_error: 0.0401 - val_loss: 0.0041 - val_mean_absolute_error: 0.0400\n",
      "Epoch 17/25\n",
      "19305/19305 [==============================] - 270s 14ms/step - loss: 0.0042 - mean_absolute_error: 0.0401 - val_loss: 0.0042 - val_mean_absolute_error: 0.0402\n",
      "Epoch 18/25\n",
      "19305/19305 [==============================] - 273s 14ms/step - loss: 0.0042 - mean_absolute_error: 0.0401 - val_loss: 0.0042 - val_mean_absolute_error: 0.0403\n",
      "Epoch 19/25\n",
      "19305/19305 [==============================] - 271s 14ms/step - loss: 0.0042 - mean_absolute_error: 0.0400 - val_loss: 0.0042 - val_mean_absolute_error: 0.0402\n",
      "Epoch 20/25\n",
      "19305/19305 [==============================] - 260s 13ms/step - loss: 0.0042 - mean_absolute_error: 0.0400 - val_loss: 0.0041 - val_mean_absolute_error: 0.0400\n",
      "Epoch 21/25\n",
      "19305/19305 [==============================] - 259s 13ms/step - loss: 0.0042 - mean_absolute_error: 0.0400 - val_loss: 0.0042 - val_mean_absolute_error: 0.0401\n",
      "Epoch 22/25\n",
      "19305/19305 [==============================] - 264s 14ms/step - loss: 0.0042 - mean_absolute_error: 0.0400 - val_loss: 0.0042 - val_mean_absolute_error: 0.0401\n",
      "Epoch 23/25\n",
      "19305/19305 [==============================] - 263s 14ms/step - loss: 0.0042 - mean_absolute_error: 0.0399 - val_loss: 0.0042 - val_mean_absolute_error: 0.0404\n",
      "Epoch 24/25\n",
      "19305/19305 [==============================] - 269s 14ms/step - loss: 0.0042 - mean_absolute_error: 0.0399 - val_loss: 0.0041 - val_mean_absolute_error: 0.0397\n"
     ]
    },
    {
     "name": "stderr",
     "output_type": "stream",
     "text": [
      "WARNING:absl:Found untraced functions such as multi_head_attention_layer_call_and_return_conditional_losses, multi_head_attention_layer_call_fn, dropout_layer_call_and_return_conditional_losses, dropout_layer_call_fn, dropout_1_layer_call_and_return_conditional_losses while saving (showing 5 of 45). These functions will not be directly callable after loading.\n"
     ]
    },
    {
     "name": "stdout",
     "output_type": "stream",
     "text": [
      "INFO:tensorflow:Assets written to: checkpoints/path_transformerk_dropout_a/assets\n"
     ]
    },
    {
     "name": "stderr",
     "output_type": "stream",
     "text": [
      "INFO:tensorflow:Assets written to: checkpoints/path_transformerk_dropout_a/assets\n"
     ]
    },
    {
     "name": "stdout",
     "output_type": "stream",
     "text": [
      "Epoch 25/25\n",
      "19305/19305 [==============================] - 263s 14ms/step - loss: 0.0042 - mean_absolute_error: 0.0399 - val_loss: 0.0041 - val_mean_absolute_error: 0.0400\n"
     ]
    },
    {
     "name": "stderr",
     "output_type": "stream",
     "text": [
      "WARNING:absl:Found untraced functions such as multi_head_attention_layer_call_and_return_conditional_losses, multi_head_attention_layer_call_fn, dropout_layer_call_and_return_conditional_losses, dropout_layer_call_fn, dropout_1_layer_call_and_return_conditional_losses while saving (showing 5 of 45). These functions will not be directly callable after loading.\n"
     ]
    },
    {
     "name": "stdout",
     "output_type": "stream",
     "text": [
      "INFO:tensorflow:Assets written to: weights/path_transformerk_dropout_a/assets\n"
     ]
    },
    {
     "name": "stderr",
     "output_type": "stream",
     "text": [
      "INFO:tensorflow:Assets written to: weights/path_transformerk_dropout_a/assets\n"
     ]
    }
   ],
   "source": [
    "model_name = 'path_transformerk_dropout_a'\n",
    "from src import transformer_k\n",
    "reload(transformer_k)\n",
    "reload(model_path)\n",
    "\n",
    "m = model_path.ModelPath(uses_goal=False)\n",
    "input_shape = train_data[0].shape\n",
    "input_shape = (input_shape[1], input_shape[2])\n",
    "model = transformer_k.build_model(\n",
    "    input_shape,\n",
    "    head_size=64, # 256\n",
    "    num_heads=4, # 4\n",
    "    ff_dim=256, # 4\n",
    "    num_transformer_blocks=1, # 4\n",
    "    mlp_units=1, # [128]\n",
    "    mlp_dropout=0.4, # 0.4\n",
    "    dropout=0.3, # 0.25\n",
    "    time2vec_dim=3, # 3\n",
    "    bayesian_dropout=True,\n",
    ")\n",
    "\n",
    "\n",
    "history = m.train(train_data, eval_data,\n",
    "    model=model,\n",
    "    # model=None,\n",
    "    batch_size=256,\n",
    "    epochs=25,\n",
    "    learning_rate=1e-4,\n",
    "    learning_rate_scheduler=False,\n",
    "    checkpoints_path=f'checkpoints/{model_name}'\n",
    ")\n",
    "\n",
    "m.save(model_name)\n",
    "model = None\n",
    "m = None\n",
    "\n",
    "model_interface.save_history(model_name, history)"
   ]
  },
  {
   "cell_type": "code",
   "execution_count": 5,
   "metadata": {},
   "outputs": [
    {
     "ename": "TypeError",
     "evalue": "build_model() got an unexpected keyword argument 'train_goals'",
     "output_type": "error",
     "traceback": [
      "\u001b[0;31m---------------------------------------------------------------------------\u001b[0m",
      "\u001b[0;31mTypeError\u001b[0m                                 Traceback (most recent call last)",
      "\u001b[0;32m<ipython-input-5-5fbb61b90a3b>\u001b[0m in \u001b[0;36m<module>\u001b[0;34m\u001b[0m\n\u001b[1;32m      7\u001b[0m \u001b[0minput_shape\u001b[0m \u001b[0;34m=\u001b[0m \u001b[0mtrain_data\u001b[0m\u001b[0;34m[\u001b[0m\u001b[0;36m0\u001b[0m\u001b[0;34m]\u001b[0m\u001b[0;34m.\u001b[0m\u001b[0mshape\u001b[0m\u001b[0;34m\u001b[0m\u001b[0;34m\u001b[0m\u001b[0m\n\u001b[1;32m      8\u001b[0m \u001b[0minput_shape\u001b[0m \u001b[0;34m=\u001b[0m \u001b[0;34m(\u001b[0m\u001b[0minput_shape\u001b[0m\u001b[0;34m[\u001b[0m\u001b[0;36m1\u001b[0m\u001b[0;34m]\u001b[0m\u001b[0;34m,\u001b[0m \u001b[0minput_shape\u001b[0m\u001b[0;34m[\u001b[0m\u001b[0;36m2\u001b[0m\u001b[0;34m]\u001b[0m\u001b[0;34m)\u001b[0m\u001b[0;34m\u001b[0m\u001b[0;34m\u001b[0m\u001b[0m\n\u001b[0;32m----> 9\u001b[0;31m model = transformer_k.build_model(\n\u001b[0m\u001b[1;32m     10\u001b[0m     \u001b[0minput_shape_goal\u001b[0m\u001b[0;34m,\u001b[0m\u001b[0;34m\u001b[0m\u001b[0;34m\u001b[0m\u001b[0m\n\u001b[1;32m     11\u001b[0m     \u001b[0mtrain_goals\u001b[0m\u001b[0;34m=\u001b[0m\u001b[0mtrain_data\u001b[0m\u001b[0;34m[\u001b[0m\u001b[0;36m1\u001b[0m\u001b[0;34m]\u001b[0m\u001b[0;34m,\u001b[0m\u001b[0;34m\u001b[0m\u001b[0;34m\u001b[0m\u001b[0m\n",
      "\u001b[0;31mTypeError\u001b[0m: build_model() got an unexpected keyword argument 'train_goals'"
     ]
    }
   ],
   "source": [
    "model_name = 'path_transformerk_goal_a'\n",
    "from src import transformer_k\n",
    "reload(transformer_k)\n",
    "reload(model_path)\n",
    "\n",
    "m = model_path.ModelPath(uses_goal=True)\n",
    "input_shape = train_data[0].shape\n",
    "input_shape = (input_shape[1], input_shape[2])\n",
    "model = transformer_k.build_model(\n",
    "    input_shape_goal,\n",
    "    head_size=64, # 256\n",
    "    num_heads=4, # 4\n",
    "    ff_dim=256, # 4\n",
    "    num_transformer_blocks=1, # 4\n",
    "    mlp_units=1, # [128]\n",
    "    mlp_dropout=0.0, # 0.4\n",
    "    dropout=0.0, # 0.25\n",
    "    time2vec_dim=3, # 3\n",
    "    bayesian_dropout=False,\n",
    ")\n",
    "\n",
    "history = m.train(train_data, eval_data,\n",
    "    train_goals=train_data[1],\n",
    "    eval_goals=eval_data[1],\n",
    "    model=model,\n",
    "    # model=None,\n",
    "    batch_size=256,\n",
    "    epochs=30,\n",
    "    learning_rate=1e-4,\n",
    "    learning_rate_scheduler=True,\n",
    "    checkpoints_path=f'checkpoints/{model_name}'\n",
    ")\n",
    "\n",
    "m.save(model_name)\n",
    "model = None\n",
    "m = None\n",
    "\n",
    "model_interface.save_history(model_name, history)"
   ]
  },
  {
   "cell_type": "code",
   "execution_count": 4,
   "metadata": {},
   "outputs": [
    {
     "name": "stdout",
     "output_type": "stream",
     "text": [
      "Compiling new model\n",
      "Epoch 1/30\n",
      "\n",
      "Epoch 00001: LearningRateScheduler setting learning rate to 0.001.\n",
      "3861/3861 [==============================] - 89s 23ms/step - loss: 0.0392 - mean_absolute_error: 0.0953 - val_loss: 0.0035 - val_mean_absolute_error: 0.0435\n"
     ]
    },
    {
     "name": "stderr",
     "output_type": "stream",
     "text": [
      "WARNING:absl:Found untraced functions such as multi_head_attention_layer_call_and_return_conditional_losses, multi_head_attention_layer_call_fn, dropout_layer_call_and_return_conditional_losses, dropout_layer_call_fn, dropout_1_layer_call_and_return_conditional_losses while saving (showing 5 of 45). These functions will not be directly callable after loading.\n"
     ]
    },
    {
     "name": "stdout",
     "output_type": "stream",
     "text": [
      "INFO:tensorflow:Assets written to: checkpoints/path_transformerk_goal_dropout_a/assets\n"
     ]
    },
    {
     "name": "stderr",
     "output_type": "stream",
     "text": [
      "INFO:tensorflow:Assets written to: checkpoints/path_transformerk_goal_dropout_a/assets\n"
     ]
    },
    {
     "name": "stdout",
     "output_type": "stream",
     "text": [
      "Epoch 2/30\n",
      "\n",
      "Epoch 00002: LearningRateScheduler setting learning rate to 0.001.\n",
      "3861/3861 [==============================] - 92s 24ms/step - loss: 0.0028 - mean_absolute_error: 0.0379 - val_loss: 0.0026 - val_mean_absolute_error: 0.0361\n"
     ]
    },
    {
     "name": "stderr",
     "output_type": "stream",
     "text": [
      "WARNING:absl:Found untraced functions such as multi_head_attention_layer_call_and_return_conditional_losses, multi_head_attention_layer_call_fn, dropout_layer_call_and_return_conditional_losses, dropout_layer_call_fn, dropout_1_layer_call_and_return_conditional_losses while saving (showing 5 of 45). These functions will not be directly callable after loading.\n"
     ]
    },
    {
     "name": "stdout",
     "output_type": "stream",
     "text": [
      "INFO:tensorflow:Assets written to: checkpoints/path_transformerk_goal_dropout_a/assets\n"
     ]
    },
    {
     "name": "stderr",
     "output_type": "stream",
     "text": [
      "INFO:tensorflow:Assets written to: checkpoints/path_transformerk_goal_dropout_a/assets\n"
     ]
    },
    {
     "name": "stdout",
     "output_type": "stream",
     "text": [
      "Epoch 3/30\n",
      "\n",
      "Epoch 00003: LearningRateScheduler setting learning rate to 0.001.\n",
      "3861/3861 [==============================] - 92s 24ms/step - loss: 0.0026 - mean_absolute_error: 0.0355 - val_loss: 0.0024 - val_mean_absolute_error: 0.0335\n"
     ]
    },
    {
     "name": "stderr",
     "output_type": "stream",
     "text": [
      "WARNING:absl:Found untraced functions such as multi_head_attention_layer_call_and_return_conditional_losses, multi_head_attention_layer_call_fn, dropout_layer_call_and_return_conditional_losses, dropout_layer_call_fn, dropout_1_layer_call_and_return_conditional_losses while saving (showing 5 of 45). These functions will not be directly callable after loading.\n"
     ]
    },
    {
     "name": "stdout",
     "output_type": "stream",
     "text": [
      "INFO:tensorflow:Assets written to: checkpoints/path_transformerk_goal_dropout_a/assets\n"
     ]
    },
    {
     "name": "stderr",
     "output_type": "stream",
     "text": [
      "INFO:tensorflow:Assets written to: checkpoints/path_transformerk_goal_dropout_a/assets\n"
     ]
    },
    {
     "name": "stdout",
     "output_type": "stream",
     "text": [
      "Epoch 4/30\n",
      "\n",
      "Epoch 00004: LearningRateScheduler setting learning rate to 0.001.\n",
      "3861/3861 [==============================] - 93s 24ms/step - loss: 0.0024 - mean_absolute_error: 0.0343 - val_loss: 0.0024 - val_mean_absolute_error: 0.0338\n",
      "Epoch 5/30\n",
      "\n",
      "Epoch 00005: LearningRateScheduler setting learning rate to 0.001.\n",
      "3861/3861 [==============================] - 92s 24ms/step - loss: 0.0024 - mean_absolute_error: 0.0339 - val_loss: 0.0026 - val_mean_absolute_error: 0.0356\n",
      "Epoch 6/30\n",
      "\n",
      "Epoch 00006: LearningRateScheduler setting learning rate to 0.001.\n",
      "3861/3861 [==============================] - 92s 24ms/step - loss: 0.0023 - mean_absolute_error: 0.0335 - val_loss: 0.0023 - val_mean_absolute_error: 0.0332\n"
     ]
    },
    {
     "name": "stderr",
     "output_type": "stream",
     "text": [
      "WARNING:absl:Found untraced functions such as multi_head_attention_layer_call_and_return_conditional_losses, multi_head_attention_layer_call_fn, dropout_layer_call_and_return_conditional_losses, dropout_layer_call_fn, dropout_1_layer_call_and_return_conditional_losses while saving (showing 5 of 45). These functions will not be directly callable after loading.\n"
     ]
    },
    {
     "name": "stdout",
     "output_type": "stream",
     "text": [
      "INFO:tensorflow:Assets written to: checkpoints/path_transformerk_goal_dropout_a/assets\n"
     ]
    },
    {
     "name": "stderr",
     "output_type": "stream",
     "text": [
      "INFO:tensorflow:Assets written to: checkpoints/path_transformerk_goal_dropout_a/assets\n"
     ]
    },
    {
     "name": "stdout",
     "output_type": "stream",
     "text": [
      "Epoch 7/30\n",
      "\n",
      "Epoch 00007: LearningRateScheduler setting learning rate to 0.001.\n",
      "3861/3861 [==============================] - 93s 24ms/step - loss: 0.0023 - mean_absolute_error: 0.0333 - val_loss: 0.0023 - val_mean_absolute_error: 0.0334\n",
      "Epoch 8/30\n",
      "\n",
      "Epoch 00008: LearningRateScheduler setting learning rate to 0.001.\n",
      "3861/3861 [==============================] - 92s 24ms/step - loss: 0.0023 - mean_absolute_error: 0.0331 - val_loss: 0.0028 - val_mean_absolute_error: 0.0371\n",
      "Epoch 9/30\n",
      "\n",
      "Epoch 00009: LearningRateScheduler setting learning rate to 0.001.\n",
      "3861/3861 [==============================] - 92s 24ms/step - loss: 0.0023 - mean_absolute_error: 0.0330 - val_loss: 0.0024 - val_mean_absolute_error: 0.0339\n",
      "Epoch 10/30\n",
      "\n",
      "Epoch 00010: LearningRateScheduler setting learning rate to 0.001.\n",
      "3861/3861 [==============================] - 93s 24ms/step - loss: 0.0023 - mean_absolute_error: 0.0329 - val_loss: 0.0028 - val_mean_absolute_error: 0.0367\n",
      "Epoch 11/30\n",
      "\n",
      "Epoch 00011: LearningRateScheduler setting learning rate to 0.001.\n",
      "3861/3861 [==============================] - 93s 24ms/step - loss: 0.0023 - mean_absolute_error: 0.0328 - val_loss: 0.0028 - val_mean_absolute_error: 0.0366\n",
      "Epoch 12/30\n",
      "\n",
      "Epoch 00012: LearningRateScheduler setting learning rate to 0.0001.\n",
      "3861/3861 [==============================] - 92s 24ms/step - loss: 0.0021 - mean_absolute_error: 0.0314 - val_loss: 0.0022 - val_mean_absolute_error: 0.0318\n"
     ]
    },
    {
     "name": "stderr",
     "output_type": "stream",
     "text": [
      "WARNING:absl:Found untraced functions such as multi_head_attention_layer_call_and_return_conditional_losses, multi_head_attention_layer_call_fn, dropout_layer_call_and_return_conditional_losses, dropout_layer_call_fn, dropout_1_layer_call_and_return_conditional_losses while saving (showing 5 of 45). These functions will not be directly callable after loading.\n"
     ]
    },
    {
     "name": "stdout",
     "output_type": "stream",
     "text": [
      "INFO:tensorflow:Assets written to: checkpoints/path_transformerk_goal_dropout_a/assets\n"
     ]
    },
    {
     "name": "stderr",
     "output_type": "stream",
     "text": [
      "INFO:tensorflow:Assets written to: checkpoints/path_transformerk_goal_dropout_a/assets\n"
     ]
    },
    {
     "name": "stdout",
     "output_type": "stream",
     "text": [
      "Epoch 13/30\n",
      "\n",
      "Epoch 00013: LearningRateScheduler setting learning rate to 0.0001.\n",
      "3861/3861 [==============================] - 91s 24ms/step - loss: 0.0021 - mean_absolute_error: 0.0313 - val_loss: 0.0021 - val_mean_absolute_error: 0.0315\n"
     ]
    },
    {
     "name": "stderr",
     "output_type": "stream",
     "text": [
      "WARNING:absl:Found untraced functions such as multi_head_attention_layer_call_and_return_conditional_losses, multi_head_attention_layer_call_fn, dropout_layer_call_and_return_conditional_losses, dropout_layer_call_fn, dropout_1_layer_call_and_return_conditional_losses while saving (showing 5 of 45). These functions will not be directly callable after loading.\n"
     ]
    },
    {
     "name": "stdout",
     "output_type": "stream",
     "text": [
      "INFO:tensorflow:Assets written to: checkpoints/path_transformerk_goal_dropout_a/assets\n"
     ]
    },
    {
     "name": "stderr",
     "output_type": "stream",
     "text": [
      "INFO:tensorflow:Assets written to: checkpoints/path_transformerk_goal_dropout_a/assets\n"
     ]
    },
    {
     "name": "stdout",
     "output_type": "stream",
     "text": [
      "Epoch 14/30\n",
      "\n",
      "Epoch 00014: LearningRateScheduler setting learning rate to 0.0001.\n",
      "3861/3861 [==============================] - 92s 24ms/step - loss: 0.0021 - mean_absolute_error: 0.0313 - val_loss: 0.0024 - val_mean_absolute_error: 0.0336\n",
      "Epoch 15/30\n",
      "\n",
      "Epoch 00015: LearningRateScheduler setting learning rate to 0.0001.\n",
      "3861/3861 [==============================] - 91s 24ms/step - loss: 0.0021 - mean_absolute_error: 0.0313 - val_loss: 0.0022 - val_mean_absolute_error: 0.0320\n",
      "Epoch 16/30\n",
      "\n",
      "Epoch 00016: LearningRateScheduler setting learning rate to 0.0001.\n",
      "3861/3861 [==============================] - 92s 24ms/step - loss: 0.0021 - mean_absolute_error: 0.0313 - val_loss: 0.0022 - val_mean_absolute_error: 0.0319\n",
      "Epoch 17/30\n",
      "\n",
      "Epoch 00017: LearningRateScheduler setting learning rate to 0.0001.\n",
      "3861/3861 [==============================] - 92s 24ms/step - loss: 0.0021 - mean_absolute_error: 0.0312 - val_loss: 0.0022 - val_mean_absolute_error: 0.0321\n",
      "Epoch 18/30\n",
      "\n",
      "Epoch 00018: LearningRateScheduler setting learning rate to 0.0001.\n",
      "3861/3861 [==============================] - 93s 24ms/step - loss: 0.0021 - mean_absolute_error: 0.0312 - val_loss: 0.0024 - val_mean_absolute_error: 0.0337\n",
      "Epoch 19/30\n",
      "\n",
      "Epoch 00019: LearningRateScheduler setting learning rate to 0.0001.\n",
      "3861/3861 [==============================] - 93s 24ms/step - loss: 0.0021 - mean_absolute_error: 0.0312 - val_loss: 0.0024 - val_mean_absolute_error: 0.0337\n",
      "Epoch 20/30\n",
      "\n",
      "Epoch 00020: LearningRateScheduler setting learning rate to 0.0001.\n",
      "3861/3861 [==============================] - 93s 24ms/step - loss: 0.0021 - mean_absolute_error: 0.0312 - val_loss: 0.0021 - val_mean_absolute_error: 0.0317\n",
      "Epoch 21/30\n",
      "\n",
      "Epoch 00021: LearningRateScheduler setting learning rate to 0.0001.\n",
      "3861/3861 [==============================] - 92s 24ms/step - loss: 0.0021 - mean_absolute_error: 0.0312 - val_loss: 0.0022 - val_mean_absolute_error: 0.0320\n",
      "Epoch 22/30\n",
      "\n",
      "Epoch 00022: LearningRateScheduler setting learning rate to 0.0001.\n",
      "3861/3861 [==============================] - 91s 23ms/step - loss: 0.0021 - mean_absolute_error: 0.0312 - val_loss: 0.0022 - val_mean_absolute_error: 0.0321\n",
      "Epoch 23/30\n",
      "\n",
      "Epoch 00023: LearningRateScheduler setting learning rate to 0.0001.\n",
      "3861/3861 [==============================] - 89s 23ms/step - loss: 0.0021 - mean_absolute_error: 0.0312 - val_loss: 0.0021 - val_mean_absolute_error: 0.0315\n",
      "Epoch 24/30\n",
      "\n",
      "Epoch 00024: LearningRateScheduler setting learning rate to 0.0001.\n",
      "3861/3861 [==============================] - 88s 23ms/step - loss: 0.0021 - mean_absolute_error: 0.0312 - val_loss: 0.0022 - val_mean_absolute_error: 0.0320\n",
      "Epoch 25/30\n",
      "\n",
      "Epoch 00025: LearningRateScheduler setting learning rate to 0.0001.\n",
      "3861/3861 [==============================] - 87s 23ms/step - loss: 0.0021 - mean_absolute_error: 0.0312 - val_loss: 0.0022 - val_mean_absolute_error: 0.0327\n",
      "Epoch 26/30\n",
      "\n",
      "Epoch 00026: LearningRateScheduler setting learning rate to 0.0001.\n",
      "3861/3861 [==============================] - 88s 23ms/step - loss: 0.0021 - mean_absolute_error: 0.0312 - val_loss: 0.0021 - val_mean_absolute_error: 0.0316\n",
      "Epoch 27/30\n",
      "\n",
      "Epoch 00027: LearningRateScheduler setting learning rate to 0.0001.\n",
      "3861/3861 [==============================] - 87s 23ms/step - loss: 0.0021 - mean_absolute_error: 0.0311 - val_loss: 0.0021 - val_mean_absolute_error: 0.0317\n",
      "Epoch 28/30\n",
      "\n",
      "Epoch 00028: LearningRateScheduler setting learning rate to 0.0001.\n",
      "3861/3861 [==============================] - 88s 23ms/step - loss: 0.0021 - mean_absolute_error: 0.0311 - val_loss: 0.0022 - val_mean_absolute_error: 0.0319\n",
      "Epoch 29/30\n",
      "\n",
      "Epoch 00029: LearningRateScheduler setting learning rate to 0.0001.\n",
      "3861/3861 [==============================] - 88s 23ms/step - loss: 0.0021 - mean_absolute_error: 0.0311 - val_loss: 0.0022 - val_mean_absolute_error: 0.0323\n",
      "Epoch 30/30\n",
      "\n",
      "Epoch 00030: LearningRateScheduler setting learning rate to 0.0001.\n",
      "3861/3861 [==============================] - 87s 22ms/step - loss: 0.0021 - mean_absolute_error: 0.0311 - val_loss: 0.0021 - val_mean_absolute_error: 0.0316\n"
     ]
    },
    {
     "name": "stderr",
     "output_type": "stream",
     "text": [
      "WARNING:absl:Found untraced functions such as multi_head_attention_layer_call_and_return_conditional_losses, multi_head_attention_layer_call_fn, dropout_layer_call_and_return_conditional_losses, dropout_layer_call_fn, dropout_1_layer_call_and_return_conditional_losses while saving (showing 5 of 45). These functions will not be directly callable after loading.\n"
     ]
    },
    {
     "name": "stdout",
     "output_type": "stream",
     "text": [
      "INFO:tensorflow:Assets written to: weights/path_transformerk_goal_dropout_a/assets\n"
     ]
    },
    {
     "name": "stderr",
     "output_type": "stream",
     "text": [
      "INFO:tensorflow:Assets written to: weights/path_transformerk_goal_dropout_a/assets\n"
     ]
    }
   ],
   "source": [
    "model_name = 'path_transformerk_goal_dropout_a'\n",
    "from src import transformer_k\n",
    "reload(transformer_k)\n",
    "reload(model_path)\n",
    "\n",
    "m = model_path.ModelPath(uses_goal=True)\n",
    "input_shape = train_data[0].shape\n",
    "input_shape = (input_shape[1], input_shape[2])\n",
    "model = transformer_k.build_model(\n",
    "    input_shape_goal,\n",
    "    head_size=64, # 256\n",
    "    num_heads=4, # 4\n",
    "    ff_dim=256, # 4\n",
    "    num_transformer_blocks=1, # 4\n",
    "    mlp_units=1, # [128]\n",
    "    mlp_dropout=0.4, # 0.4\n",
    "    dropout=0.3, # 0.25\n",
    "    time2vec_dim=3, # 3\n",
    "    bayesian_dropout=True,\n",
    ")\n",
    "\n",
    "history = m.train(train_data, eval_data,\n",
    "    train_goals=train_data[1],\n",
    "    eval_goals=eval_data[1],\n",
    "    model=model,\n",
    "    # model=None,\n",
    "    batch_size=256,\n",
    "    epochs=30,\n",
    "    learning_rate=1e-4,\n",
    "    learning_rate_scheduler=True,\n",
    "    checkpoints_path=f'checkpoints/{model_name}'\n",
    ")\n",
    "\n",
    "m.save(model_name)\n",
    "model = None\n",
    "m = None\n",
    "\n",
    "model_interface.save_history(model_name, history)"
   ]
  },
  {
   "cell_type": "code",
   "execution_count": 2,
   "metadata": {},
   "outputs": [
    {
     "name": "stdout",
     "output_type": "stream",
     "text": [
      "Compiling new model\n",
      "Epoch 1/30\n",
      "19305/19305 [==============================] - 43s 2ms/step - loss: 0.0043 - mean_absolute_error: 0.0408 - val_loss: 0.0042 - val_mean_absolute_error: 0.0405\n",
      "INFO:tensorflow:Assets written to: checkpoints/path_cnn_a/assets\n",
      "Epoch 2/30\n",
      "19305/19305 [==============================] - 42s 2ms/step - loss: 0.0042 - mean_absolute_error: 0.0400 - val_loss: 0.0042 - val_mean_absolute_error: 0.0400\n",
      "INFO:tensorflow:Assets written to: checkpoints/path_cnn_a/assets\n",
      "Epoch 3/30\n",
      "19305/19305 [==============================] - 41s 2ms/step - loss: 0.0041 - mean_absolute_error: 0.0397 - val_loss: 0.0041 - val_mean_absolute_error: 0.0397\n",
      "INFO:tensorflow:Assets written to: checkpoints/path_cnn_a/assets\n",
      "Epoch 4/30\n",
      "19305/19305 [==============================] - 41s 2ms/step - loss: 0.0041 - mean_absolute_error: 0.0396 - val_loss: 0.0041 - val_mean_absolute_error: 0.0396\n",
      "INFO:tensorflow:Assets written to: checkpoints/path_cnn_a/assets\n",
      "Epoch 5/30\n",
      "19305/19305 [==============================] - 41s 2ms/step - loss: 0.0041 - mean_absolute_error: 0.0395 - val_loss: 0.0041 - val_mean_absolute_error: 0.0395\n",
      "INFO:tensorflow:Assets written to: checkpoints/path_cnn_a/assets\n",
      "Epoch 6/30\n",
      "19305/19305 [==============================] - 42s 2ms/step - loss: 0.0041 - mean_absolute_error: 0.0395 - val_loss: 0.0041 - val_mean_absolute_error: 0.0395\n",
      "INFO:tensorflow:Assets written to: checkpoints/path_cnn_a/assets\n",
      "Epoch 7/30\n",
      "19305/19305 [==============================] - 42s 2ms/step - loss: 0.0041 - mean_absolute_error: 0.0394 - val_loss: 0.0041 - val_mean_absolute_error: 0.0395\n",
      "INFO:tensorflow:Assets written to: checkpoints/path_cnn_a/assets\n",
      "Epoch 8/30\n",
      "19305/19305 [==============================] - 42s 2ms/step - loss: 0.0041 - mean_absolute_error: 0.0394 - val_loss: 0.0041 - val_mean_absolute_error: 0.0396\n",
      "Epoch 9/30\n",
      "19305/19305 [==============================] - 42s 2ms/step - loss: 0.0041 - mean_absolute_error: 0.0394 - val_loss: 0.0041 - val_mean_absolute_error: 0.0395\n",
      "Epoch 10/30\n",
      "19305/19305 [==============================] - 42s 2ms/step - loss: 0.0041 - mean_absolute_error: 0.0394 - val_loss: 0.0041 - val_mean_absolute_error: 0.0396\n",
      "Epoch 11/30\n",
      "19305/19305 [==============================] - 43s 2ms/step - loss: 0.0041 - mean_absolute_error: 0.0394 - val_loss: 0.0041 - val_mean_absolute_error: 0.0395\n",
      "Epoch 12/30\n",
      "19305/19305 [==============================] - 43s 2ms/step - loss: 0.0041 - mean_absolute_error: 0.0394 - val_loss: 0.0041 - val_mean_absolute_error: 0.0394\n",
      "INFO:tensorflow:Assets written to: checkpoints/path_cnn_a/assets\n",
      "Epoch 13/30\n",
      "19305/19305 [==============================] - 42s 2ms/step - loss: 0.0041 - mean_absolute_error: 0.0394 - val_loss: 0.0041 - val_mean_absolute_error: 0.0395\n",
      "Epoch 14/30\n",
      "19305/19305 [==============================] - 42s 2ms/step - loss: 0.0041 - mean_absolute_error: 0.0393 - val_loss: 0.0041 - val_mean_absolute_error: 0.0395\n",
      "Epoch 15/30\n",
      "19305/19305 [==============================] - 41s 2ms/step - loss: 0.0041 - mean_absolute_error: 0.0393 - val_loss: 0.0041 - val_mean_absolute_error: 0.0396\n",
      "Epoch 16/30\n",
      "19305/19305 [==============================] - 40s 2ms/step - loss: 0.0041 - mean_absolute_error: 0.0393 - val_loss: 0.0041 - val_mean_absolute_error: 0.0395\n",
      "Epoch 17/30\n",
      "19305/19305 [==============================] - 39s 2ms/step - loss: 0.0041 - mean_absolute_error: 0.0393 - val_loss: 0.0041 - val_mean_absolute_error: 0.0393\n",
      "INFO:tensorflow:Assets written to: checkpoints/path_cnn_a/assets\n",
      "Epoch 18/30\n",
      "19305/19305 [==============================] - 39s 2ms/step - loss: 0.0041 - mean_absolute_error: 0.0393 - val_loss: 0.0041 - val_mean_absolute_error: 0.0394\n",
      "Epoch 19/30\n",
      "19305/19305 [==============================] - 40s 2ms/step - loss: 0.0041 - mean_absolute_error: 0.0393 - val_loss: 0.0041 - val_mean_absolute_error: 0.0394\n",
      "Epoch 20/30\n",
      "19305/19305 [==============================] - 39s 2ms/step - loss: 0.0041 - mean_absolute_error: 0.0393 - val_loss: 0.0041 - val_mean_absolute_error: 0.0394\n",
      "Epoch 21/30\n",
      "19305/19305 [==============================] - 40s 2ms/step - loss: 0.0041 - mean_absolute_error: 0.0393 - val_loss: 0.0041 - val_mean_absolute_error: 0.0395\n",
      "Epoch 22/30\n",
      "19305/19305 [==============================] - 42s 2ms/step - loss: 0.0041 - mean_absolute_error: 0.0393 - val_loss: 0.0041 - val_mean_absolute_error: 0.0394\n",
      "Epoch 23/30\n",
      "19305/19305 [==============================] - 43s 2ms/step - loss: 0.0041 - mean_absolute_error: 0.0393 - val_loss: 0.0040 - val_mean_absolute_error: 0.0393\n",
      "INFO:tensorflow:Assets written to: checkpoints/path_cnn_a/assets\n",
      "Epoch 24/30\n",
      "19305/19305 [==============================] - 42s 2ms/step - loss: 0.0041 - mean_absolute_error: 0.0393 - val_loss: 0.0040 - val_mean_absolute_error: 0.0393\n",
      "INFO:tensorflow:Assets written to: checkpoints/path_cnn_a/assets\n",
      "Epoch 25/30\n",
      "19305/19305 [==============================] - 42s 2ms/step - loss: 0.0041 - mean_absolute_error: 0.0393 - val_loss: 0.0041 - val_mean_absolute_error: 0.0397\n",
      "Epoch 26/30\n",
      "19305/19305 [==============================] - 42s 2ms/step - loss: 0.0041 - mean_absolute_error: 0.0393 - val_loss: 0.0041 - val_mean_absolute_error: 0.0395\n",
      "Epoch 27/30\n",
      "19305/19305 [==============================] - 43s 2ms/step - loss: 0.0041 - mean_absolute_error: 0.0393 - val_loss: 0.0040 - val_mean_absolute_error: 0.0393\n",
      "Epoch 28/30\n",
      "19305/19305 [==============================] - 43s 2ms/step - loss: 0.0041 - mean_absolute_error: 0.0392 - val_loss: 0.0041 - val_mean_absolute_error: 0.0393\n",
      "Epoch 29/30\n",
      "19305/19305 [==============================] - 42s 2ms/step - loss: 0.0041 - mean_absolute_error: 0.0392 - val_loss: 0.0041 - val_mean_absolute_error: 0.0393\n",
      "Epoch 30/30\n",
      "19305/19305 [==============================] - 43s 2ms/step - loss: 0.0041 - mean_absolute_error: 0.0392 - val_loss: 0.0040 - val_mean_absolute_error: 0.0393\n",
      "INFO:tensorflow:Assets written to: weights/path_cnn_a/assets\n"
     ]
    }
   ],
   "source": [
    "model_name = 'path_cnn_a'\n",
    "m = model_path.ModelPath(uses_goal=False)\n",
    "history = m.train(train_data, eval_data,\n",
    "    model=models_path.simple_cnn(train_data),\n",
    "    batch_size=256,\n",
    "    epochs=30,\n",
    "    checkpoints_path=f'checkpoints/{model_name}',\n",
    "    learning_rate=1e-4,\n",
    ")\n",
    "m.save(model_name)\n",
    "m = None\n",
    "model_interface.save_history(model_name, history)"
   ]
  },
  {
   "cell_type": "code",
   "execution_count": 4,
   "metadata": {},
   "outputs": [
    {
     "name": "stdout",
     "output_type": "stream",
     "text": [
      "Compiling new model\n",
      "Epoch 1/30\n",
      "\n",
      "Epoch 00001: LearningRateScheduler setting learning rate to 0.001.\n",
      "19305/19305 [==============================] - 45s 2ms/step - loss: 0.0048 - mean_absolute_error: 0.0444 - val_loss: 0.0049 - val_mean_absolute_error: 0.0451\n",
      "INFO:tensorflow:Assets written to: checkpoints/path_cnn_droput_a/assets\n",
      "Epoch 2/30\n",
      "\n",
      "Epoch 00002: LearningRateScheduler setting learning rate to 0.001.\n",
      "19305/19305 [==============================] - 45s 2ms/step - loss: 0.0048 - mean_absolute_error: 0.0441 - val_loss: 0.0048 - val_mean_absolute_error: 0.0446\n",
      "INFO:tensorflow:Assets written to: checkpoints/path_cnn_droput_a/assets\n",
      "Epoch 3/30\n",
      "\n",
      "Epoch 00003: LearningRateScheduler setting learning rate to 0.001.\n",
      "19305/19305 [==============================] - 43s 2ms/step - loss: 0.0048 - mean_absolute_error: 0.0440 - val_loss: 0.0048 - val_mean_absolute_error: 0.0446\n",
      "Epoch 4/30\n",
      "\n",
      "Epoch 00004: LearningRateScheduler setting learning rate to 0.001.\n",
      "19305/19305 [==============================] - 44s 2ms/step - loss: 0.0047 - mean_absolute_error: 0.0439 - val_loss: 0.0047 - val_mean_absolute_error: 0.0437\n",
      "INFO:tensorflow:Assets written to: checkpoints/path_cnn_droput_a/assets\n",
      "Epoch 5/30\n",
      "\n",
      "Epoch 00005: LearningRateScheduler setting learning rate to 0.001.\n",
      "19305/19305 [==============================] - 43s 2ms/step - loss: 0.0047 - mean_absolute_error: 0.0439 - val_loss: 0.0047 - val_mean_absolute_error: 0.0436\n",
      "INFO:tensorflow:Assets written to: checkpoints/path_cnn_droput_a/assets\n",
      "Epoch 6/30\n",
      "\n",
      "Epoch 00006: LearningRateScheduler setting learning rate to 0.001.\n",
      "19305/19305 [==============================] - 44s 2ms/step - loss: 0.0047 - mean_absolute_error: 0.0439 - val_loss: 0.0048 - val_mean_absolute_error: 0.0443\n",
      "Epoch 7/30\n",
      "\n",
      "Epoch 00007: LearningRateScheduler setting learning rate to 0.0001.\n",
      "19305/19305 [==============================] - 44s 2ms/step - loss: 0.0046 - mean_absolute_error: 0.0428 - val_loss: 0.0046 - val_mean_absolute_error: 0.0429\n",
      "INFO:tensorflow:Assets written to: checkpoints/path_cnn_droput_a/assets\n",
      "Epoch 8/30\n",
      "\n",
      "Epoch 00008: LearningRateScheduler setting learning rate to 0.0001.\n",
      "19305/19305 [==============================] - 44s 2ms/step - loss: 0.0046 - mean_absolute_error: 0.0428 - val_loss: 0.0046 - val_mean_absolute_error: 0.0430\n",
      "Epoch 9/30\n",
      "\n",
      "Epoch 00009: LearningRateScheduler setting learning rate to 0.0001.\n",
      "19305/19305 [==============================] - 44s 2ms/step - loss: 0.0046 - mean_absolute_error: 0.0428 - val_loss: 0.0046 - val_mean_absolute_error: 0.0429\n",
      "Epoch 10/30\n",
      "\n",
      "Epoch 00010: LearningRateScheduler setting learning rate to 0.0001.\n",
      "19305/19305 [==============================] - 45s 2ms/step - loss: 0.0046 - mean_absolute_error: 0.0428 - val_loss: 0.0046 - val_mean_absolute_error: 0.0428\n",
      "INFO:tensorflow:Assets written to: checkpoints/path_cnn_droput_a/assets\n",
      "Epoch 11/30\n",
      "\n",
      "Epoch 00011: LearningRateScheduler setting learning rate to 0.0001.\n",
      "19305/19305 [==============================] - 45s 2ms/step - loss: 0.0046 - mean_absolute_error: 0.0428 - val_loss: 0.0046 - val_mean_absolute_error: 0.0428\n",
      "INFO:tensorflow:Assets written to: checkpoints/path_cnn_droput_a/assets\n",
      "Epoch 12/30\n",
      "\n",
      "Epoch 00012: LearningRateScheduler setting learning rate to 0.0001.\n",
      "19305/19305 [==============================] - 44s 2ms/step - loss: 0.0046 - mean_absolute_error: 0.0428 - val_loss: 0.0046 - val_mean_absolute_error: 0.0429\n",
      "Epoch 13/30\n",
      "\n",
      "Epoch 00013: LearningRateScheduler setting learning rate to 0.0001.\n",
      "19305/19305 [==============================] - 45s 2ms/step - loss: 0.0046 - mean_absolute_error: 0.0428 - val_loss: 0.0046 - val_mean_absolute_error: 0.0429\n",
      "Epoch 14/30\n",
      "\n",
      "Epoch 00014: LearningRateScheduler setting learning rate to 0.0001.\n",
      "19305/19305 [==============================] - 45s 2ms/step - loss: 0.0046 - mean_absolute_error: 0.0428 - val_loss: 0.0046 - val_mean_absolute_error: 0.0429\n",
      "Epoch 15/30\n",
      "\n",
      "Epoch 00015: LearningRateScheduler setting learning rate to 0.0001.\n",
      "19305/19305 [==============================] - 45s 2ms/step - loss: 0.0046 - mean_absolute_error: 0.0428 - val_loss: 0.0046 - val_mean_absolute_error: 0.0430\n",
      "Epoch 16/30\n",
      "\n",
      "Epoch 00016: LearningRateScheduler setting learning rate to 0.0001.\n",
      "19305/19305 [==============================] - 44s 2ms/step - loss: 0.0046 - mean_absolute_error: 0.0428 - val_loss: 0.0046 - val_mean_absolute_error: 0.0428\n",
      "Epoch 17/30\n",
      "\n",
      "Epoch 00017: LearningRateScheduler setting learning rate to 0.0001.\n",
      "19305/19305 [==============================] - 44s 2ms/step - loss: 0.0046 - mean_absolute_error: 0.0428 - val_loss: 0.0046 - val_mean_absolute_error: 0.0428\n",
      "Epoch 18/30\n",
      "\n",
      "Epoch 00018: LearningRateScheduler setting learning rate to 0.0001.\n",
      "19305/19305 [==============================] - 44s 2ms/step - loss: 0.0046 - mean_absolute_error: 0.0428 - val_loss: 0.0046 - val_mean_absolute_error: 0.0429\n",
      "Epoch 19/30\n",
      "\n",
      "Epoch 00019: LearningRateScheduler setting learning rate to 0.0001.\n",
      "19305/19305 [==============================] - 46s 2ms/step - loss: 0.0046 - mean_absolute_error: 0.0428 - val_loss: 0.0046 - val_mean_absolute_error: 0.0429\n",
      "Epoch 20/30\n",
      "\n",
      "Epoch 00020: LearningRateScheduler setting learning rate to 0.0001.\n",
      "19305/19305 [==============================] - 46s 2ms/step - loss: 0.0046 - mean_absolute_error: 0.0427 - val_loss: 0.0046 - val_mean_absolute_error: 0.0428\n",
      "Epoch 21/30\n",
      "\n",
      "Epoch 00021: LearningRateScheduler setting learning rate to 0.0001.\n",
      "19305/19305 [==============================] - 45s 2ms/step - loss: 0.0046 - mean_absolute_error: 0.0428 - val_loss: 0.0046 - val_mean_absolute_error: 0.0429\n",
      "Epoch 22/30\n",
      "\n",
      "Epoch 00022: LearningRateScheduler setting learning rate to 0.0001.\n",
      "19305/19305 [==============================] - 45s 2ms/step - loss: 0.0046 - mean_absolute_error: 0.0428 - val_loss: 0.0046 - val_mean_absolute_error: 0.0430\n",
      "Epoch 23/30\n",
      "\n",
      "Epoch 00023: LearningRateScheduler setting learning rate to 0.0001.\n",
      "19305/19305 [==============================] - 44s 2ms/step - loss: 0.0046 - mean_absolute_error: 0.0427 - val_loss: 0.0046 - val_mean_absolute_error: 0.0430\n",
      "Epoch 24/30\n",
      "\n",
      "Epoch 00024: LearningRateScheduler setting learning rate to 0.0001.\n",
      "19305/19305 [==============================] - 44s 2ms/step - loss: 0.0046 - mean_absolute_error: 0.0427 - val_loss: 0.0046 - val_mean_absolute_error: 0.0428\n",
      "Epoch 25/30\n",
      "\n",
      "Epoch 00025: LearningRateScheduler setting learning rate to 0.0001.\n",
      "19305/19305 [==============================] - 44s 2ms/step - loss: 0.0046 - mean_absolute_error: 0.0427 - val_loss: 0.0046 - val_mean_absolute_error: 0.0431\n",
      "Epoch 26/30\n",
      "\n",
      "Epoch 00026: LearningRateScheduler setting learning rate to 0.0001.\n",
      "19305/19305 [==============================] - 45s 2ms/step - loss: 0.0046 - mean_absolute_error: 0.0427 - val_loss: 0.0046 - val_mean_absolute_error: 0.0429\n",
      "Epoch 27/30\n",
      "\n",
      "Epoch 00027: LearningRateScheduler setting learning rate to 0.0001.\n",
      "19305/19305 [==============================] - 44s 2ms/step - loss: 0.0046 - mean_absolute_error: 0.0428 - val_loss: 0.0045 - val_mean_absolute_error: 0.0428\n",
      "Epoch 28/30\n",
      "\n",
      "Epoch 00028: LearningRateScheduler setting learning rate to 0.0001.\n",
      "19305/19305 [==============================] - 45s 2ms/step - loss: 0.0046 - mean_absolute_error: 0.0427 - val_loss: 0.0045 - val_mean_absolute_error: 0.0429\n",
      "Epoch 29/30\n",
      "\n",
      "Epoch 00029: LearningRateScheduler setting learning rate to 0.0001.\n",
      "19305/19305 [==============================] - 46s 2ms/step - loss: 0.0046 - mean_absolute_error: 0.0427 - val_loss: 0.0046 - val_mean_absolute_error: 0.0429\n",
      "Epoch 30/30\n",
      "\n",
      "Epoch 00030: LearningRateScheduler setting learning rate to 0.0001.\n",
      "19305/19305 [==============================] - 44s 2ms/step - loss: 0.0046 - mean_absolute_error: 0.0427 - val_loss: 0.0046 - val_mean_absolute_error: 0.0429\n",
      "INFO:tensorflow:Assets written to: weights/path_cnn_droput_a/assets\n"
     ]
    },
    {
     "ename": "TypeError",
     "evalue": "Object of type float32 is not JSON serializable",
     "output_type": "error",
     "traceback": [
      "\u001b[0;31m---------------------------------------------------------------------------\u001b[0m",
      "\u001b[0;31mTypeError\u001b[0m                                 Traceback (most recent call last)",
      "\u001b[0;32m<ipython-input-4-72ccfc944d31>\u001b[0m in \u001b[0;36m<module>\u001b[0;34m\u001b[0m\n\u001b[1;32m     19\u001b[0m \u001b[0mm\u001b[0m \u001b[0;34m=\u001b[0m \u001b[0;32mNone\u001b[0m\u001b[0;34m\u001b[0m\u001b[0;34m\u001b[0m\u001b[0m\n\u001b[1;32m     20\u001b[0m \u001b[0mmodel\u001b[0m \u001b[0;34m=\u001b[0m \u001b[0;32mNone\u001b[0m\u001b[0;34m\u001b[0m\u001b[0;34m\u001b[0m\u001b[0m\n\u001b[0;32m---> 21\u001b[0;31m \u001b[0mmodel_interface\u001b[0m\u001b[0;34m.\u001b[0m\u001b[0msave_history\u001b[0m\u001b[0;34m(\u001b[0m\u001b[0mmodel_name\u001b[0m\u001b[0;34m,\u001b[0m \u001b[0mhistory\u001b[0m\u001b[0;34m)\u001b[0m\u001b[0;34m\u001b[0m\u001b[0;34m\u001b[0m\u001b[0m\n\u001b[0m",
      "\u001b[0;32m~/Documents/trajectory-prediction/src/model_interface.py\u001b[0m in \u001b[0;36msave_history\u001b[0;34m(filename, history)\u001b[0m\n\u001b[1;32m     63\u001b[0m \u001b[0;34m\u001b[0m\u001b[0m\n\u001b[1;32m     64\u001b[0m     \u001b[0;32mwith\u001b[0m \u001b[0mopen\u001b[0m\u001b[0;34m(\u001b[0m\u001b[0mpath\u001b[0m\u001b[0;34m,\u001b[0m \u001b[0;34m'w'\u001b[0m\u001b[0;34m)\u001b[0m \u001b[0;32mas\u001b[0m \u001b[0mf\u001b[0m\u001b[0;34m:\u001b[0m\u001b[0;34m\u001b[0m\u001b[0;34m\u001b[0m\u001b[0m\n\u001b[0;32m---> 65\u001b[0;31m         \u001b[0mjson_s\u001b[0m \u001b[0;34m=\u001b[0m \u001b[0mjson\u001b[0m\u001b[0;34m.\u001b[0m\u001b[0mdumps\u001b[0m\u001b[0;34m(\u001b[0m\u001b[0mhistory\u001b[0m\u001b[0;34m.\u001b[0m\u001b[0mhistory\u001b[0m\u001b[0;34m)\u001b[0m\u001b[0;34m\u001b[0m\u001b[0;34m\u001b[0m\u001b[0m\n\u001b[0m\u001b[1;32m     66\u001b[0m         \u001b[0mf\u001b[0m\u001b[0;34m.\u001b[0m\u001b[0mwrite\u001b[0m\u001b[0;34m(\u001b[0m\u001b[0mjson_s\u001b[0m\u001b[0;34m)\u001b[0m\u001b[0;34m\u001b[0m\u001b[0;34m\u001b[0m\u001b[0m\n\u001b[1;32m     67\u001b[0m \u001b[0;34m\u001b[0m\u001b[0m\n",
      "\u001b[0;32m/usr/lib/python3.8/json/__init__.py\u001b[0m in \u001b[0;36mdumps\u001b[0;34m(obj, skipkeys, ensure_ascii, check_circular, allow_nan, cls, indent, separators, default, sort_keys, **kw)\u001b[0m\n\u001b[1;32m    229\u001b[0m         \u001b[0mcls\u001b[0m \u001b[0;32mis\u001b[0m \u001b[0;32mNone\u001b[0m \u001b[0;32mand\u001b[0m \u001b[0mindent\u001b[0m \u001b[0;32mis\u001b[0m \u001b[0;32mNone\u001b[0m \u001b[0;32mand\u001b[0m \u001b[0mseparators\u001b[0m \u001b[0;32mis\u001b[0m \u001b[0;32mNone\u001b[0m \u001b[0;32mand\u001b[0m\u001b[0;34m\u001b[0m\u001b[0;34m\u001b[0m\u001b[0m\n\u001b[1;32m    230\u001b[0m         default is None and not sort_keys and not kw):\n\u001b[0;32m--> 231\u001b[0;31m         \u001b[0;32mreturn\u001b[0m \u001b[0m_default_encoder\u001b[0m\u001b[0;34m.\u001b[0m\u001b[0mencode\u001b[0m\u001b[0;34m(\u001b[0m\u001b[0mobj\u001b[0m\u001b[0;34m)\u001b[0m\u001b[0;34m\u001b[0m\u001b[0;34m\u001b[0m\u001b[0m\n\u001b[0m\u001b[1;32m    232\u001b[0m     \u001b[0;32mif\u001b[0m \u001b[0mcls\u001b[0m \u001b[0;32mis\u001b[0m \u001b[0;32mNone\u001b[0m\u001b[0;34m:\u001b[0m\u001b[0;34m\u001b[0m\u001b[0;34m\u001b[0m\u001b[0m\n\u001b[1;32m    233\u001b[0m         \u001b[0mcls\u001b[0m \u001b[0;34m=\u001b[0m \u001b[0mJSONEncoder\u001b[0m\u001b[0;34m\u001b[0m\u001b[0;34m\u001b[0m\u001b[0m\n",
      "\u001b[0;32m/usr/lib/python3.8/json/encoder.py\u001b[0m in \u001b[0;36mencode\u001b[0;34m(self, o)\u001b[0m\n\u001b[1;32m    197\u001b[0m         \u001b[0;31m# exceptions aren't as detailed.  The list call should be roughly\u001b[0m\u001b[0;34m\u001b[0m\u001b[0;34m\u001b[0m\u001b[0;34m\u001b[0m\u001b[0m\n\u001b[1;32m    198\u001b[0m         \u001b[0;31m# equivalent to the PySequence_Fast that ''.join() would do.\u001b[0m\u001b[0;34m\u001b[0m\u001b[0;34m\u001b[0m\u001b[0;34m\u001b[0m\u001b[0m\n\u001b[0;32m--> 199\u001b[0;31m         \u001b[0mchunks\u001b[0m \u001b[0;34m=\u001b[0m \u001b[0mself\u001b[0m\u001b[0;34m.\u001b[0m\u001b[0miterencode\u001b[0m\u001b[0;34m(\u001b[0m\u001b[0mo\u001b[0m\u001b[0;34m,\u001b[0m \u001b[0m_one_shot\u001b[0m\u001b[0;34m=\u001b[0m\u001b[0;32mTrue\u001b[0m\u001b[0;34m)\u001b[0m\u001b[0;34m\u001b[0m\u001b[0;34m\u001b[0m\u001b[0m\n\u001b[0m\u001b[1;32m    200\u001b[0m         \u001b[0;32mif\u001b[0m \u001b[0;32mnot\u001b[0m \u001b[0misinstance\u001b[0m\u001b[0;34m(\u001b[0m\u001b[0mchunks\u001b[0m\u001b[0;34m,\u001b[0m \u001b[0;34m(\u001b[0m\u001b[0mlist\u001b[0m\u001b[0;34m,\u001b[0m \u001b[0mtuple\u001b[0m\u001b[0;34m)\u001b[0m\u001b[0;34m)\u001b[0m\u001b[0;34m:\u001b[0m\u001b[0;34m\u001b[0m\u001b[0;34m\u001b[0m\u001b[0m\n\u001b[1;32m    201\u001b[0m             \u001b[0mchunks\u001b[0m \u001b[0;34m=\u001b[0m \u001b[0mlist\u001b[0m\u001b[0;34m(\u001b[0m\u001b[0mchunks\u001b[0m\u001b[0;34m)\u001b[0m\u001b[0;34m\u001b[0m\u001b[0;34m\u001b[0m\u001b[0m\n",
      "\u001b[0;32m/usr/lib/python3.8/json/encoder.py\u001b[0m in \u001b[0;36miterencode\u001b[0;34m(self, o, _one_shot)\u001b[0m\n\u001b[1;32m    255\u001b[0m                 \u001b[0mself\u001b[0m\u001b[0;34m.\u001b[0m\u001b[0mkey_separator\u001b[0m\u001b[0;34m,\u001b[0m \u001b[0mself\u001b[0m\u001b[0;34m.\u001b[0m\u001b[0mitem_separator\u001b[0m\u001b[0;34m,\u001b[0m \u001b[0mself\u001b[0m\u001b[0;34m.\u001b[0m\u001b[0msort_keys\u001b[0m\u001b[0;34m,\u001b[0m\u001b[0;34m\u001b[0m\u001b[0;34m\u001b[0m\u001b[0m\n\u001b[1;32m    256\u001b[0m                 self.skipkeys, _one_shot)\n\u001b[0;32m--> 257\u001b[0;31m         \u001b[0;32mreturn\u001b[0m \u001b[0m_iterencode\u001b[0m\u001b[0;34m(\u001b[0m\u001b[0mo\u001b[0m\u001b[0;34m,\u001b[0m \u001b[0;36m0\u001b[0m\u001b[0;34m)\u001b[0m\u001b[0;34m\u001b[0m\u001b[0;34m\u001b[0m\u001b[0m\n\u001b[0m\u001b[1;32m    258\u001b[0m \u001b[0;34m\u001b[0m\u001b[0m\n\u001b[1;32m    259\u001b[0m def _make_iterencode(markers, _default, _encoder, _indent, _floatstr,\n",
      "\u001b[0;32m/usr/lib/python3.8/json/encoder.py\u001b[0m in \u001b[0;36mdefault\u001b[0;34m(self, o)\u001b[0m\n\u001b[1;32m    177\u001b[0m \u001b[0;34m\u001b[0m\u001b[0m\n\u001b[1;32m    178\u001b[0m         \"\"\"\n\u001b[0;32m--> 179\u001b[0;31m         raise TypeError(f'Object of type {o.__class__.__name__} '\n\u001b[0m\u001b[1;32m    180\u001b[0m                         f'is not JSON serializable')\n\u001b[1;32m    181\u001b[0m \u001b[0;34m\u001b[0m\u001b[0m\n",
      "\u001b[0;31mTypeError\u001b[0m: Object of type float32 is not JSON serializable"
     ]
    }
   ],
   "source": [
    "model_name = 'path_cnn_droput_a'\n",
    "m = model_path.ModelPath(uses_goal=False)\n",
    "\n",
    "model = models_path.simple_cnn(\n",
    "    input_shape,\n",
    "    use_dropout=True,\n",
    "    dropout_rate=0.4\n",
    "    )\n",
    "\n",
    "history = m.train(train_data, eval_data,\n",
    "    model=model,\n",
    "    batch_size=256,\n",
    "    epochs=30,\n",
    "    checkpoints_path=f'checkpoints/{model_name}',\n",
    "    learning_rate=1e-4,\n",
    "    learning_rate_scheduler=True,\n",
    ")\n",
    "m.save(model_name)\n",
    "m = None\n",
    "model = None\n",
    "model_interface.save_history(model_name, history)"
   ]
  },
  {
   "cell_type": "code",
   "execution_count": 3,
   "metadata": {},
   "outputs": [
    {
     "name": "stdout",
     "output_type": "stream",
     "text": [
      "Compiling new model\n",
      "Epoch 1/30\n",
      "\n",
      "Epoch 00001: LearningRateScheduler setting learning rate to 0.001.\n",
      "3861/3861 [==============================] - 12s 2ms/step - loss: 0.0023 - mean_absolute_error: 0.0330 - val_loss: 0.0022 - val_mean_absolute_error: 0.0324\n",
      "INFO:tensorflow:Assets written to: checkpoints/path_cnn_goal_a/assets\n",
      "Epoch 2/30\n",
      "\n",
      "Epoch 00002: LearningRateScheduler setting learning rate to 0.001.\n",
      "3861/3861 [==============================] - 10s 2ms/step - loss: 0.0021 - mean_absolute_error: 0.0317 - val_loss: 0.0022 - val_mean_absolute_error: 0.0319\n",
      "INFO:tensorflow:Assets written to: checkpoints/path_cnn_goal_a/assets\n",
      "Epoch 3/30\n",
      "\n",
      "Epoch 00003: LearningRateScheduler setting learning rate to 0.001.\n",
      "3861/3861 [==============================] - 9s 2ms/step - loss: 0.0021 - mean_absolute_error: 0.0314 - val_loss: 0.0021 - val_mean_absolute_error: 0.0314\n",
      "INFO:tensorflow:Assets written to: checkpoints/path_cnn_goal_a/assets\n",
      "Epoch 4/30\n",
      "\n",
      "Epoch 00004: LearningRateScheduler setting learning rate to 0.001.\n",
      "3861/3861 [==============================] - 9s 2ms/step - loss: 0.0021 - mean_absolute_error: 0.0313 - val_loss: 0.0021 - val_mean_absolute_error: 0.0315\n",
      "Epoch 5/30\n",
      "\n",
      "Epoch 00005: LearningRateScheduler setting learning rate to 0.001.\n",
      "3861/3861 [==============================] - 9s 2ms/step - loss: 0.0021 - mean_absolute_error: 0.0312 - val_loss: 0.0021 - val_mean_absolute_error: 0.0314\n",
      "Epoch 6/30\n",
      "\n",
      "Epoch 00006: LearningRateScheduler setting learning rate to 0.001.\n",
      "3861/3861 [==============================] - 9s 2ms/step - loss: 0.0021 - mean_absolute_error: 0.0312 - val_loss: 0.0021 - val_mean_absolute_error: 0.0314\n",
      "INFO:tensorflow:Assets written to: checkpoints/path_cnn_goal_a/assets\n",
      "Epoch 7/30\n",
      "\n",
      "Epoch 00007: LearningRateScheduler setting learning rate to 0.0001.\n",
      "3861/3861 [==============================] - 9s 2ms/step - loss: 0.0020 - mean_absolute_error: 0.0306 - val_loss: 0.0021 - val_mean_absolute_error: 0.0308\n",
      "INFO:tensorflow:Assets written to: checkpoints/path_cnn_goal_a/assets\n",
      "Epoch 8/30\n",
      "\n",
      "Epoch 00008: LearningRateScheduler setting learning rate to 0.0001.\n",
      "3861/3861 [==============================] - 9s 2ms/step - loss: 0.0020 - mean_absolute_error: 0.0305 - val_loss: 0.0021 - val_mean_absolute_error: 0.0308\n",
      "Epoch 9/30\n",
      "\n",
      "Epoch 00009: LearningRateScheduler setting learning rate to 0.0001.\n",
      "3861/3861 [==============================] - 9s 2ms/step - loss: 0.0020 - mean_absolute_error: 0.0305 - val_loss: 0.0021 - val_mean_absolute_error: 0.0308\n",
      "Epoch 10/30\n",
      "\n",
      "Epoch 00010: LearningRateScheduler setting learning rate to 0.0001.\n",
      "3861/3861 [==============================] - 9s 2ms/step - loss: 0.0020 - mean_absolute_error: 0.0305 - val_loss: 0.0020 - val_mean_absolute_error: 0.0308\n",
      "INFO:tensorflow:Assets written to: checkpoints/path_cnn_goal_a/assets\n",
      "Epoch 11/30\n",
      "\n",
      "Epoch 00011: LearningRateScheduler setting learning rate to 0.0001.\n",
      "3861/3861 [==============================] - 9s 2ms/step - loss: 0.0020 - mean_absolute_error: 0.0305 - val_loss: 0.0020 - val_mean_absolute_error: 0.0308\n",
      "INFO:tensorflow:Assets written to: checkpoints/path_cnn_goal_a/assets\n",
      "Epoch 12/30\n",
      "\n",
      "Epoch 00012: LearningRateScheduler setting learning rate to 0.0001.\n",
      "3861/3861 [==============================] - 9s 2ms/step - loss: 0.0020 - mean_absolute_error: 0.0305 - val_loss: 0.0020 - val_mean_absolute_error: 0.0307\n",
      "INFO:tensorflow:Assets written to: checkpoints/path_cnn_goal_a/assets\n",
      "Epoch 13/30\n",
      "\n",
      "Epoch 00013: LearningRateScheduler setting learning rate to 0.0001.\n",
      "3861/3861 [==============================] - 9s 2ms/step - loss: 0.0020 - mean_absolute_error: 0.0305 - val_loss: 0.0020 - val_mean_absolute_error: 0.0308\n",
      "Epoch 14/30\n",
      "\n",
      "Epoch 00014: LearningRateScheduler setting learning rate to 0.0001.\n",
      "3861/3861 [==============================] - 9s 2ms/step - loss: 0.0020 - mean_absolute_error: 0.0305 - val_loss: 0.0020 - val_mean_absolute_error: 0.0307\n",
      "INFO:tensorflow:Assets written to: checkpoints/path_cnn_goal_a/assets\n",
      "Epoch 15/30\n",
      "\n",
      "Epoch 00015: LearningRateScheduler setting learning rate to 0.0001.\n",
      "3861/3861 [==============================] - 9s 2ms/step - loss: 0.0020 - mean_absolute_error: 0.0305 - val_loss: 0.0020 - val_mean_absolute_error: 0.0308\n",
      "Epoch 16/30\n",
      "\n",
      "Epoch 00016: LearningRateScheduler setting learning rate to 0.0001.\n",
      "3861/3861 [==============================] - 9s 2ms/step - loss: 0.0020 - mean_absolute_error: 0.0305 - val_loss: 0.0020 - val_mean_absolute_error: 0.0308\n",
      "Epoch 17/30\n",
      "\n",
      "Epoch 00017: LearningRateScheduler setting learning rate to 0.0001.\n",
      "3861/3861 [==============================] - 9s 2ms/step - loss: 0.0020 - mean_absolute_error: 0.0305 - val_loss: 0.0020 - val_mean_absolute_error: 0.0308\n",
      "Epoch 18/30\n",
      "\n",
      "Epoch 00018: LearningRateScheduler setting learning rate to 0.0001.\n",
      "3861/3861 [==============================] - 9s 2ms/step - loss: 0.0020 - mean_absolute_error: 0.0305 - val_loss: 0.0020 - val_mean_absolute_error: 0.0307\n",
      "INFO:tensorflow:Assets written to: checkpoints/path_cnn_goal_a/assets\n",
      "Epoch 19/30\n",
      "\n",
      "Epoch 00019: LearningRateScheduler setting learning rate to 0.0001.\n",
      "3861/3861 [==============================] - 9s 2ms/step - loss: 0.0020 - mean_absolute_error: 0.0305 - val_loss: 0.0020 - val_mean_absolute_error: 0.0307\n",
      "Epoch 20/30\n",
      "\n",
      "Epoch 00020: LearningRateScheduler setting learning rate to 0.0001.\n",
      "3861/3861 [==============================] - 10s 2ms/step - loss: 0.0020 - mean_absolute_error: 0.0304 - val_loss: 0.0020 - val_mean_absolute_error: 0.0307\n",
      "Epoch 21/30\n",
      "\n",
      "Epoch 00021: LearningRateScheduler setting learning rate to 0.0001.\n",
      "3861/3861 [==============================] - 10s 2ms/step - loss: 0.0020 - mean_absolute_error: 0.0304 - val_loss: 0.0020 - val_mean_absolute_error: 0.0307\n",
      "Epoch 22/30\n",
      "\n",
      "Epoch 00022: LearningRateScheduler setting learning rate to 0.0001.\n",
      "3861/3861 [==============================] - 10s 2ms/step - loss: 0.0020 - mean_absolute_error: 0.0304 - val_loss: 0.0020 - val_mean_absolute_error: 0.0307\n",
      "Epoch 23/30\n",
      "\n",
      "Epoch 00023: LearningRateScheduler setting learning rate to 0.0001.\n",
      "3861/3861 [==============================] - 9s 2ms/step - loss: 0.0020 - mean_absolute_error: 0.0304 - val_loss: 0.0020 - val_mean_absolute_error: 0.0307\n",
      "INFO:tensorflow:Assets written to: checkpoints/path_cnn_goal_a/assets\n",
      "Epoch 24/30\n",
      "\n",
      "Epoch 00024: LearningRateScheduler setting learning rate to 0.0001.\n",
      "3861/3861 [==============================] - 10s 3ms/step - loss: 0.0020 - mean_absolute_error: 0.0304 - val_loss: 0.0020 - val_mean_absolute_error: 0.0307\n",
      "Epoch 25/30\n",
      "\n",
      "Epoch 00025: LearningRateScheduler setting learning rate to 0.0001.\n",
      "3861/3861 [==============================] - 10s 2ms/step - loss: 0.0020 - mean_absolute_error: 0.0304 - val_loss: 0.0020 - val_mean_absolute_error: 0.0307\n",
      "Epoch 26/30\n",
      "\n",
      "Epoch 00026: LearningRateScheduler setting learning rate to 0.0001.\n",
      "3861/3861 [==============================] - 10s 2ms/step - loss: 0.0020 - mean_absolute_error: 0.0304 - val_loss: 0.0020 - val_mean_absolute_error: 0.0307\n",
      "Epoch 27/30\n",
      "\n",
      "Epoch 00027: LearningRateScheduler setting learning rate to 0.0001.\n",
      "3861/3861 [==============================] - 10s 2ms/step - loss: 0.0020 - mean_absolute_error: 0.0304 - val_loss: 0.0020 - val_mean_absolute_error: 0.0307\n",
      "INFO:tensorflow:Assets written to: checkpoints/path_cnn_goal_a/assets\n",
      "Epoch 28/30\n",
      "\n",
      "Epoch 00028: LearningRateScheduler setting learning rate to 0.0001.\n",
      "3861/3861 [==============================] - 10s 3ms/step - loss: 0.0020 - mean_absolute_error: 0.0304 - val_loss: 0.0020 - val_mean_absolute_error: 0.0307\n",
      "INFO:tensorflow:Assets written to: checkpoints/path_cnn_goal_a/assets\n",
      "Epoch 29/30\n",
      "\n",
      "Epoch 00029: LearningRateScheduler setting learning rate to 0.0001.\n",
      "3861/3861 [==============================] - 10s 3ms/step - loss: 0.0020 - mean_absolute_error: 0.0304 - val_loss: 0.0020 - val_mean_absolute_error: 0.0307\n",
      "Epoch 30/30\n",
      "\n",
      "Epoch 00030: LearningRateScheduler setting learning rate to 0.0001.\n",
      "3861/3861 [==============================] - 10s 2ms/step - loss: 0.0020 - mean_absolute_error: 0.0304 - val_loss: 0.0020 - val_mean_absolute_error: 0.0307\n",
      "INFO:tensorflow:Assets written to: weights/path_cnn_goal_a/assets\n"
     ]
    }
   ],
   "source": [
    "model_name = 'path_cnn_goal_a'\n",
    "m = model_path.ModelPath(uses_goal=True)\n",
    "\n",
    "model = models_path.simple_cnn(\n",
    "    input_shape_goal,\n",
    "    use_dropout=False,\n",
    "    dropout_rate=0\n",
    "    )\n",
    "\n",
    "history = m.train(train_data, eval_data,\n",
    "    train_goals=train_data[1],\n",
    "    eval_goals=eval_data[1],\n",
    "    model=model,\n",
    "    batch_size=256,\n",
    "    epochs=30,\n",
    "    checkpoints_path=f'checkpoints/{model_name}',\n",
    "    learning_rate=1e-4,\n",
    "    learning_rate_scheduler=True,\n",
    ")\n",
    "m.save(model_name)\n",
    "m = None\n",
    "model = None\n",
    "model_interface.save_history(model_name, history)"
   ]
  },
  {
   "cell_type": "code",
   "execution_count": 3,
   "metadata": {},
   "outputs": [
    {
     "name": "stdout",
     "output_type": "stream",
     "text": [
      "Compiling new model\n",
      "Epoch 1/30\n",
      "\n",
      "Epoch 00001: LearningRateScheduler setting learning rate to 0.001.\n",
      "3861/3861 [==============================] - 11s 3ms/step - loss: 0.0030 - mean_absolute_error: 0.0374 - val_loss: 0.0026 - val_mean_absolute_error: 0.0350\n",
      "INFO:tensorflow:Assets written to: checkpoints/path_cnn_goal_dropout_a/assets\n",
      "Epoch 2/30\n",
      "\n",
      "Epoch 00002: LearningRateScheduler setting learning rate to 0.001.\n",
      "3861/3861 [==============================] - 10s 3ms/step - loss: 0.0026 - mean_absolute_error: 0.0349 - val_loss: 0.0026 - val_mean_absolute_error: 0.0349\n",
      "INFO:tensorflow:Assets written to: checkpoints/path_cnn_goal_dropout_a/assets\n",
      "Epoch 3/30\n",
      "\n",
      "Epoch 00003: LearningRateScheduler setting learning rate to 0.001.\n",
      "3861/3861 [==============================] - 10s 3ms/step - loss: 0.0026 - mean_absolute_error: 0.0349 - val_loss: 0.0026 - val_mean_absolute_error: 0.0352\n",
      "Epoch 4/30\n",
      "\n",
      "Epoch 00004: LearningRateScheduler setting learning rate to 0.001.\n",
      "3861/3861 [==============================] - 10s 3ms/step - loss: 0.0026 - mean_absolute_error: 0.0349 - val_loss: 0.0026 - val_mean_absolute_error: 0.0351\n",
      "Epoch 5/30\n",
      "\n",
      "Epoch 00005: LearningRateScheduler setting learning rate to 0.001.\n",
      "3861/3861 [==============================] - 10s 3ms/step - loss: 0.0026 - mean_absolute_error: 0.0349 - val_loss: 0.0025 - val_mean_absolute_error: 0.0348\n",
      "INFO:tensorflow:Assets written to: checkpoints/path_cnn_goal_dropout_a/assets\n",
      "Epoch 6/30\n",
      "\n",
      "Epoch 00006: LearningRateScheduler setting learning rate to 0.001.\n",
      "3861/3861 [==============================] - 10s 3ms/step - loss: 0.0026 - mean_absolute_error: 0.0349 - val_loss: 0.0026 - val_mean_absolute_error: 0.0351\n",
      "Epoch 7/30\n",
      "\n",
      "Epoch 00007: LearningRateScheduler setting learning rate to 0.0001.\n",
      "3861/3861 [==============================] - 10s 3ms/step - loss: 0.0024 - mean_absolute_error: 0.0335 - val_loss: 0.0024 - val_mean_absolute_error: 0.0337\n",
      "INFO:tensorflow:Assets written to: checkpoints/path_cnn_goal_dropout_a/assets\n",
      "Epoch 8/30\n",
      "\n",
      "Epoch 00008: LearningRateScheduler setting learning rate to 0.0001.\n",
      "3861/3861 [==============================] - 10s 3ms/step - loss: 0.0024 - mean_absolute_error: 0.0334 - val_loss: 0.0024 - val_mean_absolute_error: 0.0336\n",
      "INFO:tensorflow:Assets written to: checkpoints/path_cnn_goal_dropout_a/assets\n",
      "Epoch 9/30\n",
      "\n",
      "Epoch 00009: LearningRateScheduler setting learning rate to 0.0001.\n",
      "3861/3861 [==============================] - 10s 3ms/step - loss: 0.0024 - mean_absolute_error: 0.0334 - val_loss: 0.0024 - val_mean_absolute_error: 0.0336\n",
      "Epoch 10/30\n",
      "\n",
      "Epoch 00010: LearningRateScheduler setting learning rate to 0.0001.\n",
      "3861/3861 [==============================] - 10s 3ms/step - loss: 0.0024 - mean_absolute_error: 0.0333 - val_loss: 0.0024 - val_mean_absolute_error: 0.0336\n",
      "INFO:tensorflow:Assets written to: checkpoints/path_cnn_goal_dropout_a/assets\n",
      "Epoch 11/30\n",
      "\n",
      "Epoch 00011: LearningRateScheduler setting learning rate to 0.0001.\n",
      "3861/3861 [==============================] - 10s 3ms/step - loss: 0.0024 - mean_absolute_error: 0.0333 - val_loss: 0.0024 - val_mean_absolute_error: 0.0336\n",
      "Epoch 12/30\n",
      "\n",
      "Epoch 00012: LearningRateScheduler setting learning rate to 0.0001.\n",
      "3861/3861 [==============================] - 10s 3ms/step - loss: 0.0024 - mean_absolute_error: 0.0333 - val_loss: 0.0024 - val_mean_absolute_error: 0.0335\n",
      "INFO:tensorflow:Assets written to: checkpoints/path_cnn_goal_dropout_a/assets\n",
      "Epoch 13/30\n",
      "\n",
      "Epoch 00013: LearningRateScheduler setting learning rate to 0.0001.\n",
      "3861/3861 [==============================] - 10s 3ms/step - loss: 0.0024 - mean_absolute_error: 0.0333 - val_loss: 0.0024 - val_mean_absolute_error: 0.0335\n",
      "INFO:tensorflow:Assets written to: checkpoints/path_cnn_goal_dropout_a/assets\n",
      "Epoch 14/30\n",
      "\n",
      "Epoch 00014: LearningRateScheduler setting learning rate to 0.0001.\n",
      "3861/3861 [==============================] - 10s 3ms/step - loss: 0.0024 - mean_absolute_error: 0.0333 - val_loss: 0.0024 - val_mean_absolute_error: 0.0335\n",
      "INFO:tensorflow:Assets written to: checkpoints/path_cnn_goal_dropout_a/assets\n",
      "Epoch 15/30\n",
      "\n",
      "Epoch 00015: LearningRateScheduler setting learning rate to 0.0001.\n",
      "3861/3861 [==============================] - 10s 3ms/step - loss: 0.0024 - mean_absolute_error: 0.0333 - val_loss: 0.0024 - val_mean_absolute_error: 0.0336\n",
      "Epoch 16/30\n",
      "\n",
      "Epoch 00016: LearningRateScheduler setting learning rate to 0.0001.\n",
      "3861/3861 [==============================] - 10s 3ms/step - loss: 0.0023 - mean_absolute_error: 0.0333 - val_loss: 0.0024 - val_mean_absolute_error: 0.0335\n",
      "Epoch 17/30\n",
      "\n",
      "Epoch 00017: LearningRateScheduler setting learning rate to 0.0001.\n",
      "3861/3861 [==============================] - 10s 3ms/step - loss: 0.0023 - mean_absolute_error: 0.0333 - val_loss: 0.0024 - val_mean_absolute_error: 0.0336\n",
      "Epoch 18/30\n",
      "\n",
      "Epoch 00018: LearningRateScheduler setting learning rate to 0.0001.\n",
      "3861/3861 [==============================] - 10s 3ms/step - loss: 0.0023 - mean_absolute_error: 0.0333 - val_loss: 0.0024 - val_mean_absolute_error: 0.0336\n",
      "Epoch 19/30\n",
      "\n",
      "Epoch 00019: LearningRateScheduler setting learning rate to 0.0001.\n",
      "3861/3861 [==============================] - 10s 3ms/step - loss: 0.0023 - mean_absolute_error: 0.0333 - val_loss: 0.0024 - val_mean_absolute_error: 0.0336\n",
      "Epoch 20/30\n",
      "\n",
      "Epoch 00020: LearningRateScheduler setting learning rate to 0.0001.\n",
      "3861/3861 [==============================] - 10s 3ms/step - loss: 0.0023 - mean_absolute_error: 0.0333 - val_loss: 0.0024 - val_mean_absolute_error: 0.0335\n",
      "Epoch 21/30\n",
      "\n",
      "Epoch 00021: LearningRateScheduler setting learning rate to 0.0001.\n",
      "3861/3861 [==============================] - 10s 3ms/step - loss: 0.0023 - mean_absolute_error: 0.0333 - val_loss: 0.0024 - val_mean_absolute_error: 0.0335\n",
      "Epoch 22/30\n",
      "\n",
      "Epoch 00022: LearningRateScheduler setting learning rate to 0.0001.\n",
      "3861/3861 [==============================] - 10s 3ms/step - loss: 0.0023 - mean_absolute_error: 0.0333 - val_loss: 0.0024 - val_mean_absolute_error: 0.0336\n",
      "Epoch 23/30\n",
      "\n",
      "Epoch 00023: LearningRateScheduler setting learning rate to 0.0001.\n",
      "3861/3861 [==============================] - 10s 3ms/step - loss: 0.0023 - mean_absolute_error: 0.0333 - val_loss: 0.0024 - val_mean_absolute_error: 0.0335\n",
      "Epoch 24/30\n",
      "\n",
      "Epoch 00024: LearningRateScheduler setting learning rate to 0.0001.\n",
      "3861/3861 [==============================] - 10s 3ms/step - loss: 0.0023 - mean_absolute_error: 0.0332 - val_loss: 0.0024 - val_mean_absolute_error: 0.0336\n",
      "Epoch 25/30\n",
      "\n",
      "Epoch 00025: LearningRateScheduler setting learning rate to 0.0001.\n",
      "3861/3861 [==============================] - 10s 3ms/step - loss: 0.0023 - mean_absolute_error: 0.0333 - val_loss: 0.0024 - val_mean_absolute_error: 0.0335\n",
      "Epoch 26/30\n",
      "\n",
      "Epoch 00026: LearningRateScheduler setting learning rate to 0.0001.\n",
      "3861/3861 [==============================] - 10s 3ms/step - loss: 0.0023 - mean_absolute_error: 0.0332 - val_loss: 0.0024 - val_mean_absolute_error: 0.0335\n",
      "INFO:tensorflow:Assets written to: checkpoints/path_cnn_goal_dropout_a/assets\n",
      "Epoch 27/30\n",
      "\n",
      "Epoch 00027: LearningRateScheduler setting learning rate to 0.0001.\n",
      "3861/3861 [==============================] - 10s 3ms/step - loss: 0.0023 - mean_absolute_error: 0.0332 - val_loss: 0.0024 - val_mean_absolute_error: 0.0335\n",
      "Epoch 28/30\n",
      "\n",
      "Epoch 00028: LearningRateScheduler setting learning rate to 0.0001.\n",
      "3861/3861 [==============================] - 10s 3ms/step - loss: 0.0023 - mean_absolute_error: 0.0332 - val_loss: 0.0024 - val_mean_absolute_error: 0.0335\n",
      "Epoch 29/30\n",
      "\n",
      "Epoch 00029: LearningRateScheduler setting learning rate to 0.0001.\n",
      "3861/3861 [==============================] - 10s 3ms/step - loss: 0.0023 - mean_absolute_error: 0.0332 - val_loss: 0.0024 - val_mean_absolute_error: 0.0335\n",
      "Epoch 30/30\n",
      "\n",
      "Epoch 00030: LearningRateScheduler setting learning rate to 0.0001.\n",
      "3861/3861 [==============================] - 10s 3ms/step - loss: 0.0023 - mean_absolute_error: 0.0332 - val_loss: 0.0024 - val_mean_absolute_error: 0.0335\n",
      "INFO:tensorflow:Assets written to: weights/path_cnn_goal_dropout_a/assets\n"
     ]
    }
   ],
   "source": [
    "model_name = 'path_cnn_goal_dropout_a'\n",
    "m = model_path.ModelPath(uses_goal=True)\n",
    "\n",
    "model = models_path.simple_cnn(\n",
    "    input_shape_goal,\n",
    "    use_dropout=True,\n",
    "    dropout_rate=0.4\n",
    "    )\n",
    "\n",
    "history = m.train(train_data, eval_data,\n",
    "    train_goals=train_data[1],\n",
    "    eval_goals=eval_data[1],\n",
    "    model=model,\n",
    "    batch_size=256,\n",
    "    epochs=30,\n",
    "    checkpoints_path=f'checkpoints/{model_name}',\n",
    "    learning_rate=1e-4,\n",
    "    learning_rate_scheduler=True,\n",
    ")\n",
    "m.save(model_name)\n",
    "m = None\n",
    "model = None\n",
    "model_interface.save_history(model_name, history)"
   ]
  },
  {
   "cell_type": "code",
   "execution_count": 3,
   "metadata": {},
   "outputs": [
    {
     "name": "stdout",
     "output_type": "stream",
     "text": [
      "Compiling new model\n",
      "Epoch 1/30\n",
      "19305/19305 [==============================] - 126s 6ms/step - loss: 0.0043 - mean_absolute_error: 0.0403 - val_loss: 0.0041 - val_mean_absolute_error: 0.0396\n"
     ]
    },
    {
     "name": "stderr",
     "output_type": "stream",
     "text": [
      "WARNING:absl:Found untraced functions such as lstm_cell_layer_call_fn, lstm_cell_layer_call_and_return_conditional_losses, lstm_cell_layer_call_fn, lstm_cell_layer_call_and_return_conditional_losses, lstm_cell_layer_call_and_return_conditional_losses while saving (showing 5 of 5). These functions will not be directly callable after loading.\n"
     ]
    },
    {
     "name": "stdout",
     "output_type": "stream",
     "text": [
      "INFO:tensorflow:Assets written to: checkpoints/path_simple_lstm_0407/assets\n"
     ]
    },
    {
     "name": "stderr",
     "output_type": "stream",
     "text": [
      "INFO:tensorflow:Assets written to: checkpoints/path_simple_lstm_0407/assets\n"
     ]
    },
    {
     "name": "stdout",
     "output_type": "stream",
     "text": [
      "Epoch 2/30\n",
      "19305/19305 [==============================] - 127s 7ms/step - loss: 0.0041 - mean_absolute_error: 0.0389 - val_loss: 0.0040 - val_mean_absolute_error: 0.0387\n"
     ]
    },
    {
     "name": "stderr",
     "output_type": "stream",
     "text": [
      "WARNING:absl:Found untraced functions such as lstm_cell_layer_call_fn, lstm_cell_layer_call_and_return_conditional_losses, lstm_cell_layer_call_fn, lstm_cell_layer_call_and_return_conditional_losses, lstm_cell_layer_call_and_return_conditional_losses while saving (showing 5 of 5). These functions will not be directly callable after loading.\n"
     ]
    },
    {
     "name": "stdout",
     "output_type": "stream",
     "text": [
      "INFO:tensorflow:Assets written to: checkpoints/path_simple_lstm_0407/assets\n"
     ]
    },
    {
     "name": "stderr",
     "output_type": "stream",
     "text": [
      "INFO:tensorflow:Assets written to: checkpoints/path_simple_lstm_0407/assets\n"
     ]
    },
    {
     "name": "stdout",
     "output_type": "stream",
     "text": [
      "Epoch 3/30\n",
      "19305/19305 [==============================] - 127s 7ms/step - loss: 0.0040 - mean_absolute_error: 0.0384 - val_loss: 0.0039 - val_mean_absolute_error: 0.0383\n"
     ]
    },
    {
     "name": "stderr",
     "output_type": "stream",
     "text": [
      "WARNING:absl:Found untraced functions such as lstm_cell_layer_call_fn, lstm_cell_layer_call_and_return_conditional_losses, lstm_cell_layer_call_fn, lstm_cell_layer_call_and_return_conditional_losses, lstm_cell_layer_call_and_return_conditional_losses while saving (showing 5 of 5). These functions will not be directly callable after loading.\n"
     ]
    },
    {
     "name": "stdout",
     "output_type": "stream",
     "text": [
      "INFO:tensorflow:Assets written to: checkpoints/path_simple_lstm_0407/assets\n"
     ]
    },
    {
     "name": "stderr",
     "output_type": "stream",
     "text": [
      "INFO:tensorflow:Assets written to: checkpoints/path_simple_lstm_0407/assets\n"
     ]
    },
    {
     "name": "stdout",
     "output_type": "stream",
     "text": [
      "Epoch 4/30\n",
      "19305/19305 [==============================] - 127s 7ms/step - loss: 0.0039 - mean_absolute_error: 0.0381 - val_loss: 0.0039 - val_mean_absolute_error: 0.0384\n",
      "Epoch 5/30\n",
      "19305/19305 [==============================] - 128s 7ms/step - loss: 0.0039 - mean_absolute_error: 0.0380 - val_loss: 0.0039 - val_mean_absolute_error: 0.0381\n"
     ]
    },
    {
     "name": "stderr",
     "output_type": "stream",
     "text": [
      "WARNING:absl:Found untraced functions such as lstm_cell_layer_call_fn, lstm_cell_layer_call_and_return_conditional_losses, lstm_cell_layer_call_fn, lstm_cell_layer_call_and_return_conditional_losses, lstm_cell_layer_call_and_return_conditional_losses while saving (showing 5 of 5). These functions will not be directly callable after loading.\n"
     ]
    },
    {
     "name": "stdout",
     "output_type": "stream",
     "text": [
      "INFO:tensorflow:Assets written to: checkpoints/path_simple_lstm_0407/assets\n"
     ]
    },
    {
     "name": "stderr",
     "output_type": "stream",
     "text": [
      "INFO:tensorflow:Assets written to: checkpoints/path_simple_lstm_0407/assets\n"
     ]
    },
    {
     "name": "stdout",
     "output_type": "stream",
     "text": [
      "Epoch 6/30\n",
      "19305/19305 [==============================] - 128s 7ms/step - loss: 0.0038 - mean_absolute_error: 0.0378 - val_loss: 0.0038 - val_mean_absolute_error: 0.0379\n"
     ]
    },
    {
     "name": "stderr",
     "output_type": "stream",
     "text": [
      "WARNING:absl:Found untraced functions such as lstm_cell_layer_call_fn, lstm_cell_layer_call_and_return_conditional_losses, lstm_cell_layer_call_fn, lstm_cell_layer_call_and_return_conditional_losses, lstm_cell_layer_call_and_return_conditional_losses while saving (showing 5 of 5). These functions will not be directly callable after loading.\n"
     ]
    },
    {
     "name": "stdout",
     "output_type": "stream",
     "text": [
      "INFO:tensorflow:Assets written to: checkpoints/path_simple_lstm_0407/assets\n"
     ]
    },
    {
     "name": "stderr",
     "output_type": "stream",
     "text": [
      "INFO:tensorflow:Assets written to: checkpoints/path_simple_lstm_0407/assets\n"
     ]
    },
    {
     "name": "stdout",
     "output_type": "stream",
     "text": [
      "Epoch 7/30\n",
      "19305/19305 [==============================] - 125s 6ms/step - loss: 0.0038 - mean_absolute_error: 0.0377 - val_loss: 0.0038 - val_mean_absolute_error: 0.0379\n"
     ]
    },
    {
     "name": "stderr",
     "output_type": "stream",
     "text": [
      "WARNING:absl:Found untraced functions such as lstm_cell_layer_call_fn, lstm_cell_layer_call_and_return_conditional_losses, lstm_cell_layer_call_fn, lstm_cell_layer_call_and_return_conditional_losses, lstm_cell_layer_call_and_return_conditional_losses while saving (showing 5 of 5). These functions will not be directly callable after loading.\n"
     ]
    },
    {
     "name": "stdout",
     "output_type": "stream",
     "text": [
      "INFO:tensorflow:Assets written to: checkpoints/path_simple_lstm_0407/assets\n"
     ]
    },
    {
     "name": "stderr",
     "output_type": "stream",
     "text": [
      "INFO:tensorflow:Assets written to: checkpoints/path_simple_lstm_0407/assets\n"
     ]
    },
    {
     "name": "stdout",
     "output_type": "stream",
     "text": [
      "Epoch 8/30\n",
      "19305/19305 [==============================] - 125s 6ms/step - loss: 0.0038 - mean_absolute_error: 0.0377 - val_loss: 0.0038 - val_mean_absolute_error: 0.0376\n"
     ]
    },
    {
     "name": "stderr",
     "output_type": "stream",
     "text": [
      "WARNING:absl:Found untraced functions such as lstm_cell_layer_call_fn, lstm_cell_layer_call_and_return_conditional_losses, lstm_cell_layer_call_fn, lstm_cell_layer_call_and_return_conditional_losses, lstm_cell_layer_call_and_return_conditional_losses while saving (showing 5 of 5). These functions will not be directly callable after loading.\n"
     ]
    },
    {
     "name": "stdout",
     "output_type": "stream",
     "text": [
      "INFO:tensorflow:Assets written to: checkpoints/path_simple_lstm_0407/assets\n"
     ]
    },
    {
     "name": "stderr",
     "output_type": "stream",
     "text": [
      "INFO:tensorflow:Assets written to: checkpoints/path_simple_lstm_0407/assets\n"
     ]
    },
    {
     "name": "stdout",
     "output_type": "stream",
     "text": [
      "Epoch 9/30\n",
      "19305/19305 [==============================] - 125s 6ms/step - loss: 0.0038 - mean_absolute_error: 0.0376 - val_loss: 0.0038 - val_mean_absolute_error: 0.0377\n",
      "Epoch 10/30\n",
      "19305/19305 [==============================] - 123s 6ms/step - loss: 0.0038 - mean_absolute_error: 0.0375 - val_loss: 0.0038 - val_mean_absolute_error: 0.0376\n",
      "Epoch 11/30\n",
      "19305/19305 [==============================] - 124s 6ms/step - loss: 0.0038 - mean_absolute_error: 0.0375 - val_loss: 0.0038 - val_mean_absolute_error: 0.0375\n"
     ]
    },
    {
     "name": "stderr",
     "output_type": "stream",
     "text": [
      "WARNING:absl:Found untraced functions such as lstm_cell_layer_call_fn, lstm_cell_layer_call_and_return_conditional_losses, lstm_cell_layer_call_fn, lstm_cell_layer_call_and_return_conditional_losses, lstm_cell_layer_call_and_return_conditional_losses while saving (showing 5 of 5). These functions will not be directly callable after loading.\n"
     ]
    },
    {
     "name": "stdout",
     "output_type": "stream",
     "text": [
      "INFO:tensorflow:Assets written to: checkpoints/path_simple_lstm_0407/assets\n"
     ]
    },
    {
     "name": "stderr",
     "output_type": "stream",
     "text": [
      "INFO:tensorflow:Assets written to: checkpoints/path_simple_lstm_0407/assets\n"
     ]
    },
    {
     "name": "stdout",
     "output_type": "stream",
     "text": [
      "Epoch 12/30\n",
      "19305/19305 [==============================] - 123s 6ms/step - loss: 0.0038 - mean_absolute_error: 0.0375 - val_loss: 0.0038 - val_mean_absolute_error: 0.0376\n",
      "Epoch 13/30\n",
      "19305/19305 [==============================] - 123s 6ms/step - loss: 0.0038 - mean_absolute_error: 0.0374 - val_loss: 0.0038 - val_mean_absolute_error: 0.0375\n"
     ]
    },
    {
     "name": "stderr",
     "output_type": "stream",
     "text": [
      "WARNING:absl:Found untraced functions such as lstm_cell_layer_call_fn, lstm_cell_layer_call_and_return_conditional_losses, lstm_cell_layer_call_fn, lstm_cell_layer_call_and_return_conditional_losses, lstm_cell_layer_call_and_return_conditional_losses while saving (showing 5 of 5). These functions will not be directly callable after loading.\n"
     ]
    },
    {
     "name": "stdout",
     "output_type": "stream",
     "text": [
      "INFO:tensorflow:Assets written to: checkpoints/path_simple_lstm_0407/assets\n"
     ]
    },
    {
     "name": "stderr",
     "output_type": "stream",
     "text": [
      "INFO:tensorflow:Assets written to: checkpoints/path_simple_lstm_0407/assets\n"
     ]
    },
    {
     "name": "stdout",
     "output_type": "stream",
     "text": [
      "Epoch 14/30\n",
      "19305/19305 [==============================] - 122s 6ms/step - loss: 0.0038 - mean_absolute_error: 0.0374 - val_loss: 0.0038 - val_mean_absolute_error: 0.0376\n",
      "Epoch 15/30\n",
      "19305/19305 [==============================] - 123s 6ms/step - loss: 0.0038 - mean_absolute_error: 0.0374 - val_loss: 0.0038 - val_mean_absolute_error: 0.0376\n",
      "Epoch 16/30\n",
      "19305/19305 [==============================] - 126s 7ms/step - loss: 0.0037 - mean_absolute_error: 0.0373 - val_loss: 0.0037 - val_mean_absolute_error: 0.0375\n"
     ]
    },
    {
     "name": "stderr",
     "output_type": "stream",
     "text": [
      "WARNING:absl:Found untraced functions such as lstm_cell_layer_call_fn, lstm_cell_layer_call_and_return_conditional_losses, lstm_cell_layer_call_fn, lstm_cell_layer_call_and_return_conditional_losses, lstm_cell_layer_call_and_return_conditional_losses while saving (showing 5 of 5). These functions will not be directly callable after loading.\n"
     ]
    },
    {
     "name": "stdout",
     "output_type": "stream",
     "text": [
      "INFO:tensorflow:Assets written to: checkpoints/path_simple_lstm_0407/assets\n"
     ]
    },
    {
     "name": "stderr",
     "output_type": "stream",
     "text": [
      "INFO:tensorflow:Assets written to: checkpoints/path_simple_lstm_0407/assets\n"
     ]
    },
    {
     "name": "stdout",
     "output_type": "stream",
     "text": [
      "Epoch 17/30\n",
      "19305/19305 [==============================] - 123s 6ms/step - loss: 0.0037 - mean_absolute_error: 0.0373 - val_loss: 0.0037 - val_mean_absolute_error: 0.0374\n"
     ]
    },
    {
     "name": "stderr",
     "output_type": "stream",
     "text": [
      "WARNING:absl:Found untraced functions such as lstm_cell_layer_call_fn, lstm_cell_layer_call_and_return_conditional_losses, lstm_cell_layer_call_fn, lstm_cell_layer_call_and_return_conditional_losses, lstm_cell_layer_call_and_return_conditional_losses while saving (showing 5 of 5). These functions will not be directly callable after loading.\n"
     ]
    },
    {
     "name": "stdout",
     "output_type": "stream",
     "text": [
      "INFO:tensorflow:Assets written to: checkpoints/path_simple_lstm_0407/assets\n"
     ]
    },
    {
     "name": "stderr",
     "output_type": "stream",
     "text": [
      "INFO:tensorflow:Assets written to: checkpoints/path_simple_lstm_0407/assets\n"
     ]
    },
    {
     "name": "stdout",
     "output_type": "stream",
     "text": [
      "Epoch 18/30\n",
      "19305/19305 [==============================] - 123s 6ms/step - loss: 0.0037 - mean_absolute_error: 0.0373 - val_loss: 0.0037 - val_mean_absolute_error: 0.0374\n",
      "Epoch 19/30\n",
      "19305/19305 [==============================] - 124s 6ms/step - loss: 0.0037 - mean_absolute_error: 0.0373 - val_loss: 0.0037 - val_mean_absolute_error: 0.0374\n"
     ]
    },
    {
     "name": "stderr",
     "output_type": "stream",
     "text": [
      "WARNING:absl:Found untraced functions such as lstm_cell_layer_call_fn, lstm_cell_layer_call_and_return_conditional_losses, lstm_cell_layer_call_fn, lstm_cell_layer_call_and_return_conditional_losses, lstm_cell_layer_call_and_return_conditional_losses while saving (showing 5 of 5). These functions will not be directly callable after loading.\n"
     ]
    },
    {
     "name": "stdout",
     "output_type": "stream",
     "text": [
      "INFO:tensorflow:Assets written to: checkpoints/path_simple_lstm_0407/assets\n"
     ]
    },
    {
     "name": "stderr",
     "output_type": "stream",
     "text": [
      "INFO:tensorflow:Assets written to: checkpoints/path_simple_lstm_0407/assets\n"
     ]
    },
    {
     "name": "stdout",
     "output_type": "stream",
     "text": [
      "Epoch 20/30\n",
      "19305/19305 [==============================] - 123s 6ms/step - loss: 0.0037 - mean_absolute_error: 0.0372 - val_loss: 0.0037 - val_mean_absolute_error: 0.0374\n",
      "Epoch 21/30\n",
      "19305/19305 [==============================] - 123s 6ms/step - loss: 0.0037 - mean_absolute_error: 0.0372 - val_loss: 0.0037 - val_mean_absolute_error: 0.0375\n",
      "Epoch 22/30\n",
      "19305/19305 [==============================] - 124s 6ms/step - loss: 0.0037 - mean_absolute_error: 0.0372 - val_loss: 0.0037 - val_mean_absolute_error: 0.0373\n"
     ]
    },
    {
     "name": "stderr",
     "output_type": "stream",
     "text": [
      "WARNING:absl:Found untraced functions such as lstm_cell_layer_call_fn, lstm_cell_layer_call_and_return_conditional_losses, lstm_cell_layer_call_fn, lstm_cell_layer_call_and_return_conditional_losses, lstm_cell_layer_call_and_return_conditional_losses while saving (showing 5 of 5). These functions will not be directly callable after loading.\n"
     ]
    },
    {
     "name": "stdout",
     "output_type": "stream",
     "text": [
      "INFO:tensorflow:Assets written to: checkpoints/path_simple_lstm_0407/assets\n"
     ]
    },
    {
     "name": "stderr",
     "output_type": "stream",
     "text": [
      "INFO:tensorflow:Assets written to: checkpoints/path_simple_lstm_0407/assets\n"
     ]
    },
    {
     "name": "stdout",
     "output_type": "stream",
     "text": [
      "Epoch 23/30\n",
      "19305/19305 [==============================] - 123s 6ms/step - loss: 0.0037 - mean_absolute_error: 0.0372 - val_loss: 0.0037 - val_mean_absolute_error: 0.0376\n",
      "Epoch 24/30\n",
      "19305/19305 [==============================] - 124s 6ms/step - loss: 0.0037 - mean_absolute_error: 0.0372 - val_loss: 0.0037 - val_mean_absolute_error: 0.0375\n",
      "Epoch 25/30\n",
      "19305/19305 [==============================] - 124s 6ms/step - loss: 0.0037 - mean_absolute_error: 0.0372 - val_loss: 0.0037 - val_mean_absolute_error: 0.0374\n",
      "Epoch 26/30\n",
      "19305/19305 [==============================] - 124s 6ms/step - loss: 0.0037 - mean_absolute_error: 0.0371 - val_loss: 0.0037 - val_mean_absolute_error: 0.0374\n",
      "Epoch 27/30\n",
      "19305/19305 [==============================] - 124s 6ms/step - loss: 0.0037 - mean_absolute_error: 0.0371 - val_loss: 0.0037 - val_mean_absolute_error: 0.0375\n",
      "Epoch 28/30\n",
      "19305/19305 [==============================] - 124s 6ms/step - loss: 0.0037 - mean_absolute_error: 0.0371 - val_loss: 0.0037 - val_mean_absolute_error: 0.0375\n",
      "Epoch 29/30\n",
      "19305/19305 [==============================] - 124s 6ms/step - loss: 0.0037 - mean_absolute_error: 0.0371 - val_loss: 0.0037 - val_mean_absolute_error: 0.0373\n"
     ]
    },
    {
     "name": "stderr",
     "output_type": "stream",
     "text": [
      "WARNING:absl:Found untraced functions such as lstm_cell_layer_call_fn, lstm_cell_layer_call_and_return_conditional_losses, lstm_cell_layer_call_fn, lstm_cell_layer_call_and_return_conditional_losses, lstm_cell_layer_call_and_return_conditional_losses while saving (showing 5 of 5). These functions will not be directly callable after loading.\n"
     ]
    },
    {
     "name": "stdout",
     "output_type": "stream",
     "text": [
      "INFO:tensorflow:Assets written to: checkpoints/path_simple_lstm_0407/assets\n"
     ]
    },
    {
     "name": "stderr",
     "output_type": "stream",
     "text": [
      "INFO:tensorflow:Assets written to: checkpoints/path_simple_lstm_0407/assets\n"
     ]
    },
    {
     "name": "stdout",
     "output_type": "stream",
     "text": [
      "Epoch 30/30\n",
      "19305/19305 [==============================] - 125s 6ms/step - loss: 0.0037 - mean_absolute_error: 0.0371 - val_loss: 0.0037 - val_mean_absolute_error: 0.0375\n"
     ]
    },
    {
     "name": "stderr",
     "output_type": "stream",
     "text": [
      "WARNING:absl:Found untraced functions such as lstm_cell_layer_call_fn, lstm_cell_layer_call_and_return_conditional_losses, lstm_cell_layer_call_fn, lstm_cell_layer_call_and_return_conditional_losses, lstm_cell_layer_call_and_return_conditional_losses while saving (showing 5 of 5). These functions will not be directly callable after loading.\n"
     ]
    },
    {
     "name": "stdout",
     "output_type": "stream",
     "text": [
      "INFO:tensorflow:Assets written to: weights/path_simple_lstm_0407/assets\n"
     ]
    },
    {
     "name": "stderr",
     "output_type": "stream",
     "text": [
      "INFO:tensorflow:Assets written to: weights/path_simple_lstm_0407/assets\n"
     ]
    }
   ],
   "source": [
    "model_name = 'path_simple_lstm_0407'\n",
    "m = model_path.ModelPath(uses_goal=False)\n",
    "history = m.train(train_data, eval_data,\n",
    "    model=models_path.simple_lstm(train_data),\n",
    "    batch_size=256,\n",
    "    epochs=30,\n",
    "    checkpoints_path=f'checkpoints/{model_name}'\n",
    ")\n",
    "m.save(model_name)\n",
    "m = None\n",
    "model_interface.save_history(model_name, history)"
   ]
  },
  {
   "cell_type": "code",
   "execution_count": 5,
   "metadata": {},
   "outputs": [
    {
     "name": "stdout",
     "output_type": "stream",
     "text": [
      "Epoch 1/10\n",
      "6895/6895 [==============================] - 22s 3ms/step - loss: 0.0017 - mean_absolute_error: 0.0283 - val_loss: 0.0014 - val_mean_absolute_error: 0.0252\n",
      "Epoch 2/10\n",
      "6895/6895 [==============================] - 22s 3ms/step - loss: 0.0014 - mean_absolute_error: 0.0262 - val_loss: 0.0013 - val_mean_absolute_error: 0.0245\n",
      "Epoch 3/10\n",
      "6895/6895 [==============================] - 21s 3ms/step - loss: 0.0014 - mean_absolute_error: 0.0255 - val_loss: 0.0013 - val_mean_absolute_error: 0.0240\n",
      "Epoch 4/10\n",
      "6895/6895 [==============================] - 21s 3ms/step - loss: 0.0014 - mean_absolute_error: 0.0252 - val_loss: 0.0012 - val_mean_absolute_error: 0.0236\n",
      "Epoch 5/10\n",
      "6895/6895 [==============================] - 21s 3ms/step - loss: 0.0013 - mean_absolute_error: 0.0250 - val_loss: 0.0012 - val_mean_absolute_error: 0.0237\n",
      "Epoch 6/10\n",
      "6895/6895 [==============================] - 21s 3ms/step - loss: 0.0013 - mean_absolute_error: 0.0248 - val_loss: 0.0012 - val_mean_absolute_error: 0.0233\n",
      "Epoch 7/10\n",
      "6895/6895 [==============================] - 21s 3ms/step - loss: 0.0013 - mean_absolute_error: 0.0247 - val_loss: 0.0012 - val_mean_absolute_error: 0.0231\n",
      "Epoch 8/10\n",
      "6895/6895 [==============================] - 21s 3ms/step - loss: 0.0013 - mean_absolute_error: 0.0247 - val_loss: 0.0012 - val_mean_absolute_error: 0.0232\n",
      "Epoch 9/10\n",
      "6895/6895 [==============================] - 21s 3ms/step - loss: 0.0013 - mean_absolute_error: 0.0246 - val_loss: 0.0012 - val_mean_absolute_error: 0.0232\n",
      "Epoch 10/10\n",
      "6895/6895 [==============================] - 21s 3ms/step - loss: 0.0013 - mean_absolute_error: 0.0245 - val_loss: 0.0012 - val_mean_absolute_error: 0.0233\n"
     ]
    },
    {
     "name": "stderr",
     "output_type": "stream",
     "text": [
      "WARNING:absl:Found untraced functions such as lstm_cell_1_layer_call_fn, lstm_cell_1_layer_call_and_return_conditional_losses, lstm_cell_1_layer_call_fn, lstm_cell_1_layer_call_and_return_conditional_losses, lstm_cell_1_layer_call_and_return_conditional_losses while saving (showing 5 of 5). These functions will not be directly callable after loading.\n"
     ]
    },
    {
     "name": "stdout",
     "output_type": "stream",
     "text": [
      "INFO:tensorflow:Assets written to: weights/path_simple_lstm_goal/assets\n"
     ]
    },
    {
     "name": "stderr",
     "output_type": "stream",
     "text": [
      "INFO:tensorflow:Assets written to: weights/path_simple_lstm_goal/assets\n"
     ]
    }
   ],
   "source": [
    "m = model_path.ModelPath(uses_goal=True)\n",
    "m.train(models_path.simple_lstm(train_data), train_data, eval_data, train_goals=train_data[1], eval_goals=eval_data[1], batch_size=256, epochs=20)\n",
    "m.save('path_simple_lstm_goal')\n",
    "m = None"
   ]
  },
  {
   "cell_type": "code",
   "execution_count": 4,
   "metadata": {},
   "outputs": [
    {
     "name": "stdout",
     "output_type": "stream",
     "text": [
      "Epoch 1/20\n",
      "212/212 [==============================] - 1s 3ms/step - loss: 0.0070 - mean_absolute_error: 0.0560 - val_loss: 0.0033 - val_mean_absolute_error: 0.0368\n",
      "Epoch 2/20\n",
      "212/212 [==============================] - 1s 3ms/step - loss: 0.0035 - mean_absolute_error: 0.0395 - val_loss: 0.0030 - val_mean_absolute_error: 0.0339\n",
      "Epoch 3/20\n",
      "212/212 [==============================] - 1s 3ms/step - loss: 0.0032 - mean_absolute_error: 0.0371 - val_loss: 0.0028 - val_mean_absolute_error: 0.0328\n",
      "Epoch 4/20\n",
      "212/212 [==============================] - 1s 3ms/step - loss: 0.0031 - mean_absolute_error: 0.0361 - val_loss: 0.0028 - val_mean_absolute_error: 0.0323\n",
      "Epoch 5/20\n",
      "212/212 [==============================] - 1s 3ms/step - loss: 0.0031 - mean_absolute_error: 0.0355 - val_loss: 0.0028 - val_mean_absolute_error: 0.0319\n",
      "Epoch 6/20\n",
      "212/212 [==============================] - 1s 3ms/step - loss: 0.0030 - mean_absolute_error: 0.0353 - val_loss: 0.0027 - val_mean_absolute_error: 0.0317\n",
      "Epoch 7/20\n",
      "212/212 [==============================] - 1s 3ms/step - loss: 0.0030 - mean_absolute_error: 0.0351 - val_loss: 0.0027 - val_mean_absolute_error: 0.0315\n",
      "Epoch 8/20\n",
      "212/212 [==============================] - 1s 3ms/step - loss: 0.0030 - mean_absolute_error: 0.0349 - val_loss: 0.0027 - val_mean_absolute_error: 0.0315\n",
      "Epoch 9/20\n",
      "212/212 [==============================] - 1s 3ms/step - loss: 0.0030 - mean_absolute_error: 0.0348 - val_loss: 0.0027 - val_mean_absolute_error: 0.0316\n",
      "Epoch 10/20\n",
      "212/212 [==============================] - 1s 3ms/step - loss: 0.0030 - mean_absolute_error: 0.0347 - val_loss: 0.0027 - val_mean_absolute_error: 0.0314\n",
      "Epoch 11/20\n",
      "212/212 [==============================] - 1s 3ms/step - loss: 0.0029 - mean_absolute_error: 0.0347 - val_loss: 0.0027 - val_mean_absolute_error: 0.0313\n",
      "Epoch 12/20\n",
      "212/212 [==============================] - 1s 3ms/step - loss: 0.0029 - mean_absolute_error: 0.0346 - val_loss: 0.0027 - val_mean_absolute_error: 0.0314\n",
      "Epoch 13/20\n",
      "212/212 [==============================] - 1s 3ms/step - loss: 0.0029 - mean_absolute_error: 0.0346 - val_loss: 0.0027 - val_mean_absolute_error: 0.0313\n",
      "Epoch 14/20\n",
      "212/212 [==============================] - 1s 3ms/step - loss: 0.0029 - mean_absolute_error: 0.0346 - val_loss: 0.0027 - val_mean_absolute_error: 0.0313\n",
      "Epoch 15/20\n",
      "212/212 [==============================] - 1s 3ms/step - loss: 0.0029 - mean_absolute_error: 0.0346 - val_loss: 0.0027 - val_mean_absolute_error: 0.0313\n",
      "Epoch 16/20\n",
      "212/212 [==============================] - 1s 3ms/step - loss: 0.0029 - mean_absolute_error: 0.0345 - val_loss: 0.0027 - val_mean_absolute_error: 0.0313\n",
      "Epoch 17/20\n",
      "212/212 [==============================] - 1s 3ms/step - loss: 0.0029 - mean_absolute_error: 0.0345 - val_loss: 0.0027 - val_mean_absolute_error: 0.0313\n",
      "Epoch 18/20\n",
      "212/212 [==============================] - 1s 3ms/step - loss: 0.0029 - mean_absolute_error: 0.0345 - val_loss: 0.0027 - val_mean_absolute_error: 0.0312\n",
      "Epoch 19/20\n",
      "212/212 [==============================] - 1s 3ms/step - loss: 0.0029 - mean_absolute_error: 0.0345 - val_loss: 0.0027 - val_mean_absolute_error: 0.0313\n",
      "Epoch 20/20\n",
      "212/212 [==============================] - 1s 3ms/step - loss: 0.0029 - mean_absolute_error: 0.0345 - val_loss: 0.0027 - val_mean_absolute_error: 0.0311\n",
      "INFO:tensorflow:Assets written to: weights/path_simple_cnn_dropout/assets\n"
     ]
    },
    {
     "name": "stderr",
     "output_type": "stream",
     "text": [
      "INFO:tensorflow:Assets written to: weights/path_simple_cnn_dropout/assets\n"
     ]
    }
   ],
   "source": [
    "reload(models_path)\n",
    "m = model_path.ModelPath(uses_goal=False)\n",
    "m.train(models_path.simple_cnn_dropout(train_data, rate=0.2), train_data, eval_data, batch_size=1024, epochs=20)\n",
    "m.save('path_simple_cnn_dropout')\n",
    "m = None"
   ]
  },
  {
   "cell_type": "code",
   "execution_count": 7,
   "metadata": {},
   "outputs": [
    {
     "name": "stdout",
     "output_type": "stream",
     "text": [
      "Epoch 1/50\n",
      "108/108 [==============================] - 2s 12ms/step - loss: 0.0293 - mean_absolute_error: 0.1100 - val_loss: 0.0291 - val_mean_absolute_error: 0.1184\n",
      "Epoch 2/50\n",
      "108/108 [==============================] - 1s 11ms/step - loss: 0.0038 - mean_absolute_error: 0.0430 - val_loss: 0.0269 - val_mean_absolute_error: 0.1133\n",
      "Epoch 3/50\n",
      "108/108 [==============================] - 1s 11ms/step - loss: 0.0031 - mean_absolute_error: 0.0374 - val_loss: 0.0218 - val_mean_absolute_error: 0.1019\n",
      "Epoch 4/50\n",
      "108/108 [==============================] - 1s 11ms/step - loss: 0.0029 - mean_absolute_error: 0.0354 - val_loss: 0.0148 - val_mean_absolute_error: 0.0846\n",
      "Epoch 5/50\n",
      "108/108 [==============================] - 1s 11ms/step - loss: 0.0028 - mean_absolute_error: 0.0343 - val_loss: 0.0085 - val_mean_absolute_error: 0.0650\n",
      "Epoch 6/50\n",
      "108/108 [==============================] - 1s 11ms/step - loss: 0.0028 - mean_absolute_error: 0.0337 - val_loss: 0.0047 - val_mean_absolute_error: 0.0483\n",
      "Epoch 7/50\n",
      "108/108 [==============================] - 1s 11ms/step - loss: 0.0027 - mean_absolute_error: 0.0332 - val_loss: 0.0033 - val_mean_absolute_error: 0.0393\n",
      "Epoch 8/50\n",
      "108/108 [==============================] - 1s 11ms/step - loss: 0.0027 - mean_absolute_error: 0.0330 - val_loss: 0.0029 - val_mean_absolute_error: 0.0357\n",
      "Epoch 9/50\n",
      "108/108 [==============================] - 1s 11ms/step - loss: 0.0027 - mean_absolute_error: 0.0328 - val_loss: 0.0029 - val_mean_absolute_error: 0.0352\n",
      "Epoch 10/50\n",
      "108/108 [==============================] - 1s 11ms/step - loss: 0.0027 - mean_absolute_error: 0.0327 - val_loss: 0.0028 - val_mean_absolute_error: 0.0345\n",
      "Epoch 11/50\n",
      "108/108 [==============================] - 1s 11ms/step - loss: 0.0027 - mean_absolute_error: 0.0325 - val_loss: 0.0028 - val_mean_absolute_error: 0.0344\n",
      "Epoch 12/50\n",
      "108/108 [==============================] - 1s 11ms/step - loss: 0.0027 - mean_absolute_error: 0.0325 - val_loss: 0.0028 - val_mean_absolute_error: 0.0345\n",
      "Epoch 13/50\n",
      "108/108 [==============================] - 1s 11ms/step - loss: 0.0027 - mean_absolute_error: 0.0323 - val_loss: 0.0029 - val_mean_absolute_error: 0.0346\n",
      "Epoch 14/50\n",
      "108/108 [==============================] - 1s 11ms/step - loss: 0.0027 - mean_absolute_error: 0.0323 - val_loss: 0.0028 - val_mean_absolute_error: 0.0344\n",
      "Epoch 15/50\n",
      "108/108 [==============================] - 1s 11ms/step - loss: 0.0027 - mean_absolute_error: 0.0323 - val_loss: 0.0028 - val_mean_absolute_error: 0.0342\n",
      "Epoch 16/50\n",
      "108/108 [==============================] - 1s 11ms/step - loss: 0.0026 - mean_absolute_error: 0.0321 - val_loss: 0.0029 - val_mean_absolute_error: 0.0346\n",
      "Epoch 17/50\n",
      "108/108 [==============================] - 1s 11ms/step - loss: 0.0026 - mean_absolute_error: 0.0321 - val_loss: 0.0028 - val_mean_absolute_error: 0.0340\n",
      "Epoch 18/50\n",
      "108/108 [==============================] - 1s 12ms/step - loss: 0.0026 - mean_absolute_error: 0.0320 - val_loss: 0.0028 - val_mean_absolute_error: 0.0337\n",
      "Epoch 19/50\n",
      "108/108 [==============================] - 1s 12ms/step - loss: 0.0026 - mean_absolute_error: 0.0320 - val_loss: 0.0028 - val_mean_absolute_error: 0.0341\n",
      "Epoch 20/50\n",
      "108/108 [==============================] - 1s 11ms/step - loss: 0.0026 - mean_absolute_error: 0.0320 - val_loss: 0.0028 - val_mean_absolute_error: 0.0337\n",
      "Epoch 21/50\n",
      "108/108 [==============================] - 1s 11ms/step - loss: 0.0026 - mean_absolute_error: 0.0319 - val_loss: 0.0028 - val_mean_absolute_error: 0.0339\n",
      "Epoch 22/50\n",
      "108/108 [==============================] - 1s 12ms/step - loss: 0.0026 - mean_absolute_error: 0.0319 - val_loss: 0.0028 - val_mean_absolute_error: 0.0340\n",
      "Epoch 23/50\n",
      "108/108 [==============================] - 1s 12ms/step - loss: 0.0026 - mean_absolute_error: 0.0319 - val_loss: 0.0028 - val_mean_absolute_error: 0.0336\n",
      "Epoch 24/50\n",
      "108/108 [==============================] - 1s 11ms/step - loss: 0.0026 - mean_absolute_error: 0.0318 - val_loss: 0.0028 - val_mean_absolute_error: 0.0338\n",
      "Epoch 25/50\n",
      "108/108 [==============================] - 1s 12ms/step - loss: 0.0026 - mean_absolute_error: 0.0318 - val_loss: 0.0027 - val_mean_absolute_error: 0.0336\n",
      "Epoch 26/50\n",
      "108/108 [==============================] - 1s 12ms/step - loss: 0.0026 - mean_absolute_error: 0.0318 - val_loss: 0.0027 - val_mean_absolute_error: 0.0335\n",
      "Epoch 27/50\n",
      "108/108 [==============================] - 1s 12ms/step - loss: 0.0026 - mean_absolute_error: 0.0318 - val_loss: 0.0028 - val_mean_absolute_error: 0.0336\n",
      "Epoch 28/50\n",
      "108/108 [==============================] - 1s 11ms/step - loss: 0.0026 - mean_absolute_error: 0.0317 - val_loss: 0.0027 - val_mean_absolute_error: 0.0333\n",
      "Epoch 29/50\n",
      "108/108 [==============================] - 1s 12ms/step - loss: 0.0026 - mean_absolute_error: 0.0318 - val_loss: 0.0028 - val_mean_absolute_error: 0.0336\n",
      "Epoch 30/50\n",
      "108/108 [==============================] - 1s 12ms/step - loss: 0.0026 - mean_absolute_error: 0.0318 - val_loss: 0.0027 - val_mean_absolute_error: 0.0333\n",
      "Epoch 31/50\n",
      "108/108 [==============================] - 1s 12ms/step - loss: 0.0026 - mean_absolute_error: 0.0317 - val_loss: 0.0028 - val_mean_absolute_error: 0.0337\n",
      "Epoch 32/50\n",
      "108/108 [==============================] - 1s 12ms/step - loss: 0.0026 - mean_absolute_error: 0.0317 - val_loss: 0.0027 - val_mean_absolute_error: 0.0333\n",
      "Epoch 33/50\n",
      "108/108 [==============================] - 1s 12ms/step - loss: 0.0026 - mean_absolute_error: 0.0316 - val_loss: 0.0027 - val_mean_absolute_error: 0.0335\n",
      "Epoch 34/50\n",
      "108/108 [==============================] - 1s 12ms/step - loss: 0.0026 - mean_absolute_error: 0.0315 - val_loss: 0.0027 - val_mean_absolute_error: 0.0333\n",
      "Epoch 35/50\n",
      "108/108 [==============================] - 1s 12ms/step - loss: 0.0026 - mean_absolute_error: 0.0317 - val_loss: 0.0027 - val_mean_absolute_error: 0.0334\n",
      "Epoch 36/50\n",
      "108/108 [==============================] - 1s 11ms/step - loss: 0.0026 - mean_absolute_error: 0.0315 - val_loss: 0.0027 - val_mean_absolute_error: 0.0331\n",
      "Epoch 37/50\n",
      "108/108 [==============================] - 1s 12ms/step - loss: 0.0026 - mean_absolute_error: 0.0315 - val_loss: 0.0027 - val_mean_absolute_error: 0.0332\n",
      "Epoch 38/50\n",
      "108/108 [==============================] - 1s 11ms/step - loss: 0.0026 - mean_absolute_error: 0.0315 - val_loss: 0.0028 - val_mean_absolute_error: 0.0339\n",
      "Epoch 39/50\n",
      "108/108 [==============================] - 1s 11ms/step - loss: 0.0026 - mean_absolute_error: 0.0315 - val_loss: 0.0027 - val_mean_absolute_error: 0.0333\n",
      "Epoch 40/50\n",
      "108/108 [==============================] - 1s 12ms/step - loss: 0.0026 - mean_absolute_error: 0.0315 - val_loss: 0.0027 - val_mean_absolute_error: 0.0335\n",
      "Epoch 41/50\n",
      "108/108 [==============================] - 1s 12ms/step - loss: 0.0026 - mean_absolute_error: 0.0315 - val_loss: 0.0027 - val_mean_absolute_error: 0.0332\n",
      "Epoch 42/50\n",
      "108/108 [==============================] - 1s 12ms/step - loss: 0.0026 - mean_absolute_error: 0.0314 - val_loss: 0.0028 - val_mean_absolute_error: 0.0338\n",
      "Epoch 43/50\n",
      "108/108 [==============================] - 1s 12ms/step - loss: 0.0026 - mean_absolute_error: 0.0314 - val_loss: 0.0027 - val_mean_absolute_error: 0.0329\n",
      "Epoch 44/50\n",
      "108/108 [==============================] - 1s 11ms/step - loss: 0.0026 - mean_absolute_error: 0.0314 - val_loss: 0.0027 - val_mean_absolute_error: 0.0331\n",
      "Epoch 45/50\n",
      "108/108 [==============================] - 1s 11ms/step - loss: 0.0026 - mean_absolute_error: 0.0314 - val_loss: 0.0027 - val_mean_absolute_error: 0.0332\n",
      "Epoch 46/50\n",
      "108/108 [==============================] - 1s 12ms/step - loss: 0.0026 - mean_absolute_error: 0.0314 - val_loss: 0.0027 - val_mean_absolute_error: 0.0331\n",
      "Epoch 47/50\n",
      "108/108 [==============================] - 1s 12ms/step - loss: 0.0026 - mean_absolute_error: 0.0314 - val_loss: 0.0027 - val_mean_absolute_error: 0.0334\n",
      "Epoch 48/50\n",
      "108/108 [==============================] - 1s 12ms/step - loss: 0.0026 - mean_absolute_error: 0.0314 - val_loss: 0.0028 - val_mean_absolute_error: 0.0335\n",
      "Epoch 49/50\n",
      "108/108 [==============================] - 1s 12ms/step - loss: 0.0026 - mean_absolute_error: 0.0313 - val_loss: 0.0027 - val_mean_absolute_error: 0.0331\n",
      "Epoch 50/50\n",
      "108/108 [==============================] - 1s 12ms/step - loss: 0.0026 - mean_absolute_error: 0.0314 - val_loss: 0.0027 - val_mean_absolute_error: 0.0331\n",
      "INFO:tensorflow:Assets written to: weights/cnn_batchnormalization/assets\n"
     ]
    },
    {
     "name": "stderr",
     "output_type": "stream",
     "text": [
      "INFO:tensorflow:Assets written to: weights/cnn_batchnormalization/assets\n"
     ]
    }
   ],
   "source": [
    "reload(models_path)\n",
    "m = model_path.ModelPath(uses_goal=False)\n",
    "m.train(models_path.cnn_batchnormalization(train_data), train_data, eval_data, batch_size=2048, epochs=50)\n",
    "m.save('path_cnn_batchnormalization')\n",
    "m = None"
   ]
  }
 ],
 "metadata": {
  "interpreter": {
   "hash": "e7370f93d1d0cde622a1f8e1c04877d8463912d04d973331ad4851f04de6915a"
  },
  "kernelspec": {
   "display_name": "Python 3.8.10 64-bit",
   "language": "python",
   "name": "python3"
  },
  "language_info": {
   "codemirror_mode": {
    "name": "ipython",
    "version": 3
   },
   "file_extension": ".py",
   "mimetype": "text/x-python",
   "name": "python",
   "nbconvert_exporter": "python",
   "pygments_lexer": "ipython3",
   "version": "3.8.10"
  },
  "orig_nbformat": 4
 },
 "nbformat": 4,
 "nbformat_minor": 2
}
