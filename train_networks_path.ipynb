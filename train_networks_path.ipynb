{
 "cells": [
  {
   "cell_type": "code",
   "execution_count": 1,
   "metadata": {},
   "outputs": [],
   "source": [
    "from importlib import reload\n",
    "from src import parsing\n",
    "from src import model_path\n",
    "from src import models_path\n",
    "from src import model_goal\n",
    "from src import models_goal\n",
    "from src import inception\n",
    "from src import transformer\n",
    "from src import model_interface\n",
    "from src import visualization\n",
    "from src import util\n",
    "from src import config\n",
    "reload(parsing)\n",
    "reload(model_path)\n",
    "reload(models_path)\n",
    "reload(model_goal)\n",
    "reload(models_goal)\n",
    "reload(inception)\n",
    "reload(model_interface)\n",
    "reload(visualization)\n",
    "reload(util)\n",
    "reload(config)\n",
    "\n",
    "# file_name = \"atc-20121114.csv\"\n",
    "# file_name = \"part1_days_01_to_03\"\n",
    "# file_name = \"medium_aa.csv\"\n",
    "file_name = \"part1_days_04_to_07\"\n",
    "train_data, eval_data, test_data = parsing.load_processed_data(file_name)"
   ]
  },
  {
   "cell_type": "code",
   "execution_count": null,
   "metadata": {},
   "outputs": [],
   "source": [
    "reload(model_path)\n",
    "reload(transformer)\n",
    "m = model_path.ModelPath(uses_goal=False)\n",
    "input_shape = train_data[0].shape\n",
    "input_shape = (input_shape[1], input_shape[2])\n",
    "model = transformer.build_model(\n",
    "    input_shape,\n",
    "    head_size=128, # 256\n",
    "    num_heads=1, # 4\n",
    "    ff_dim=None, # 4\n",
    "    num_transformer_blocks=1, # 4\n",
    "    mlp_units=1, # [128]\n",
    "    mlp_dropout=0.4, # 0.4\n",
    "    dropout=0.25, # 0.25\n",
    ")\n",
    "\n",
    "#model_name = 'path_transformer_defaultvals_numheads2_headsize128'\n",
    "model_name = 'path_transformer_min1'\n",
    "history = m.train(train_data, eval_data,\n",
    "    model=model,\n",
    "    batch_size=256,\n",
    "    epochs=100,\n",
    "    learning_rate=1e-4,\n",
    "    checkpoints_path=f'checkpoints/{model_name}'\n",
    ")\n",
    "\n",
    "m.save(model_name)\n",
    "model = None\n",
    "m = None\n",
    "\n",
    "model_interface.save_history(model_name, history)"
   ]
  },
  {
   "cell_type": "code",
   "execution_count": 2,
   "metadata": {},
   "outputs": [
    {
     "name": "stdout",
     "output_type": "stream",
     "text": [
      "Compiling new model\n",
      "Epoch 1/100\n",
      "77218/77218 [==============================] - 448s 6ms/step - loss: 0.0049 - mean_absolute_error: 0.0438 - val_loss: 0.0058 - val_mean_absolute_error: 0.0507\n"
     ]
    },
    {
     "name": "stderr",
     "output_type": "stream",
     "text": [
      "WARNING:absl:Found untraced functions such as multi_head_attention_layer_call_and_return_conditional_losses, multi_head_attention_layer_call_fn, dropout_layer_call_and_return_conditional_losses, dropout_layer_call_fn, dropout_1_layer_call_and_return_conditional_losses while saving (showing 5 of 45). These functions will not be directly callable after loading.\n"
     ]
    },
    {
     "name": "stdout",
     "output_type": "stream",
     "text": [
      "INFO:tensorflow:Assets written to: checkpoints/path_transformerk_n/assets\n"
     ]
    },
    {
     "name": "stderr",
     "output_type": "stream",
     "text": [
      "INFO:tensorflow:Assets written to: checkpoints/path_transformerk_n/assets\n"
     ]
    },
    {
     "name": "stdout",
     "output_type": "stream",
     "text": [
      "Epoch 2/100\n",
      "77218/77218 [==============================] - 448s 6ms/step - loss: 0.0044 - mean_absolute_error: 0.0415 - val_loss: 0.0044 - val_mean_absolute_error: 0.0419\n"
     ]
    },
    {
     "name": "stderr",
     "output_type": "stream",
     "text": [
      "WARNING:absl:Found untraced functions such as multi_head_attention_layer_call_and_return_conditional_losses, multi_head_attention_layer_call_fn, dropout_layer_call_and_return_conditional_losses, dropout_layer_call_fn, dropout_1_layer_call_and_return_conditional_losses while saving (showing 5 of 45). These functions will not be directly callable after loading.\n"
     ]
    },
    {
     "name": "stdout",
     "output_type": "stream",
     "text": [
      "INFO:tensorflow:Assets written to: checkpoints/path_transformerk_n/assets\n"
     ]
    },
    {
     "name": "stderr",
     "output_type": "stream",
     "text": [
      "INFO:tensorflow:Assets written to: checkpoints/path_transformerk_n/assets\n"
     ]
    },
    {
     "name": "stdout",
     "output_type": "stream",
     "text": [
      "Epoch 3/100\n",
      "77218/77218 [==============================] - 452s 6ms/step - loss: 0.0044 - mean_absolute_error: 0.0413 - val_loss: 0.0054 - val_mean_absolute_error: 0.0484\n",
      "Epoch 4/100\n",
      "77218/77218 [==============================] - 448s 6ms/step - loss: 0.0043 - mean_absolute_error: 0.0412 - val_loss: 0.0052 - val_mean_absolute_error: 0.0467\n",
      "Epoch 5/100\n",
      "77218/77218 [==============================] - 447s 6ms/step - loss: 0.0043 - mean_absolute_error: 0.0412 - val_loss: 0.0128 - val_mean_absolute_error: 0.0748\n",
      "Epoch 6/100\n",
      "77218/77218 [==============================] - 446s 6ms/step - loss: 0.0043 - mean_absolute_error: 0.0411 - val_loss: 0.0045 - val_mean_absolute_error: 0.0423\n",
      "Epoch 7/100\n",
      "77218/77218 [==============================] - 446s 6ms/step - loss: 0.0043 - mean_absolute_error: 0.0411 - val_loss: 0.0056 - val_mean_absolute_error: 0.0503\n",
      "Epoch 8/100\n",
      "77218/77218 [==============================] - 446s 6ms/step - loss: 0.0043 - mean_absolute_error: 0.0411 - val_loss: 0.0042 - val_mean_absolute_error: 0.0401\n"
     ]
    },
    {
     "name": "stderr",
     "output_type": "stream",
     "text": [
      "WARNING:absl:Found untraced functions such as multi_head_attention_layer_call_and_return_conditional_losses, multi_head_attention_layer_call_fn, dropout_layer_call_and_return_conditional_losses, dropout_layer_call_fn, dropout_1_layer_call_and_return_conditional_losses while saving (showing 5 of 45). These functions will not be directly callable after loading.\n"
     ]
    },
    {
     "name": "stdout",
     "output_type": "stream",
     "text": [
      "INFO:tensorflow:Assets written to: checkpoints/path_transformerk_n/assets\n"
     ]
    },
    {
     "name": "stderr",
     "output_type": "stream",
     "text": [
      "INFO:tensorflow:Assets written to: checkpoints/path_transformerk_n/assets\n"
     ]
    },
    {
     "name": "stdout",
     "output_type": "stream",
     "text": [
      "Epoch 9/100\n",
      "77218/77218 [==============================] - 445s 6ms/step - loss: 0.0043 - mean_absolute_error: 0.0411 - val_loss: 0.0050 - val_mean_absolute_error: 0.0453\n",
      "Epoch 10/100\n",
      "77218/77218 [==============================] - 450s 6ms/step - loss: 0.0043 - mean_absolute_error: 0.0410 - val_loss: 0.0045 - val_mean_absolute_error: 0.0421\n",
      "Epoch 11/100\n",
      "77218/77218 [==============================] - 445s 6ms/step - loss: 0.0043 - mean_absolute_error: 0.0410 - val_loss: 0.0050 - val_mean_absolute_error: 0.0448\n",
      "Epoch 12/100\n",
      "77218/77218 [==============================] - 457s 6ms/step - loss: 0.0043 - mean_absolute_error: 0.0410 - val_loss: 0.0076 - val_mean_absolute_error: 0.0579\n",
      "Epoch 13/100\n",
      "77213/77218 [============================>.] - ETA: 0s - loss: 0.0043 - mean_absolute_error: 0.0410"
     ]
    },
    {
     "ename": "KeyboardInterrupt",
     "evalue": "",
     "output_type": "error",
     "traceback": [
      "\u001b[0;31m---------------------------------------------------------------------------\u001b[0m",
      "\u001b[0;31mKeyboardInterrupt\u001b[0m                         Traceback (most recent call last)",
      "\u001b[0;32m<ipython-input-2-648698285ecf>\u001b[0m in \u001b[0;36m<module>\u001b[0;34m\u001b[0m\n\u001b[1;32m     19\u001b[0m \u001b[0;34m\u001b[0m\u001b[0m\n\u001b[1;32m     20\u001b[0m \u001b[0mmodel_name\u001b[0m \u001b[0;34m=\u001b[0m \u001b[0;34m'path_transformerk_n'\u001b[0m\u001b[0;34m\u001b[0m\u001b[0;34m\u001b[0m\u001b[0m\n\u001b[0;32m---> 21\u001b[0;31m history = m.train(train_data, eval_data,\n\u001b[0m\u001b[1;32m     22\u001b[0m     \u001b[0mmodel\u001b[0m\u001b[0;34m=\u001b[0m\u001b[0mmodel\u001b[0m\u001b[0;34m,\u001b[0m\u001b[0;34m\u001b[0m\u001b[0;34m\u001b[0m\u001b[0m\n\u001b[1;32m     23\u001b[0m     \u001b[0;31m# model=None,\u001b[0m\u001b[0;34m\u001b[0m\u001b[0;34m\u001b[0m\u001b[0;34m\u001b[0m\u001b[0m\n",
      "\u001b[0;32m~/Documents/trajectory-prediction/src/model_path.py\u001b[0m in \u001b[0;36mtrain\u001b[0;34m(self, train_data, eval_data, train_goals, eval_goals, model, batch_size, epochs, checkpoints_path, learning_rate, learning_rate_scheduler)\u001b[0m\n\u001b[1;32m     78\u001b[0m             \u001b[0mcallbacks\u001b[0m \u001b[0;34m+=\u001b[0m \u001b[0;34m[\u001b[0m\u001b[0mkeras\u001b[0m\u001b[0;34m.\u001b[0m\u001b[0mcallbacks\u001b[0m\u001b[0;34m.\u001b[0m\u001b[0mLearningRateScheduler\u001b[0m\u001b[0;34m(\u001b[0m\u001b[0mlr_fast_slow\u001b[0m\u001b[0;34m,\u001b[0m \u001b[0mverbose\u001b[0m\u001b[0;34m=\u001b[0m\u001b[0;36m1\u001b[0m\u001b[0;34m)\u001b[0m\u001b[0;34m]\u001b[0m\u001b[0;34m\u001b[0m\u001b[0;34m\u001b[0m\u001b[0m\n\u001b[1;32m     79\u001b[0m \u001b[0;34m\u001b[0m\u001b[0m\n\u001b[0;32m---> 80\u001b[0;31m         history = self.model.fit(\n\u001b[0m\u001b[1;32m     81\u001b[0m                             \u001b[0mx\u001b[0m\u001b[0;34m=\u001b[0m\u001b[0mtrain_x\u001b[0m\u001b[0;34m,\u001b[0m\u001b[0;34m\u001b[0m\u001b[0;34m\u001b[0m\u001b[0m\n\u001b[1;32m     82\u001b[0m                             \u001b[0my\u001b[0m\u001b[0;34m=\u001b[0m\u001b[0mtrain_y\u001b[0m\u001b[0;34m,\u001b[0m\u001b[0;34m\u001b[0m\u001b[0;34m\u001b[0m\u001b[0m\n",
      "\u001b[0;32m~/.local/lib/python3.8/site-packages/keras/engine/training.py\u001b[0m in \u001b[0;36mfit\u001b[0;34m(self, x, y, batch_size, epochs, verbose, callbacks, validation_split, validation_data, shuffle, class_weight, sample_weight, initial_epoch, steps_per_epoch, validation_steps, validation_batch_size, validation_freq, max_queue_size, workers, use_multiprocessing)\u001b[0m\n\u001b[1;32m   1213\u001b[0m                 \u001b[0mmodel\u001b[0m\u001b[0;34m=\u001b[0m\u001b[0mself\u001b[0m\u001b[0;34m,\u001b[0m\u001b[0;34m\u001b[0m\u001b[0;34m\u001b[0m\u001b[0m\n\u001b[1;32m   1214\u001b[0m                 steps_per_execution=self._steps_per_execution)\n\u001b[0;32m-> 1215\u001b[0;31m           val_logs = self.evaluate(\n\u001b[0m\u001b[1;32m   1216\u001b[0m               \u001b[0mx\u001b[0m\u001b[0;34m=\u001b[0m\u001b[0mval_x\u001b[0m\u001b[0;34m,\u001b[0m\u001b[0;34m\u001b[0m\u001b[0;34m\u001b[0m\u001b[0m\n\u001b[1;32m   1217\u001b[0m               \u001b[0my\u001b[0m\u001b[0;34m=\u001b[0m\u001b[0mval_y\u001b[0m\u001b[0;34m,\u001b[0m\u001b[0;34m\u001b[0m\u001b[0;34m\u001b[0m\u001b[0m\n",
      "\u001b[0;32m~/.local/lib/python3.8/site-packages/keras/engine/training.py\u001b[0m in \u001b[0;36mevaluate\u001b[0;34m(self, x, y, batch_size, verbose, sample_weight, steps, callbacks, max_queue_size, workers, use_multiprocessing, return_dict, **kwargs)\u001b[0m\n\u001b[1;32m   1499\u001b[0m             \u001b[0;32mwith\u001b[0m \u001b[0mtf\u001b[0m\u001b[0;34m.\u001b[0m\u001b[0mprofiler\u001b[0m\u001b[0;34m.\u001b[0m\u001b[0mexperimental\u001b[0m\u001b[0;34m.\u001b[0m\u001b[0mTrace\u001b[0m\u001b[0;34m(\u001b[0m\u001b[0;34m'test'\u001b[0m\u001b[0;34m,\u001b[0m \u001b[0mstep_num\u001b[0m\u001b[0;34m=\u001b[0m\u001b[0mstep\u001b[0m\u001b[0;34m,\u001b[0m \u001b[0m_r\u001b[0m\u001b[0;34m=\u001b[0m\u001b[0;36m1\u001b[0m\u001b[0;34m)\u001b[0m\u001b[0;34m:\u001b[0m\u001b[0;34m\u001b[0m\u001b[0;34m\u001b[0m\u001b[0m\n\u001b[1;32m   1500\u001b[0m               \u001b[0mcallbacks\u001b[0m\u001b[0;34m.\u001b[0m\u001b[0mon_test_batch_begin\u001b[0m\u001b[0;34m(\u001b[0m\u001b[0mstep\u001b[0m\u001b[0;34m)\u001b[0m\u001b[0;34m\u001b[0m\u001b[0;34m\u001b[0m\u001b[0m\n\u001b[0;32m-> 1501\u001b[0;31m               \u001b[0mtmp_logs\u001b[0m \u001b[0;34m=\u001b[0m \u001b[0mself\u001b[0m\u001b[0;34m.\u001b[0m\u001b[0mtest_function\u001b[0m\u001b[0;34m(\u001b[0m\u001b[0miterator\u001b[0m\u001b[0;34m)\u001b[0m\u001b[0;34m\u001b[0m\u001b[0;34m\u001b[0m\u001b[0m\n\u001b[0m\u001b[1;32m   1502\u001b[0m               \u001b[0;32mif\u001b[0m \u001b[0mdata_handler\u001b[0m\u001b[0;34m.\u001b[0m\u001b[0mshould_sync\u001b[0m\u001b[0;34m:\u001b[0m\u001b[0;34m\u001b[0m\u001b[0;34m\u001b[0m\u001b[0m\n\u001b[1;32m   1503\u001b[0m                 \u001b[0mcontext\u001b[0m\u001b[0;34m.\u001b[0m\u001b[0masync_wait\u001b[0m\u001b[0;34m(\u001b[0m\u001b[0;34m)\u001b[0m\u001b[0;34m\u001b[0m\u001b[0;34m\u001b[0m\u001b[0m\n",
      "\u001b[0;32m~/.local/lib/python3.8/site-packages/tensorflow/python/eager/def_function.py\u001b[0m in \u001b[0;36m__call__\u001b[0;34m(self, *args, **kwds)\u001b[0m\n\u001b[1;32m    883\u001b[0m \u001b[0;34m\u001b[0m\u001b[0m\n\u001b[1;32m    884\u001b[0m       \u001b[0;32mwith\u001b[0m \u001b[0mOptionalXlaContext\u001b[0m\u001b[0;34m(\u001b[0m\u001b[0mself\u001b[0m\u001b[0;34m.\u001b[0m\u001b[0m_jit_compile\u001b[0m\u001b[0;34m)\u001b[0m\u001b[0;34m:\u001b[0m\u001b[0;34m\u001b[0m\u001b[0;34m\u001b[0m\u001b[0m\n\u001b[0;32m--> 885\u001b[0;31m         \u001b[0mresult\u001b[0m \u001b[0;34m=\u001b[0m \u001b[0mself\u001b[0m\u001b[0;34m.\u001b[0m\u001b[0m_call\u001b[0m\u001b[0;34m(\u001b[0m\u001b[0;34m*\u001b[0m\u001b[0margs\u001b[0m\u001b[0;34m,\u001b[0m \u001b[0;34m**\u001b[0m\u001b[0mkwds\u001b[0m\u001b[0;34m)\u001b[0m\u001b[0;34m\u001b[0m\u001b[0;34m\u001b[0m\u001b[0m\n\u001b[0m\u001b[1;32m    886\u001b[0m \u001b[0;34m\u001b[0m\u001b[0m\n\u001b[1;32m    887\u001b[0m       \u001b[0mnew_tracing_count\u001b[0m \u001b[0;34m=\u001b[0m \u001b[0mself\u001b[0m\u001b[0;34m.\u001b[0m\u001b[0mexperimental_get_tracing_count\u001b[0m\u001b[0;34m(\u001b[0m\u001b[0;34m)\u001b[0m\u001b[0;34m\u001b[0m\u001b[0;34m\u001b[0m\u001b[0m\n",
      "\u001b[0;32m~/.local/lib/python3.8/site-packages/tensorflow/python/eager/def_function.py\u001b[0m in \u001b[0;36m_call\u001b[0;34m(self, *args, **kwds)\u001b[0m\n\u001b[1;32m    922\u001b[0m       \u001b[0;31m# In this case we have not created variables on the first call. So we can\u001b[0m\u001b[0;34m\u001b[0m\u001b[0;34m\u001b[0m\u001b[0;34m\u001b[0m\u001b[0m\n\u001b[1;32m    923\u001b[0m       \u001b[0;31m# run the first trace but we should fail if variables are created.\u001b[0m\u001b[0;34m\u001b[0m\u001b[0;34m\u001b[0m\u001b[0;34m\u001b[0m\u001b[0m\n\u001b[0;32m--> 924\u001b[0;31m       \u001b[0mresults\u001b[0m \u001b[0;34m=\u001b[0m \u001b[0mself\u001b[0m\u001b[0;34m.\u001b[0m\u001b[0m_stateful_fn\u001b[0m\u001b[0;34m(\u001b[0m\u001b[0;34m*\u001b[0m\u001b[0margs\u001b[0m\u001b[0;34m,\u001b[0m \u001b[0;34m**\u001b[0m\u001b[0mkwds\u001b[0m\u001b[0;34m)\u001b[0m\u001b[0;34m\u001b[0m\u001b[0;34m\u001b[0m\u001b[0m\n\u001b[0m\u001b[1;32m    925\u001b[0m       \u001b[0;32mif\u001b[0m \u001b[0mself\u001b[0m\u001b[0;34m.\u001b[0m\u001b[0m_created_variables\u001b[0m \u001b[0;32mand\u001b[0m \u001b[0;32mnot\u001b[0m \u001b[0mALLOW_DYNAMIC_VARIABLE_CREATION\u001b[0m\u001b[0;34m:\u001b[0m\u001b[0;34m\u001b[0m\u001b[0;34m\u001b[0m\u001b[0m\n\u001b[1;32m    926\u001b[0m         raise ValueError(\"Creating variables on a non-first call to a function\"\n",
      "\u001b[0;32m~/.local/lib/python3.8/site-packages/tensorflow/python/eager/function.py\u001b[0m in \u001b[0;36m__call__\u001b[0;34m(self, *args, **kwargs)\u001b[0m\n\u001b[1;32m   3037\u001b[0m       (graph_function,\n\u001b[1;32m   3038\u001b[0m        filtered_flat_args) = self._maybe_define_function(args, kwargs)\n\u001b[0;32m-> 3039\u001b[0;31m     return graph_function._call_flat(\n\u001b[0m\u001b[1;32m   3040\u001b[0m         filtered_flat_args, captured_inputs=graph_function.captured_inputs)  # pylint: disable=protected-access\n\u001b[1;32m   3041\u001b[0m \u001b[0;34m\u001b[0m\u001b[0m\n",
      "\u001b[0;32m~/.local/lib/python3.8/site-packages/tensorflow/python/eager/function.py\u001b[0m in \u001b[0;36m_call_flat\u001b[0;34m(self, args, captured_inputs, cancellation_manager)\u001b[0m\n\u001b[1;32m   1961\u001b[0m         and executing_eagerly):\n\u001b[1;32m   1962\u001b[0m       \u001b[0;31m# No tape is watching; skip to running the function.\u001b[0m\u001b[0;34m\u001b[0m\u001b[0;34m\u001b[0m\u001b[0;34m\u001b[0m\u001b[0m\n\u001b[0;32m-> 1963\u001b[0;31m       return self._build_call_outputs(self._inference_function.call(\n\u001b[0m\u001b[1;32m   1964\u001b[0m           ctx, args, cancellation_manager=cancellation_manager))\n\u001b[1;32m   1965\u001b[0m     forward_backward = self._select_forward_and_backward_functions(\n",
      "\u001b[0;32m~/.local/lib/python3.8/site-packages/tensorflow/python/eager/function.py\u001b[0m in \u001b[0;36mcall\u001b[0;34m(self, ctx, args, cancellation_manager)\u001b[0m\n\u001b[1;32m    589\u001b[0m       \u001b[0;32mwith\u001b[0m \u001b[0m_InterpolateFunctionError\u001b[0m\u001b[0;34m(\u001b[0m\u001b[0mself\u001b[0m\u001b[0;34m)\u001b[0m\u001b[0;34m:\u001b[0m\u001b[0;34m\u001b[0m\u001b[0;34m\u001b[0m\u001b[0m\n\u001b[1;32m    590\u001b[0m         \u001b[0;32mif\u001b[0m \u001b[0mcancellation_manager\u001b[0m \u001b[0;32mis\u001b[0m \u001b[0;32mNone\u001b[0m\u001b[0;34m:\u001b[0m\u001b[0;34m\u001b[0m\u001b[0;34m\u001b[0m\u001b[0m\n\u001b[0;32m--> 591\u001b[0;31m           outputs = execute.execute(\n\u001b[0m\u001b[1;32m    592\u001b[0m               \u001b[0mstr\u001b[0m\u001b[0;34m(\u001b[0m\u001b[0mself\u001b[0m\u001b[0;34m.\u001b[0m\u001b[0msignature\u001b[0m\u001b[0;34m.\u001b[0m\u001b[0mname\u001b[0m\u001b[0;34m)\u001b[0m\u001b[0;34m,\u001b[0m\u001b[0;34m\u001b[0m\u001b[0;34m\u001b[0m\u001b[0m\n\u001b[1;32m    593\u001b[0m               \u001b[0mnum_outputs\u001b[0m\u001b[0;34m=\u001b[0m\u001b[0mself\u001b[0m\u001b[0;34m.\u001b[0m\u001b[0m_num_outputs\u001b[0m\u001b[0;34m,\u001b[0m\u001b[0;34m\u001b[0m\u001b[0;34m\u001b[0m\u001b[0m\n",
      "\u001b[0;32m~/.local/lib/python3.8/site-packages/tensorflow/python/eager/execute.py\u001b[0m in \u001b[0;36mquick_execute\u001b[0;34m(op_name, num_outputs, inputs, attrs, ctx, name)\u001b[0m\n\u001b[1;32m     57\u001b[0m   \u001b[0;32mtry\u001b[0m\u001b[0;34m:\u001b[0m\u001b[0;34m\u001b[0m\u001b[0;34m\u001b[0m\u001b[0m\n\u001b[1;32m     58\u001b[0m     \u001b[0mctx\u001b[0m\u001b[0;34m.\u001b[0m\u001b[0mensure_initialized\u001b[0m\u001b[0;34m(\u001b[0m\u001b[0;34m)\u001b[0m\u001b[0;34m\u001b[0m\u001b[0;34m\u001b[0m\u001b[0m\n\u001b[0;32m---> 59\u001b[0;31m     tensors = pywrap_tfe.TFE_Py_Execute(ctx._handle, device_name, op_name,\n\u001b[0m\u001b[1;32m     60\u001b[0m                                         inputs, attrs, num_outputs)\n\u001b[1;32m     61\u001b[0m   \u001b[0;32mexcept\u001b[0m \u001b[0mcore\u001b[0m\u001b[0;34m.\u001b[0m\u001b[0m_NotOkStatusException\u001b[0m \u001b[0;32mas\u001b[0m \u001b[0me\u001b[0m\u001b[0;34m:\u001b[0m\u001b[0;34m\u001b[0m\u001b[0;34m\u001b[0m\u001b[0m\n",
      "\u001b[0;31mKeyboardInterrupt\u001b[0m: "
     ]
    }
   ],
   "source": [
    "from src import transformer_k\n",
    "reload(transformer_k)\n",
    "reload(model_path)\n",
    "\n",
    "m = model_path.ModelPath(uses_goal=False)\n",
    "input_shape = train_data[0].shape\n",
    "input_shape = (input_shape[1], input_shape[2])\n",
    "model = transformer_k.build_model(\n",
    "    input_shape,\n",
    "    head_size=64, # 256\n",
    "    num_heads=4, # 4\n",
    "    ff_dim=256, # 4\n",
    "    num_transformer_blocks=1, # 4\n",
    "    mlp_units=1, # [128]\n",
    "    mlp_dropout=0.2, # 0.4\n",
    "    dropout=0.2, # 0.25\n",
    "    time2vec_dim=3, # 3\n",
    ")\n",
    "\n",
    "model_name = 'path_transformerk_n'\n",
    "history = m.train(train_data, eval_data,\n",
    "    model=model,\n",
    "    # model=None,\n",
    "    batch_size=256,\n",
    "    epochs=100,\n",
    "    learning_rate=1e-3,\n",
    "    learning_rate_scheduler=True,\n",
    "    checkpoints_path=f'checkpoints/{model_name}'\n",
    ")\n",
    "\n",
    "m.save(model_name)\n",
    "model = None\n",
    "m = None\n",
    "\n",
    "model_interface.save_history(model_name, history)"
   ]
  },
  {
   "cell_type": "code",
   "execution_count": 3,
   "metadata": {},
   "outputs": [
    {
     "name": "stdout",
     "output_type": "stream",
     "text": [
      "Compiling new model\n",
      "Epoch 1/30\n",
      "19305/19305 [==============================] - 126s 6ms/step - loss: 0.0043 - mean_absolute_error: 0.0403 - val_loss: 0.0041 - val_mean_absolute_error: 0.0396\n"
     ]
    },
    {
     "name": "stderr",
     "output_type": "stream",
     "text": [
      "WARNING:absl:Found untraced functions such as lstm_cell_layer_call_fn, lstm_cell_layer_call_and_return_conditional_losses, lstm_cell_layer_call_fn, lstm_cell_layer_call_and_return_conditional_losses, lstm_cell_layer_call_and_return_conditional_losses while saving (showing 5 of 5). These functions will not be directly callable after loading.\n"
     ]
    },
    {
     "name": "stdout",
     "output_type": "stream",
     "text": [
      "INFO:tensorflow:Assets written to: checkpoints/path_simple_lstm_0407/assets\n"
     ]
    },
    {
     "name": "stderr",
     "output_type": "stream",
     "text": [
      "INFO:tensorflow:Assets written to: checkpoints/path_simple_lstm_0407/assets\n"
     ]
    },
    {
     "name": "stdout",
     "output_type": "stream",
     "text": [
      "Epoch 2/30\n",
      "19305/19305 [==============================] - 127s 7ms/step - loss: 0.0041 - mean_absolute_error: 0.0389 - val_loss: 0.0040 - val_mean_absolute_error: 0.0387\n"
     ]
    },
    {
     "name": "stderr",
     "output_type": "stream",
     "text": [
      "WARNING:absl:Found untraced functions such as lstm_cell_layer_call_fn, lstm_cell_layer_call_and_return_conditional_losses, lstm_cell_layer_call_fn, lstm_cell_layer_call_and_return_conditional_losses, lstm_cell_layer_call_and_return_conditional_losses while saving (showing 5 of 5). These functions will not be directly callable after loading.\n"
     ]
    },
    {
     "name": "stdout",
     "output_type": "stream",
     "text": [
      "INFO:tensorflow:Assets written to: checkpoints/path_simple_lstm_0407/assets\n"
     ]
    },
    {
     "name": "stderr",
     "output_type": "stream",
     "text": [
      "INFO:tensorflow:Assets written to: checkpoints/path_simple_lstm_0407/assets\n"
     ]
    },
    {
     "name": "stdout",
     "output_type": "stream",
     "text": [
      "Epoch 3/30\n",
      "19305/19305 [==============================] - 127s 7ms/step - loss: 0.0040 - mean_absolute_error: 0.0384 - val_loss: 0.0039 - val_mean_absolute_error: 0.0383\n"
     ]
    },
    {
     "name": "stderr",
     "output_type": "stream",
     "text": [
      "WARNING:absl:Found untraced functions such as lstm_cell_layer_call_fn, lstm_cell_layer_call_and_return_conditional_losses, lstm_cell_layer_call_fn, lstm_cell_layer_call_and_return_conditional_losses, lstm_cell_layer_call_and_return_conditional_losses while saving (showing 5 of 5). These functions will not be directly callable after loading.\n"
     ]
    },
    {
     "name": "stdout",
     "output_type": "stream",
     "text": [
      "INFO:tensorflow:Assets written to: checkpoints/path_simple_lstm_0407/assets\n"
     ]
    },
    {
     "name": "stderr",
     "output_type": "stream",
     "text": [
      "INFO:tensorflow:Assets written to: checkpoints/path_simple_lstm_0407/assets\n"
     ]
    },
    {
     "name": "stdout",
     "output_type": "stream",
     "text": [
      "Epoch 4/30\n",
      "19305/19305 [==============================] - 127s 7ms/step - loss: 0.0039 - mean_absolute_error: 0.0381 - val_loss: 0.0039 - val_mean_absolute_error: 0.0384\n",
      "Epoch 5/30\n",
      "19305/19305 [==============================] - 128s 7ms/step - loss: 0.0039 - mean_absolute_error: 0.0380 - val_loss: 0.0039 - val_mean_absolute_error: 0.0381\n"
     ]
    },
    {
     "name": "stderr",
     "output_type": "stream",
     "text": [
      "WARNING:absl:Found untraced functions such as lstm_cell_layer_call_fn, lstm_cell_layer_call_and_return_conditional_losses, lstm_cell_layer_call_fn, lstm_cell_layer_call_and_return_conditional_losses, lstm_cell_layer_call_and_return_conditional_losses while saving (showing 5 of 5). These functions will not be directly callable after loading.\n"
     ]
    },
    {
     "name": "stdout",
     "output_type": "stream",
     "text": [
      "INFO:tensorflow:Assets written to: checkpoints/path_simple_lstm_0407/assets\n"
     ]
    },
    {
     "name": "stderr",
     "output_type": "stream",
     "text": [
      "INFO:tensorflow:Assets written to: checkpoints/path_simple_lstm_0407/assets\n"
     ]
    },
    {
     "name": "stdout",
     "output_type": "stream",
     "text": [
      "Epoch 6/30\n",
      "19305/19305 [==============================] - 128s 7ms/step - loss: 0.0038 - mean_absolute_error: 0.0378 - val_loss: 0.0038 - val_mean_absolute_error: 0.0379\n"
     ]
    },
    {
     "name": "stderr",
     "output_type": "stream",
     "text": [
      "WARNING:absl:Found untraced functions such as lstm_cell_layer_call_fn, lstm_cell_layer_call_and_return_conditional_losses, lstm_cell_layer_call_fn, lstm_cell_layer_call_and_return_conditional_losses, lstm_cell_layer_call_and_return_conditional_losses while saving (showing 5 of 5). These functions will not be directly callable after loading.\n"
     ]
    },
    {
     "name": "stdout",
     "output_type": "stream",
     "text": [
      "INFO:tensorflow:Assets written to: checkpoints/path_simple_lstm_0407/assets\n"
     ]
    },
    {
     "name": "stderr",
     "output_type": "stream",
     "text": [
      "INFO:tensorflow:Assets written to: checkpoints/path_simple_lstm_0407/assets\n"
     ]
    },
    {
     "name": "stdout",
     "output_type": "stream",
     "text": [
      "Epoch 7/30\n",
      "19305/19305 [==============================] - 125s 6ms/step - loss: 0.0038 - mean_absolute_error: 0.0377 - val_loss: 0.0038 - val_mean_absolute_error: 0.0379\n"
     ]
    },
    {
     "name": "stderr",
     "output_type": "stream",
     "text": [
      "WARNING:absl:Found untraced functions such as lstm_cell_layer_call_fn, lstm_cell_layer_call_and_return_conditional_losses, lstm_cell_layer_call_fn, lstm_cell_layer_call_and_return_conditional_losses, lstm_cell_layer_call_and_return_conditional_losses while saving (showing 5 of 5). These functions will not be directly callable after loading.\n"
     ]
    },
    {
     "name": "stdout",
     "output_type": "stream",
     "text": [
      "INFO:tensorflow:Assets written to: checkpoints/path_simple_lstm_0407/assets\n"
     ]
    },
    {
     "name": "stderr",
     "output_type": "stream",
     "text": [
      "INFO:tensorflow:Assets written to: checkpoints/path_simple_lstm_0407/assets\n"
     ]
    },
    {
     "name": "stdout",
     "output_type": "stream",
     "text": [
      "Epoch 8/30\n",
      "19305/19305 [==============================] - 125s 6ms/step - loss: 0.0038 - mean_absolute_error: 0.0377 - val_loss: 0.0038 - val_mean_absolute_error: 0.0376\n"
     ]
    },
    {
     "name": "stderr",
     "output_type": "stream",
     "text": [
      "WARNING:absl:Found untraced functions such as lstm_cell_layer_call_fn, lstm_cell_layer_call_and_return_conditional_losses, lstm_cell_layer_call_fn, lstm_cell_layer_call_and_return_conditional_losses, lstm_cell_layer_call_and_return_conditional_losses while saving (showing 5 of 5). These functions will not be directly callable after loading.\n"
     ]
    },
    {
     "name": "stdout",
     "output_type": "stream",
     "text": [
      "INFO:tensorflow:Assets written to: checkpoints/path_simple_lstm_0407/assets\n"
     ]
    },
    {
     "name": "stderr",
     "output_type": "stream",
     "text": [
      "INFO:tensorflow:Assets written to: checkpoints/path_simple_lstm_0407/assets\n"
     ]
    },
    {
     "name": "stdout",
     "output_type": "stream",
     "text": [
      "Epoch 9/30\n",
      "19305/19305 [==============================] - 125s 6ms/step - loss: 0.0038 - mean_absolute_error: 0.0376 - val_loss: 0.0038 - val_mean_absolute_error: 0.0377\n",
      "Epoch 10/30\n",
      "19305/19305 [==============================] - 123s 6ms/step - loss: 0.0038 - mean_absolute_error: 0.0375 - val_loss: 0.0038 - val_mean_absolute_error: 0.0376\n",
      "Epoch 11/30\n",
      "19305/19305 [==============================] - 124s 6ms/step - loss: 0.0038 - mean_absolute_error: 0.0375 - val_loss: 0.0038 - val_mean_absolute_error: 0.0375\n"
     ]
    },
    {
     "name": "stderr",
     "output_type": "stream",
     "text": [
      "WARNING:absl:Found untraced functions such as lstm_cell_layer_call_fn, lstm_cell_layer_call_and_return_conditional_losses, lstm_cell_layer_call_fn, lstm_cell_layer_call_and_return_conditional_losses, lstm_cell_layer_call_and_return_conditional_losses while saving (showing 5 of 5). These functions will not be directly callable after loading.\n"
     ]
    },
    {
     "name": "stdout",
     "output_type": "stream",
     "text": [
      "INFO:tensorflow:Assets written to: checkpoints/path_simple_lstm_0407/assets\n"
     ]
    },
    {
     "name": "stderr",
     "output_type": "stream",
     "text": [
      "INFO:tensorflow:Assets written to: checkpoints/path_simple_lstm_0407/assets\n"
     ]
    },
    {
     "name": "stdout",
     "output_type": "stream",
     "text": [
      "Epoch 12/30\n",
      "19305/19305 [==============================] - 123s 6ms/step - loss: 0.0038 - mean_absolute_error: 0.0375 - val_loss: 0.0038 - val_mean_absolute_error: 0.0376\n",
      "Epoch 13/30\n",
      "19305/19305 [==============================] - 123s 6ms/step - loss: 0.0038 - mean_absolute_error: 0.0374 - val_loss: 0.0038 - val_mean_absolute_error: 0.0375\n"
     ]
    },
    {
     "name": "stderr",
     "output_type": "stream",
     "text": [
      "WARNING:absl:Found untraced functions such as lstm_cell_layer_call_fn, lstm_cell_layer_call_and_return_conditional_losses, lstm_cell_layer_call_fn, lstm_cell_layer_call_and_return_conditional_losses, lstm_cell_layer_call_and_return_conditional_losses while saving (showing 5 of 5). These functions will not be directly callable after loading.\n"
     ]
    },
    {
     "name": "stdout",
     "output_type": "stream",
     "text": [
      "INFO:tensorflow:Assets written to: checkpoints/path_simple_lstm_0407/assets\n"
     ]
    },
    {
     "name": "stderr",
     "output_type": "stream",
     "text": [
      "INFO:tensorflow:Assets written to: checkpoints/path_simple_lstm_0407/assets\n"
     ]
    },
    {
     "name": "stdout",
     "output_type": "stream",
     "text": [
      "Epoch 14/30\n",
      "19305/19305 [==============================] - 122s 6ms/step - loss: 0.0038 - mean_absolute_error: 0.0374 - val_loss: 0.0038 - val_mean_absolute_error: 0.0376\n",
      "Epoch 15/30\n",
      "19305/19305 [==============================] - 123s 6ms/step - loss: 0.0038 - mean_absolute_error: 0.0374 - val_loss: 0.0038 - val_mean_absolute_error: 0.0376\n",
      "Epoch 16/30\n",
      "19305/19305 [==============================] - 126s 7ms/step - loss: 0.0037 - mean_absolute_error: 0.0373 - val_loss: 0.0037 - val_mean_absolute_error: 0.0375\n"
     ]
    },
    {
     "name": "stderr",
     "output_type": "stream",
     "text": [
      "WARNING:absl:Found untraced functions such as lstm_cell_layer_call_fn, lstm_cell_layer_call_and_return_conditional_losses, lstm_cell_layer_call_fn, lstm_cell_layer_call_and_return_conditional_losses, lstm_cell_layer_call_and_return_conditional_losses while saving (showing 5 of 5). These functions will not be directly callable after loading.\n"
     ]
    },
    {
     "name": "stdout",
     "output_type": "stream",
     "text": [
      "INFO:tensorflow:Assets written to: checkpoints/path_simple_lstm_0407/assets\n"
     ]
    },
    {
     "name": "stderr",
     "output_type": "stream",
     "text": [
      "INFO:tensorflow:Assets written to: checkpoints/path_simple_lstm_0407/assets\n"
     ]
    },
    {
     "name": "stdout",
     "output_type": "stream",
     "text": [
      "Epoch 17/30\n",
      "19305/19305 [==============================] - 123s 6ms/step - loss: 0.0037 - mean_absolute_error: 0.0373 - val_loss: 0.0037 - val_mean_absolute_error: 0.0374\n"
     ]
    },
    {
     "name": "stderr",
     "output_type": "stream",
     "text": [
      "WARNING:absl:Found untraced functions such as lstm_cell_layer_call_fn, lstm_cell_layer_call_and_return_conditional_losses, lstm_cell_layer_call_fn, lstm_cell_layer_call_and_return_conditional_losses, lstm_cell_layer_call_and_return_conditional_losses while saving (showing 5 of 5). These functions will not be directly callable after loading.\n"
     ]
    },
    {
     "name": "stdout",
     "output_type": "stream",
     "text": [
      "INFO:tensorflow:Assets written to: checkpoints/path_simple_lstm_0407/assets\n"
     ]
    },
    {
     "name": "stderr",
     "output_type": "stream",
     "text": [
      "INFO:tensorflow:Assets written to: checkpoints/path_simple_lstm_0407/assets\n"
     ]
    },
    {
     "name": "stdout",
     "output_type": "stream",
     "text": [
      "Epoch 18/30\n",
      "19305/19305 [==============================] - 123s 6ms/step - loss: 0.0037 - mean_absolute_error: 0.0373 - val_loss: 0.0037 - val_mean_absolute_error: 0.0374\n",
      "Epoch 19/30\n",
      "19305/19305 [==============================] - 124s 6ms/step - loss: 0.0037 - mean_absolute_error: 0.0373 - val_loss: 0.0037 - val_mean_absolute_error: 0.0374\n"
     ]
    },
    {
     "name": "stderr",
     "output_type": "stream",
     "text": [
      "WARNING:absl:Found untraced functions such as lstm_cell_layer_call_fn, lstm_cell_layer_call_and_return_conditional_losses, lstm_cell_layer_call_fn, lstm_cell_layer_call_and_return_conditional_losses, lstm_cell_layer_call_and_return_conditional_losses while saving (showing 5 of 5). These functions will not be directly callable after loading.\n"
     ]
    },
    {
     "name": "stdout",
     "output_type": "stream",
     "text": [
      "INFO:tensorflow:Assets written to: checkpoints/path_simple_lstm_0407/assets\n"
     ]
    },
    {
     "name": "stderr",
     "output_type": "stream",
     "text": [
      "INFO:tensorflow:Assets written to: checkpoints/path_simple_lstm_0407/assets\n"
     ]
    },
    {
     "name": "stdout",
     "output_type": "stream",
     "text": [
      "Epoch 20/30\n",
      "19305/19305 [==============================] - 123s 6ms/step - loss: 0.0037 - mean_absolute_error: 0.0372 - val_loss: 0.0037 - val_mean_absolute_error: 0.0374\n",
      "Epoch 21/30\n",
      "19305/19305 [==============================] - 123s 6ms/step - loss: 0.0037 - mean_absolute_error: 0.0372 - val_loss: 0.0037 - val_mean_absolute_error: 0.0375\n",
      "Epoch 22/30\n",
      "19305/19305 [==============================] - 124s 6ms/step - loss: 0.0037 - mean_absolute_error: 0.0372 - val_loss: 0.0037 - val_mean_absolute_error: 0.0373\n"
     ]
    },
    {
     "name": "stderr",
     "output_type": "stream",
     "text": [
      "WARNING:absl:Found untraced functions such as lstm_cell_layer_call_fn, lstm_cell_layer_call_and_return_conditional_losses, lstm_cell_layer_call_fn, lstm_cell_layer_call_and_return_conditional_losses, lstm_cell_layer_call_and_return_conditional_losses while saving (showing 5 of 5). These functions will not be directly callable after loading.\n"
     ]
    },
    {
     "name": "stdout",
     "output_type": "stream",
     "text": [
      "INFO:tensorflow:Assets written to: checkpoints/path_simple_lstm_0407/assets\n"
     ]
    },
    {
     "name": "stderr",
     "output_type": "stream",
     "text": [
      "INFO:tensorflow:Assets written to: checkpoints/path_simple_lstm_0407/assets\n"
     ]
    },
    {
     "name": "stdout",
     "output_type": "stream",
     "text": [
      "Epoch 23/30\n",
      "19305/19305 [==============================] - 123s 6ms/step - loss: 0.0037 - mean_absolute_error: 0.0372 - val_loss: 0.0037 - val_mean_absolute_error: 0.0376\n",
      "Epoch 24/30\n",
      "19305/19305 [==============================] - 124s 6ms/step - loss: 0.0037 - mean_absolute_error: 0.0372 - val_loss: 0.0037 - val_mean_absolute_error: 0.0375\n",
      "Epoch 25/30\n",
      "19305/19305 [==============================] - 124s 6ms/step - loss: 0.0037 - mean_absolute_error: 0.0372 - val_loss: 0.0037 - val_mean_absolute_error: 0.0374\n",
      "Epoch 26/30\n",
      "19305/19305 [==============================] - 124s 6ms/step - loss: 0.0037 - mean_absolute_error: 0.0371 - val_loss: 0.0037 - val_mean_absolute_error: 0.0374\n",
      "Epoch 27/30\n",
      "19305/19305 [==============================] - 124s 6ms/step - loss: 0.0037 - mean_absolute_error: 0.0371 - val_loss: 0.0037 - val_mean_absolute_error: 0.0375\n",
      "Epoch 28/30\n",
      "19305/19305 [==============================] - 124s 6ms/step - loss: 0.0037 - mean_absolute_error: 0.0371 - val_loss: 0.0037 - val_mean_absolute_error: 0.0375\n",
      "Epoch 29/30\n",
      "19305/19305 [==============================] - 124s 6ms/step - loss: 0.0037 - mean_absolute_error: 0.0371 - val_loss: 0.0037 - val_mean_absolute_error: 0.0373\n"
     ]
    },
    {
     "name": "stderr",
     "output_type": "stream",
     "text": [
      "WARNING:absl:Found untraced functions such as lstm_cell_layer_call_fn, lstm_cell_layer_call_and_return_conditional_losses, lstm_cell_layer_call_fn, lstm_cell_layer_call_and_return_conditional_losses, lstm_cell_layer_call_and_return_conditional_losses while saving (showing 5 of 5). These functions will not be directly callable after loading.\n"
     ]
    },
    {
     "name": "stdout",
     "output_type": "stream",
     "text": [
      "INFO:tensorflow:Assets written to: checkpoints/path_simple_lstm_0407/assets\n"
     ]
    },
    {
     "name": "stderr",
     "output_type": "stream",
     "text": [
      "INFO:tensorflow:Assets written to: checkpoints/path_simple_lstm_0407/assets\n"
     ]
    },
    {
     "name": "stdout",
     "output_type": "stream",
     "text": [
      "Epoch 30/30\n",
      "19305/19305 [==============================] - 125s 6ms/step - loss: 0.0037 - mean_absolute_error: 0.0371 - val_loss: 0.0037 - val_mean_absolute_error: 0.0375\n"
     ]
    },
    {
     "name": "stderr",
     "output_type": "stream",
     "text": [
      "WARNING:absl:Found untraced functions such as lstm_cell_layer_call_fn, lstm_cell_layer_call_and_return_conditional_losses, lstm_cell_layer_call_fn, lstm_cell_layer_call_and_return_conditional_losses, lstm_cell_layer_call_and_return_conditional_losses while saving (showing 5 of 5). These functions will not be directly callable after loading.\n"
     ]
    },
    {
     "name": "stdout",
     "output_type": "stream",
     "text": [
      "INFO:tensorflow:Assets written to: weights/path_simple_lstm_0407/assets\n"
     ]
    },
    {
     "name": "stderr",
     "output_type": "stream",
     "text": [
      "INFO:tensorflow:Assets written to: weights/path_simple_lstm_0407/assets\n"
     ]
    }
   ],
   "source": [
    "model_name = 'path_simple_lstm_0407'\n",
    "m = model_path.ModelPath(uses_goal=False)\n",
    "history = m.train(train_data, eval_data,\n",
    "    model=models_path.simple_lstm(train_data),\n",
    "    batch_size=256,\n",
    "    epochs=30,\n",
    "    checkpoints_path=f'checkpoints/{model_name}'\n",
    ")\n",
    "m.save(model_name)\n",
    "m = None\n",
    "model_interface.save_history(model_name, history)"
   ]
  },
  {
   "cell_type": "code",
   "execution_count": 5,
   "metadata": {},
   "outputs": [
    {
     "name": "stdout",
     "output_type": "stream",
     "text": [
      "Epoch 1/10\n",
      "6895/6895 [==============================] - 22s 3ms/step - loss: 0.0017 - mean_absolute_error: 0.0283 - val_loss: 0.0014 - val_mean_absolute_error: 0.0252\n",
      "Epoch 2/10\n",
      "6895/6895 [==============================] - 22s 3ms/step - loss: 0.0014 - mean_absolute_error: 0.0262 - val_loss: 0.0013 - val_mean_absolute_error: 0.0245\n",
      "Epoch 3/10\n",
      "6895/6895 [==============================] - 21s 3ms/step - loss: 0.0014 - mean_absolute_error: 0.0255 - val_loss: 0.0013 - val_mean_absolute_error: 0.0240\n",
      "Epoch 4/10\n",
      "6895/6895 [==============================] - 21s 3ms/step - loss: 0.0014 - mean_absolute_error: 0.0252 - val_loss: 0.0012 - val_mean_absolute_error: 0.0236\n",
      "Epoch 5/10\n",
      "6895/6895 [==============================] - 21s 3ms/step - loss: 0.0013 - mean_absolute_error: 0.0250 - val_loss: 0.0012 - val_mean_absolute_error: 0.0237\n",
      "Epoch 6/10\n",
      "6895/6895 [==============================] - 21s 3ms/step - loss: 0.0013 - mean_absolute_error: 0.0248 - val_loss: 0.0012 - val_mean_absolute_error: 0.0233\n",
      "Epoch 7/10\n",
      "6895/6895 [==============================] - 21s 3ms/step - loss: 0.0013 - mean_absolute_error: 0.0247 - val_loss: 0.0012 - val_mean_absolute_error: 0.0231\n",
      "Epoch 8/10\n",
      "6895/6895 [==============================] - 21s 3ms/step - loss: 0.0013 - mean_absolute_error: 0.0247 - val_loss: 0.0012 - val_mean_absolute_error: 0.0232\n",
      "Epoch 9/10\n",
      "6895/6895 [==============================] - 21s 3ms/step - loss: 0.0013 - mean_absolute_error: 0.0246 - val_loss: 0.0012 - val_mean_absolute_error: 0.0232\n",
      "Epoch 10/10\n",
      "6895/6895 [==============================] - 21s 3ms/step - loss: 0.0013 - mean_absolute_error: 0.0245 - val_loss: 0.0012 - val_mean_absolute_error: 0.0233\n"
     ]
    },
    {
     "name": "stderr",
     "output_type": "stream",
     "text": [
      "WARNING:absl:Found untraced functions such as lstm_cell_1_layer_call_fn, lstm_cell_1_layer_call_and_return_conditional_losses, lstm_cell_1_layer_call_fn, lstm_cell_1_layer_call_and_return_conditional_losses, lstm_cell_1_layer_call_and_return_conditional_losses while saving (showing 5 of 5). These functions will not be directly callable after loading.\n"
     ]
    },
    {
     "name": "stdout",
     "output_type": "stream",
     "text": [
      "INFO:tensorflow:Assets written to: weights/path_simple_lstm_goal/assets\n"
     ]
    },
    {
     "name": "stderr",
     "output_type": "stream",
     "text": [
      "INFO:tensorflow:Assets written to: weights/path_simple_lstm_goal/assets\n"
     ]
    }
   ],
   "source": [
    "m = model_path.ModelPath(uses_goal=True)\n",
    "m.train(models_path.simple_lstm(train_data), train_data, eval_data, train_goals=train_data[1], eval_goals=eval_data[1], batch_size=256, epochs=20)\n",
    "m.save('path_simple_lstm_goal')\n",
    "m = None"
   ]
  },
  {
   "cell_type": "code",
   "execution_count": 13,
   "metadata": {},
   "outputs": [
    {
     "name": "stdout",
     "output_type": "stream",
     "text": [
      "Epoch 1/20\n",
      "3668/3668 [==============================] - 8s 2ms/step - loss: 0.0027 - mean_absolute_error: 0.0324 - val_loss: 0.0026 - val_mean_absolute_error: 0.0318\n",
      "Epoch 2/20\n",
      "3668/3668 [==============================] - 8s 2ms/step - loss: 0.0025 - mean_absolute_error: 0.0313 - val_loss: 0.0026 - val_mean_absolute_error: 0.0315\n",
      "Epoch 3/20\n",
      "3668/3668 [==============================] - 8s 2ms/step - loss: 0.0025 - mean_absolute_error: 0.0311 - val_loss: 0.0026 - val_mean_absolute_error: 0.0315\n",
      "Epoch 4/20\n",
      "3668/3668 [==============================] - 8s 2ms/step - loss: 0.0025 - mean_absolute_error: 0.0310 - val_loss: 0.0026 - val_mean_absolute_error: 0.0314\n",
      "Epoch 5/20\n",
      "3668/3668 [==============================] - 8s 2ms/step - loss: 0.0025 - mean_absolute_error: 0.0310 - val_loss: 0.0026 - val_mean_absolute_error: 0.0312\n",
      "Epoch 6/20\n",
      "3668/3668 [==============================] - 8s 2ms/step - loss: 0.0025 - mean_absolute_error: 0.0310 - val_loss: 0.0026 - val_mean_absolute_error: 0.0314\n",
      "Epoch 7/20\n",
      "3668/3668 [==============================] - 8s 2ms/step - loss: 0.0025 - mean_absolute_error: 0.0310 - val_loss: 0.0026 - val_mean_absolute_error: 0.0312\n",
      "Epoch 8/20\n",
      "3668/3668 [==============================] - 8s 2ms/step - loss: 0.0025 - mean_absolute_error: 0.0309 - val_loss: 0.0026 - val_mean_absolute_error: 0.0312\n",
      "Epoch 9/20\n",
      "3668/3668 [==============================] - 8s 2ms/step - loss: 0.0025 - mean_absolute_error: 0.0309 - val_loss: 0.0026 - val_mean_absolute_error: 0.0311\n",
      "Epoch 10/20\n",
      "3668/3668 [==============================] - 8s 2ms/step - loss: 0.0025 - mean_absolute_error: 0.0309 - val_loss: 0.0026 - val_mean_absolute_error: 0.0313\n",
      "Epoch 11/20\n",
      "3668/3668 [==============================] - 8s 2ms/step - loss: 0.0025 - mean_absolute_error: 0.0309 - val_loss: 0.0026 - val_mean_absolute_error: 0.0313\n",
      "Epoch 12/20\n",
      "3668/3668 [==============================] - 8s 2ms/step - loss: 0.0024 - mean_absolute_error: 0.0308 - val_loss: 0.0026 - val_mean_absolute_error: 0.0311\n",
      "Epoch 13/20\n",
      "3668/3668 [==============================] - 8s 2ms/step - loss: 0.0024 - mean_absolute_error: 0.0308 - val_loss: 0.0025 - val_mean_absolute_error: 0.0311\n",
      "Epoch 14/20\n",
      "3166/3668 [========================>.....] - ETA: 1s - loss: 0.0024 - mean_absolute_error: 0.0308"
     ]
    },
    {
     "ename": "KeyboardInterrupt",
     "evalue": "",
     "output_type": "error",
     "traceback": [
      "\u001b[0;31m---------------------------------------------------------------------------\u001b[0m",
      "\u001b[0;31mKeyboardInterrupt\u001b[0m                         Traceback (most recent call last)",
      "\u001b[0;32m<ipython-input-13-a0f91d7e2a86>\u001b[0m in \u001b[0;36m<module>\u001b[0;34m\u001b[0m\n\u001b[1;32m      2\u001b[0m \u001b[0;34m\u001b[0m\u001b[0m\n\u001b[1;32m      3\u001b[0m \u001b[0mm\u001b[0m \u001b[0;34m=\u001b[0m \u001b[0mmodel_path\u001b[0m\u001b[0;34m.\u001b[0m\u001b[0mModelPath\u001b[0m\u001b[0;34m(\u001b[0m\u001b[0muses_goal\u001b[0m\u001b[0;34m=\u001b[0m\u001b[0;32mFalse\u001b[0m\u001b[0;34m)\u001b[0m\u001b[0;34m\u001b[0m\u001b[0;34m\u001b[0m\u001b[0m\n\u001b[0;32m----> 4\u001b[0;31m \u001b[0mm\u001b[0m\u001b[0;34m.\u001b[0m\u001b[0mtrain\u001b[0m\u001b[0;34m(\u001b[0m\u001b[0mmodels_path\u001b[0m\u001b[0;34m.\u001b[0m\u001b[0msimple_cnn\u001b[0m\u001b[0;34m(\u001b[0m\u001b[0mtrain_data\u001b[0m\u001b[0;34m)\u001b[0m\u001b[0;34m,\u001b[0m \u001b[0mtrain_data\u001b[0m\u001b[0;34m,\u001b[0m \u001b[0meval_data\u001b[0m\u001b[0;34m,\u001b[0m \u001b[0mbatch_size\u001b[0m\u001b[0;34m=\u001b[0m\u001b[0;36m1024\u001b[0m\u001b[0;34m,\u001b[0m \u001b[0mepochs\u001b[0m\u001b[0;34m=\u001b[0m\u001b[0;36m20\u001b[0m\u001b[0;34m)\u001b[0m\u001b[0;34m\u001b[0m\u001b[0;34m\u001b[0m\u001b[0m\n\u001b[0m\u001b[1;32m      5\u001b[0m \u001b[0mm\u001b[0m\u001b[0;34m.\u001b[0m\u001b[0msave\u001b[0m\u001b[0;34m(\u001b[0m\u001b[0;34m'path_simple_cnn'\u001b[0m\u001b[0;34m)\u001b[0m\u001b[0;34m\u001b[0m\u001b[0;34m\u001b[0m\u001b[0m\n\u001b[1;32m      6\u001b[0m \u001b[0mm\u001b[0m \u001b[0;34m=\u001b[0m \u001b[0;32mNone\u001b[0m\u001b[0;34m\u001b[0m\u001b[0;34m\u001b[0m\u001b[0m\n",
      "\u001b[0;32m~/Documents/trajectory-prediction/src/model_path.py\u001b[0m in \u001b[0;36mtrain\u001b[0;34m(self, model, train_data, eval_data, train_goals, eval_goals, batch_size, epochs)\u001b[0m\n\u001b[1;32m     54\u001b[0m                     \u001b[0;31m# metrics=[tf.metrics.MeanAbsoluteError()])\u001b[0m\u001b[0;34m\u001b[0m\u001b[0;34m\u001b[0m\u001b[0;34m\u001b[0m\u001b[0m\n\u001b[1;32m     55\u001b[0m \u001b[0;34m\u001b[0m\u001b[0m\n\u001b[0;32m---> 56\u001b[0;31m         history = self.model.fit(x=train_x, y=train_y, batch_size=batch_size, epochs=epochs, verbose=True,\n\u001b[0m\u001b[1;32m     57\u001b[0m                             \u001b[0mshuffle\u001b[0m\u001b[0;34m=\u001b[0m\u001b[0;32mTrue\u001b[0m\u001b[0;34m,\u001b[0m \u001b[0mvalidation_data\u001b[0m\u001b[0;34m=\u001b[0m\u001b[0;34m(\u001b[0m\u001b[0meval_x\u001b[0m\u001b[0;34m,\u001b[0m \u001b[0meval_y\u001b[0m\u001b[0;34m)\u001b[0m\u001b[0;34m\u001b[0m\u001b[0;34m\u001b[0m\u001b[0m\n\u001b[1;32m     58\u001b[0m                             )\n",
      "\u001b[0;32m~/.local/lib/python3.8/site-packages/keras/engine/training.py\u001b[0m in \u001b[0;36mfit\u001b[0;34m(self, x, y, batch_size, epochs, verbose, callbacks, validation_split, validation_data, shuffle, class_weight, sample_weight, initial_epoch, steps_per_epoch, validation_steps, validation_batch_size, validation_freq, max_queue_size, workers, use_multiprocessing)\u001b[0m\n\u001b[1;32m   1182\u001b[0m                 _r=1):\n\u001b[1;32m   1183\u001b[0m               \u001b[0mcallbacks\u001b[0m\u001b[0;34m.\u001b[0m\u001b[0mon_train_batch_begin\u001b[0m\u001b[0;34m(\u001b[0m\u001b[0mstep\u001b[0m\u001b[0;34m)\u001b[0m\u001b[0;34m\u001b[0m\u001b[0;34m\u001b[0m\u001b[0m\n\u001b[0;32m-> 1184\u001b[0;31m               \u001b[0mtmp_logs\u001b[0m \u001b[0;34m=\u001b[0m \u001b[0mself\u001b[0m\u001b[0;34m.\u001b[0m\u001b[0mtrain_function\u001b[0m\u001b[0;34m(\u001b[0m\u001b[0miterator\u001b[0m\u001b[0;34m)\u001b[0m\u001b[0;34m\u001b[0m\u001b[0;34m\u001b[0m\u001b[0m\n\u001b[0m\u001b[1;32m   1185\u001b[0m               \u001b[0;32mif\u001b[0m \u001b[0mdata_handler\u001b[0m\u001b[0;34m.\u001b[0m\u001b[0mshould_sync\u001b[0m\u001b[0;34m:\u001b[0m\u001b[0;34m\u001b[0m\u001b[0;34m\u001b[0m\u001b[0m\n\u001b[1;32m   1186\u001b[0m                 \u001b[0mcontext\u001b[0m\u001b[0;34m.\u001b[0m\u001b[0masync_wait\u001b[0m\u001b[0;34m(\u001b[0m\u001b[0;34m)\u001b[0m\u001b[0;34m\u001b[0m\u001b[0;34m\u001b[0m\u001b[0m\n",
      "\u001b[0;32m~/.local/lib/python3.8/site-packages/tensorflow/python/eager/def_function.py\u001b[0m in \u001b[0;36m__call__\u001b[0;34m(self, *args, **kwds)\u001b[0m\n\u001b[1;32m    883\u001b[0m \u001b[0;34m\u001b[0m\u001b[0m\n\u001b[1;32m    884\u001b[0m       \u001b[0;32mwith\u001b[0m \u001b[0mOptionalXlaContext\u001b[0m\u001b[0;34m(\u001b[0m\u001b[0mself\u001b[0m\u001b[0;34m.\u001b[0m\u001b[0m_jit_compile\u001b[0m\u001b[0;34m)\u001b[0m\u001b[0;34m:\u001b[0m\u001b[0;34m\u001b[0m\u001b[0;34m\u001b[0m\u001b[0m\n\u001b[0;32m--> 885\u001b[0;31m         \u001b[0mresult\u001b[0m \u001b[0;34m=\u001b[0m \u001b[0mself\u001b[0m\u001b[0;34m.\u001b[0m\u001b[0m_call\u001b[0m\u001b[0;34m(\u001b[0m\u001b[0;34m*\u001b[0m\u001b[0margs\u001b[0m\u001b[0;34m,\u001b[0m \u001b[0;34m**\u001b[0m\u001b[0mkwds\u001b[0m\u001b[0;34m)\u001b[0m\u001b[0;34m\u001b[0m\u001b[0;34m\u001b[0m\u001b[0m\n\u001b[0m\u001b[1;32m    886\u001b[0m \u001b[0;34m\u001b[0m\u001b[0m\n\u001b[1;32m    887\u001b[0m       \u001b[0mnew_tracing_count\u001b[0m \u001b[0;34m=\u001b[0m \u001b[0mself\u001b[0m\u001b[0;34m.\u001b[0m\u001b[0mexperimental_get_tracing_count\u001b[0m\u001b[0;34m(\u001b[0m\u001b[0;34m)\u001b[0m\u001b[0;34m\u001b[0m\u001b[0;34m\u001b[0m\u001b[0m\n",
      "\u001b[0;32m~/.local/lib/python3.8/site-packages/tensorflow/python/eager/def_function.py\u001b[0m in \u001b[0;36m_call\u001b[0;34m(self, *args, **kwds)\u001b[0m\n\u001b[1;32m    915\u001b[0m       \u001b[0;31m# In this case we have created variables on the first call, so we run the\u001b[0m\u001b[0;34m\u001b[0m\u001b[0;34m\u001b[0m\u001b[0;34m\u001b[0m\u001b[0m\n\u001b[1;32m    916\u001b[0m       \u001b[0;31m# defunned version which is guaranteed to never create variables.\u001b[0m\u001b[0;34m\u001b[0m\u001b[0;34m\u001b[0m\u001b[0;34m\u001b[0m\u001b[0m\n\u001b[0;32m--> 917\u001b[0;31m       \u001b[0;32mreturn\u001b[0m \u001b[0mself\u001b[0m\u001b[0;34m.\u001b[0m\u001b[0m_stateless_fn\u001b[0m\u001b[0;34m(\u001b[0m\u001b[0;34m*\u001b[0m\u001b[0margs\u001b[0m\u001b[0;34m,\u001b[0m \u001b[0;34m**\u001b[0m\u001b[0mkwds\u001b[0m\u001b[0;34m)\u001b[0m  \u001b[0;31m# pylint: disable=not-callable\u001b[0m\u001b[0;34m\u001b[0m\u001b[0;34m\u001b[0m\u001b[0m\n\u001b[0m\u001b[1;32m    918\u001b[0m     \u001b[0;32melif\u001b[0m \u001b[0mself\u001b[0m\u001b[0;34m.\u001b[0m\u001b[0m_stateful_fn\u001b[0m \u001b[0;32mis\u001b[0m \u001b[0;32mnot\u001b[0m \u001b[0;32mNone\u001b[0m\u001b[0;34m:\u001b[0m\u001b[0;34m\u001b[0m\u001b[0;34m\u001b[0m\u001b[0m\n\u001b[1;32m    919\u001b[0m       \u001b[0;31m# Release the lock early so that multiple threads can perform the call\u001b[0m\u001b[0;34m\u001b[0m\u001b[0;34m\u001b[0m\u001b[0;34m\u001b[0m\u001b[0m\n",
      "\u001b[0;32m~/.local/lib/python3.8/site-packages/tensorflow/python/eager/function.py\u001b[0m in \u001b[0;36m__call__\u001b[0;34m(self, *args, **kwargs)\u001b[0m\n\u001b[1;32m   3037\u001b[0m       (graph_function,\n\u001b[1;32m   3038\u001b[0m        filtered_flat_args) = self._maybe_define_function(args, kwargs)\n\u001b[0;32m-> 3039\u001b[0;31m     return graph_function._call_flat(\n\u001b[0m\u001b[1;32m   3040\u001b[0m         filtered_flat_args, captured_inputs=graph_function.captured_inputs)  # pylint: disable=protected-access\n\u001b[1;32m   3041\u001b[0m \u001b[0;34m\u001b[0m\u001b[0m\n",
      "\u001b[0;32m~/.local/lib/python3.8/site-packages/tensorflow/python/eager/function.py\u001b[0m in \u001b[0;36m_call_flat\u001b[0;34m(self, args, captured_inputs, cancellation_manager)\u001b[0m\n\u001b[1;32m   1961\u001b[0m         and executing_eagerly):\n\u001b[1;32m   1962\u001b[0m       \u001b[0;31m# No tape is watching; skip to running the function.\u001b[0m\u001b[0;34m\u001b[0m\u001b[0;34m\u001b[0m\u001b[0;34m\u001b[0m\u001b[0m\n\u001b[0;32m-> 1963\u001b[0;31m       return self._build_call_outputs(self._inference_function.call(\n\u001b[0m\u001b[1;32m   1964\u001b[0m           ctx, args, cancellation_manager=cancellation_manager))\n\u001b[1;32m   1965\u001b[0m     forward_backward = self._select_forward_and_backward_functions(\n",
      "\u001b[0;32m~/.local/lib/python3.8/site-packages/tensorflow/python/eager/function.py\u001b[0m in \u001b[0;36mcall\u001b[0;34m(self, ctx, args, cancellation_manager)\u001b[0m\n\u001b[1;32m    589\u001b[0m       \u001b[0;32mwith\u001b[0m \u001b[0m_InterpolateFunctionError\u001b[0m\u001b[0;34m(\u001b[0m\u001b[0mself\u001b[0m\u001b[0;34m)\u001b[0m\u001b[0;34m:\u001b[0m\u001b[0;34m\u001b[0m\u001b[0;34m\u001b[0m\u001b[0m\n\u001b[1;32m    590\u001b[0m         \u001b[0;32mif\u001b[0m \u001b[0mcancellation_manager\u001b[0m \u001b[0;32mis\u001b[0m \u001b[0;32mNone\u001b[0m\u001b[0;34m:\u001b[0m\u001b[0;34m\u001b[0m\u001b[0;34m\u001b[0m\u001b[0m\n\u001b[0;32m--> 591\u001b[0;31m           outputs = execute.execute(\n\u001b[0m\u001b[1;32m    592\u001b[0m               \u001b[0mstr\u001b[0m\u001b[0;34m(\u001b[0m\u001b[0mself\u001b[0m\u001b[0;34m.\u001b[0m\u001b[0msignature\u001b[0m\u001b[0;34m.\u001b[0m\u001b[0mname\u001b[0m\u001b[0;34m)\u001b[0m\u001b[0;34m,\u001b[0m\u001b[0;34m\u001b[0m\u001b[0;34m\u001b[0m\u001b[0m\n\u001b[1;32m    593\u001b[0m               \u001b[0mnum_outputs\u001b[0m\u001b[0;34m=\u001b[0m\u001b[0mself\u001b[0m\u001b[0;34m.\u001b[0m\u001b[0m_num_outputs\u001b[0m\u001b[0;34m,\u001b[0m\u001b[0;34m\u001b[0m\u001b[0;34m\u001b[0m\u001b[0m\n",
      "\u001b[0;32m~/.local/lib/python3.8/site-packages/tensorflow/python/eager/execute.py\u001b[0m in \u001b[0;36mquick_execute\u001b[0;34m(op_name, num_outputs, inputs, attrs, ctx, name)\u001b[0m\n\u001b[1;32m     57\u001b[0m   \u001b[0;32mtry\u001b[0m\u001b[0;34m:\u001b[0m\u001b[0;34m\u001b[0m\u001b[0;34m\u001b[0m\u001b[0m\n\u001b[1;32m     58\u001b[0m     \u001b[0mctx\u001b[0m\u001b[0;34m.\u001b[0m\u001b[0mensure_initialized\u001b[0m\u001b[0;34m(\u001b[0m\u001b[0;34m)\u001b[0m\u001b[0;34m\u001b[0m\u001b[0;34m\u001b[0m\u001b[0m\n\u001b[0;32m---> 59\u001b[0;31m     tensors = pywrap_tfe.TFE_Py_Execute(ctx._handle, device_name, op_name,\n\u001b[0m\u001b[1;32m     60\u001b[0m                                         inputs, attrs, num_outputs)\n\u001b[1;32m     61\u001b[0m   \u001b[0;32mexcept\u001b[0m \u001b[0mcore\u001b[0m\u001b[0;34m.\u001b[0m\u001b[0m_NotOkStatusException\u001b[0m \u001b[0;32mas\u001b[0m \u001b[0me\u001b[0m\u001b[0;34m:\u001b[0m\u001b[0;34m\u001b[0m\u001b[0;34m\u001b[0m\u001b[0m\n",
      "\u001b[0;31mKeyboardInterrupt\u001b[0m: "
     ]
    }
   ],
   "source": [
    "reload(models_path)\n",
    "\n",
    "m = model_path.ModelPath(uses_goal=False)\n",
    "m.train(models_path.simple_cnn(train_data), train_data, eval_data, batch_size=1024, epochs=20)\n",
    "m.save('path_simple_cnn')\n",
    "m = None"
   ]
  },
  {
   "cell_type": "code",
   "execution_count": 4,
   "metadata": {},
   "outputs": [
    {
     "name": "stdout",
     "output_type": "stream",
     "text": [
      "Epoch 1/20\n",
      "212/212 [==============================] - 1s 3ms/step - loss: 0.0070 - mean_absolute_error: 0.0560 - val_loss: 0.0033 - val_mean_absolute_error: 0.0368\n",
      "Epoch 2/20\n",
      "212/212 [==============================] - 1s 3ms/step - loss: 0.0035 - mean_absolute_error: 0.0395 - val_loss: 0.0030 - val_mean_absolute_error: 0.0339\n",
      "Epoch 3/20\n",
      "212/212 [==============================] - 1s 3ms/step - loss: 0.0032 - mean_absolute_error: 0.0371 - val_loss: 0.0028 - val_mean_absolute_error: 0.0328\n",
      "Epoch 4/20\n",
      "212/212 [==============================] - 1s 3ms/step - loss: 0.0031 - mean_absolute_error: 0.0361 - val_loss: 0.0028 - val_mean_absolute_error: 0.0323\n",
      "Epoch 5/20\n",
      "212/212 [==============================] - 1s 3ms/step - loss: 0.0031 - mean_absolute_error: 0.0355 - val_loss: 0.0028 - val_mean_absolute_error: 0.0319\n",
      "Epoch 6/20\n",
      "212/212 [==============================] - 1s 3ms/step - loss: 0.0030 - mean_absolute_error: 0.0353 - val_loss: 0.0027 - val_mean_absolute_error: 0.0317\n",
      "Epoch 7/20\n",
      "212/212 [==============================] - 1s 3ms/step - loss: 0.0030 - mean_absolute_error: 0.0351 - val_loss: 0.0027 - val_mean_absolute_error: 0.0315\n",
      "Epoch 8/20\n",
      "212/212 [==============================] - 1s 3ms/step - loss: 0.0030 - mean_absolute_error: 0.0349 - val_loss: 0.0027 - val_mean_absolute_error: 0.0315\n",
      "Epoch 9/20\n",
      "212/212 [==============================] - 1s 3ms/step - loss: 0.0030 - mean_absolute_error: 0.0348 - val_loss: 0.0027 - val_mean_absolute_error: 0.0316\n",
      "Epoch 10/20\n",
      "212/212 [==============================] - 1s 3ms/step - loss: 0.0030 - mean_absolute_error: 0.0347 - val_loss: 0.0027 - val_mean_absolute_error: 0.0314\n",
      "Epoch 11/20\n",
      "212/212 [==============================] - 1s 3ms/step - loss: 0.0029 - mean_absolute_error: 0.0347 - val_loss: 0.0027 - val_mean_absolute_error: 0.0313\n",
      "Epoch 12/20\n",
      "212/212 [==============================] - 1s 3ms/step - loss: 0.0029 - mean_absolute_error: 0.0346 - val_loss: 0.0027 - val_mean_absolute_error: 0.0314\n",
      "Epoch 13/20\n",
      "212/212 [==============================] - 1s 3ms/step - loss: 0.0029 - mean_absolute_error: 0.0346 - val_loss: 0.0027 - val_mean_absolute_error: 0.0313\n",
      "Epoch 14/20\n",
      "212/212 [==============================] - 1s 3ms/step - loss: 0.0029 - mean_absolute_error: 0.0346 - val_loss: 0.0027 - val_mean_absolute_error: 0.0313\n",
      "Epoch 15/20\n",
      "212/212 [==============================] - 1s 3ms/step - loss: 0.0029 - mean_absolute_error: 0.0346 - val_loss: 0.0027 - val_mean_absolute_error: 0.0313\n",
      "Epoch 16/20\n",
      "212/212 [==============================] - 1s 3ms/step - loss: 0.0029 - mean_absolute_error: 0.0345 - val_loss: 0.0027 - val_mean_absolute_error: 0.0313\n",
      "Epoch 17/20\n",
      "212/212 [==============================] - 1s 3ms/step - loss: 0.0029 - mean_absolute_error: 0.0345 - val_loss: 0.0027 - val_mean_absolute_error: 0.0313\n",
      "Epoch 18/20\n",
      "212/212 [==============================] - 1s 3ms/step - loss: 0.0029 - mean_absolute_error: 0.0345 - val_loss: 0.0027 - val_mean_absolute_error: 0.0312\n",
      "Epoch 19/20\n",
      "212/212 [==============================] - 1s 3ms/step - loss: 0.0029 - mean_absolute_error: 0.0345 - val_loss: 0.0027 - val_mean_absolute_error: 0.0313\n",
      "Epoch 20/20\n",
      "212/212 [==============================] - 1s 3ms/step - loss: 0.0029 - mean_absolute_error: 0.0345 - val_loss: 0.0027 - val_mean_absolute_error: 0.0311\n",
      "INFO:tensorflow:Assets written to: weights/path_simple_cnn_dropout/assets\n"
     ]
    },
    {
     "name": "stderr",
     "output_type": "stream",
     "text": [
      "INFO:tensorflow:Assets written to: weights/path_simple_cnn_dropout/assets\n"
     ]
    }
   ],
   "source": [
    "reload(models_path)\n",
    "m = model_path.ModelPath(uses_goal=False)\n",
    "m.train(models_path.simple_cnn_dropout(train_data, rate=0.2), train_data, eval_data, batch_size=1024, epochs=20)\n",
    "m.save('path_simple_cnn_dropout')\n",
    "m = None"
   ]
  },
  {
   "cell_type": "code",
   "execution_count": 7,
   "metadata": {},
   "outputs": [
    {
     "name": "stdout",
     "output_type": "stream",
     "text": [
      "Epoch 1/50\n",
      "108/108 [==============================] - 2s 12ms/step - loss: 0.0293 - mean_absolute_error: 0.1100 - val_loss: 0.0291 - val_mean_absolute_error: 0.1184\n",
      "Epoch 2/50\n",
      "108/108 [==============================] - 1s 11ms/step - loss: 0.0038 - mean_absolute_error: 0.0430 - val_loss: 0.0269 - val_mean_absolute_error: 0.1133\n",
      "Epoch 3/50\n",
      "108/108 [==============================] - 1s 11ms/step - loss: 0.0031 - mean_absolute_error: 0.0374 - val_loss: 0.0218 - val_mean_absolute_error: 0.1019\n",
      "Epoch 4/50\n",
      "108/108 [==============================] - 1s 11ms/step - loss: 0.0029 - mean_absolute_error: 0.0354 - val_loss: 0.0148 - val_mean_absolute_error: 0.0846\n",
      "Epoch 5/50\n",
      "108/108 [==============================] - 1s 11ms/step - loss: 0.0028 - mean_absolute_error: 0.0343 - val_loss: 0.0085 - val_mean_absolute_error: 0.0650\n",
      "Epoch 6/50\n",
      "108/108 [==============================] - 1s 11ms/step - loss: 0.0028 - mean_absolute_error: 0.0337 - val_loss: 0.0047 - val_mean_absolute_error: 0.0483\n",
      "Epoch 7/50\n",
      "108/108 [==============================] - 1s 11ms/step - loss: 0.0027 - mean_absolute_error: 0.0332 - val_loss: 0.0033 - val_mean_absolute_error: 0.0393\n",
      "Epoch 8/50\n",
      "108/108 [==============================] - 1s 11ms/step - loss: 0.0027 - mean_absolute_error: 0.0330 - val_loss: 0.0029 - val_mean_absolute_error: 0.0357\n",
      "Epoch 9/50\n",
      "108/108 [==============================] - 1s 11ms/step - loss: 0.0027 - mean_absolute_error: 0.0328 - val_loss: 0.0029 - val_mean_absolute_error: 0.0352\n",
      "Epoch 10/50\n",
      "108/108 [==============================] - 1s 11ms/step - loss: 0.0027 - mean_absolute_error: 0.0327 - val_loss: 0.0028 - val_mean_absolute_error: 0.0345\n",
      "Epoch 11/50\n",
      "108/108 [==============================] - 1s 11ms/step - loss: 0.0027 - mean_absolute_error: 0.0325 - val_loss: 0.0028 - val_mean_absolute_error: 0.0344\n",
      "Epoch 12/50\n",
      "108/108 [==============================] - 1s 11ms/step - loss: 0.0027 - mean_absolute_error: 0.0325 - val_loss: 0.0028 - val_mean_absolute_error: 0.0345\n",
      "Epoch 13/50\n",
      "108/108 [==============================] - 1s 11ms/step - loss: 0.0027 - mean_absolute_error: 0.0323 - val_loss: 0.0029 - val_mean_absolute_error: 0.0346\n",
      "Epoch 14/50\n",
      "108/108 [==============================] - 1s 11ms/step - loss: 0.0027 - mean_absolute_error: 0.0323 - val_loss: 0.0028 - val_mean_absolute_error: 0.0344\n",
      "Epoch 15/50\n",
      "108/108 [==============================] - 1s 11ms/step - loss: 0.0027 - mean_absolute_error: 0.0323 - val_loss: 0.0028 - val_mean_absolute_error: 0.0342\n",
      "Epoch 16/50\n",
      "108/108 [==============================] - 1s 11ms/step - loss: 0.0026 - mean_absolute_error: 0.0321 - val_loss: 0.0029 - val_mean_absolute_error: 0.0346\n",
      "Epoch 17/50\n",
      "108/108 [==============================] - 1s 11ms/step - loss: 0.0026 - mean_absolute_error: 0.0321 - val_loss: 0.0028 - val_mean_absolute_error: 0.0340\n",
      "Epoch 18/50\n",
      "108/108 [==============================] - 1s 12ms/step - loss: 0.0026 - mean_absolute_error: 0.0320 - val_loss: 0.0028 - val_mean_absolute_error: 0.0337\n",
      "Epoch 19/50\n",
      "108/108 [==============================] - 1s 12ms/step - loss: 0.0026 - mean_absolute_error: 0.0320 - val_loss: 0.0028 - val_mean_absolute_error: 0.0341\n",
      "Epoch 20/50\n",
      "108/108 [==============================] - 1s 11ms/step - loss: 0.0026 - mean_absolute_error: 0.0320 - val_loss: 0.0028 - val_mean_absolute_error: 0.0337\n",
      "Epoch 21/50\n",
      "108/108 [==============================] - 1s 11ms/step - loss: 0.0026 - mean_absolute_error: 0.0319 - val_loss: 0.0028 - val_mean_absolute_error: 0.0339\n",
      "Epoch 22/50\n",
      "108/108 [==============================] - 1s 12ms/step - loss: 0.0026 - mean_absolute_error: 0.0319 - val_loss: 0.0028 - val_mean_absolute_error: 0.0340\n",
      "Epoch 23/50\n",
      "108/108 [==============================] - 1s 12ms/step - loss: 0.0026 - mean_absolute_error: 0.0319 - val_loss: 0.0028 - val_mean_absolute_error: 0.0336\n",
      "Epoch 24/50\n",
      "108/108 [==============================] - 1s 11ms/step - loss: 0.0026 - mean_absolute_error: 0.0318 - val_loss: 0.0028 - val_mean_absolute_error: 0.0338\n",
      "Epoch 25/50\n",
      "108/108 [==============================] - 1s 12ms/step - loss: 0.0026 - mean_absolute_error: 0.0318 - val_loss: 0.0027 - val_mean_absolute_error: 0.0336\n",
      "Epoch 26/50\n",
      "108/108 [==============================] - 1s 12ms/step - loss: 0.0026 - mean_absolute_error: 0.0318 - val_loss: 0.0027 - val_mean_absolute_error: 0.0335\n",
      "Epoch 27/50\n",
      "108/108 [==============================] - 1s 12ms/step - loss: 0.0026 - mean_absolute_error: 0.0318 - val_loss: 0.0028 - val_mean_absolute_error: 0.0336\n",
      "Epoch 28/50\n",
      "108/108 [==============================] - 1s 11ms/step - loss: 0.0026 - mean_absolute_error: 0.0317 - val_loss: 0.0027 - val_mean_absolute_error: 0.0333\n",
      "Epoch 29/50\n",
      "108/108 [==============================] - 1s 12ms/step - loss: 0.0026 - mean_absolute_error: 0.0318 - val_loss: 0.0028 - val_mean_absolute_error: 0.0336\n",
      "Epoch 30/50\n",
      "108/108 [==============================] - 1s 12ms/step - loss: 0.0026 - mean_absolute_error: 0.0318 - val_loss: 0.0027 - val_mean_absolute_error: 0.0333\n",
      "Epoch 31/50\n",
      "108/108 [==============================] - 1s 12ms/step - loss: 0.0026 - mean_absolute_error: 0.0317 - val_loss: 0.0028 - val_mean_absolute_error: 0.0337\n",
      "Epoch 32/50\n",
      "108/108 [==============================] - 1s 12ms/step - loss: 0.0026 - mean_absolute_error: 0.0317 - val_loss: 0.0027 - val_mean_absolute_error: 0.0333\n",
      "Epoch 33/50\n",
      "108/108 [==============================] - 1s 12ms/step - loss: 0.0026 - mean_absolute_error: 0.0316 - val_loss: 0.0027 - val_mean_absolute_error: 0.0335\n",
      "Epoch 34/50\n",
      "108/108 [==============================] - 1s 12ms/step - loss: 0.0026 - mean_absolute_error: 0.0315 - val_loss: 0.0027 - val_mean_absolute_error: 0.0333\n",
      "Epoch 35/50\n",
      "108/108 [==============================] - 1s 12ms/step - loss: 0.0026 - mean_absolute_error: 0.0317 - val_loss: 0.0027 - val_mean_absolute_error: 0.0334\n",
      "Epoch 36/50\n",
      "108/108 [==============================] - 1s 11ms/step - loss: 0.0026 - mean_absolute_error: 0.0315 - val_loss: 0.0027 - val_mean_absolute_error: 0.0331\n",
      "Epoch 37/50\n",
      "108/108 [==============================] - 1s 12ms/step - loss: 0.0026 - mean_absolute_error: 0.0315 - val_loss: 0.0027 - val_mean_absolute_error: 0.0332\n",
      "Epoch 38/50\n",
      "108/108 [==============================] - 1s 11ms/step - loss: 0.0026 - mean_absolute_error: 0.0315 - val_loss: 0.0028 - val_mean_absolute_error: 0.0339\n",
      "Epoch 39/50\n",
      "108/108 [==============================] - 1s 11ms/step - loss: 0.0026 - mean_absolute_error: 0.0315 - val_loss: 0.0027 - val_mean_absolute_error: 0.0333\n",
      "Epoch 40/50\n",
      "108/108 [==============================] - 1s 12ms/step - loss: 0.0026 - mean_absolute_error: 0.0315 - val_loss: 0.0027 - val_mean_absolute_error: 0.0335\n",
      "Epoch 41/50\n",
      "108/108 [==============================] - 1s 12ms/step - loss: 0.0026 - mean_absolute_error: 0.0315 - val_loss: 0.0027 - val_mean_absolute_error: 0.0332\n",
      "Epoch 42/50\n",
      "108/108 [==============================] - 1s 12ms/step - loss: 0.0026 - mean_absolute_error: 0.0314 - val_loss: 0.0028 - val_mean_absolute_error: 0.0338\n",
      "Epoch 43/50\n",
      "108/108 [==============================] - 1s 12ms/step - loss: 0.0026 - mean_absolute_error: 0.0314 - val_loss: 0.0027 - val_mean_absolute_error: 0.0329\n",
      "Epoch 44/50\n",
      "108/108 [==============================] - 1s 11ms/step - loss: 0.0026 - mean_absolute_error: 0.0314 - val_loss: 0.0027 - val_mean_absolute_error: 0.0331\n",
      "Epoch 45/50\n",
      "108/108 [==============================] - 1s 11ms/step - loss: 0.0026 - mean_absolute_error: 0.0314 - val_loss: 0.0027 - val_mean_absolute_error: 0.0332\n",
      "Epoch 46/50\n",
      "108/108 [==============================] - 1s 12ms/step - loss: 0.0026 - mean_absolute_error: 0.0314 - val_loss: 0.0027 - val_mean_absolute_error: 0.0331\n",
      "Epoch 47/50\n",
      "108/108 [==============================] - 1s 12ms/step - loss: 0.0026 - mean_absolute_error: 0.0314 - val_loss: 0.0027 - val_mean_absolute_error: 0.0334\n",
      "Epoch 48/50\n",
      "108/108 [==============================] - 1s 12ms/step - loss: 0.0026 - mean_absolute_error: 0.0314 - val_loss: 0.0028 - val_mean_absolute_error: 0.0335\n",
      "Epoch 49/50\n",
      "108/108 [==============================] - 1s 12ms/step - loss: 0.0026 - mean_absolute_error: 0.0313 - val_loss: 0.0027 - val_mean_absolute_error: 0.0331\n",
      "Epoch 50/50\n",
      "108/108 [==============================] - 1s 12ms/step - loss: 0.0026 - mean_absolute_error: 0.0314 - val_loss: 0.0027 - val_mean_absolute_error: 0.0331\n",
      "INFO:tensorflow:Assets written to: weights/cnn_batchnormalization/assets\n"
     ]
    },
    {
     "name": "stderr",
     "output_type": "stream",
     "text": [
      "INFO:tensorflow:Assets written to: weights/cnn_batchnormalization/assets\n"
     ]
    }
   ],
   "source": [
    "reload(models_path)\n",
    "m = model_path.ModelPath(uses_goal=False)\n",
    "m.train(models_path.cnn_batchnormalization(train_data), train_data, eval_data, batch_size=2048, epochs=50)\n",
    "m.save('path_cnn_batchnormalization')\n",
    "m = None"
   ]
  }
 ],
 "metadata": {
  "interpreter": {
   "hash": "e7370f93d1d0cde622a1f8e1c04877d8463912d04d973331ad4851f04de6915a"
  },
  "kernelspec": {
   "display_name": "Python 3.8.10 64-bit",
   "language": "python",
   "name": "python3"
  },
  "language_info": {
   "codemirror_mode": {
    "name": "ipython",
    "version": 3
   },
   "file_extension": ".py",
   "mimetype": "text/x-python",
   "name": "python",
   "nbconvert_exporter": "python",
   "pygments_lexer": "ipython3",
   "version": "3.8.10"
  },
  "orig_nbformat": 4
 },
 "nbformat": 4,
 "nbformat_minor": 2
}
