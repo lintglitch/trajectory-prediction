{
 "cells": [
  {
   "cell_type": "code",
   "execution_count": null,
   "metadata": {},
   "outputs": [],
   "source": [
    "from importlib import reload\n",
    "from src import parsing\n",
    "from src import model_path\n",
    "from src import models_path\n",
    "from src import model_goal\n",
    "from src import models_goal\n",
    "from src import model_interface\n",
    "from src import visualization\n",
    "from src import util\n",
    "from src import config\n",
    "reload(parsing)\n",
    "reload(model_path)\n",
    "reload(models_path)\n",
    "reload(model_goal)\n",
    "reload(models_goal)\n",
    "reload(model_interface)\n",
    "reload(visualization)\n",
    "reload(util)\n",
    "reload(config)"
   ]
  },
  {
   "cell_type": "code",
   "execution_count": null,
   "metadata": {},
   "outputs": [],
   "source": [
    "# load input\n",
    "# since we use a different file then for training we can use everything for eval\n",
    "file_path = \"data/medium_ab.csv\"\n",
    "_, eval_data, _ = parsing.parse_atc_day(file_path, train_ratio=0.02, eval_ratio=0.98)"
   ]
  },
  {
   "cell_type": "code",
   "execution_count": null,
   "metadata": {},
   "outputs": [],
   "source": [
    "# load model\n",
    "m = None\n",
    "m = model_path.ModelPath(uses_goal=False)\n",
    "m.load('path_simple_lstm')"
   ]
  },
  {
   "cell_type": "code",
   "execution_count": null,
   "metadata": {},
   "outputs": [],
   "source": [
    "N = 0\n",
    "multiplier = 200\n",
    "amount = 3\n",
    "\n",
    "for i in range(amount):\n",
    "    n = N + multiplier * i\n",
    "\n",
    "    x = eval_data_x[n]\n",
    "    y = eval_data_y[n]\n",
    "\n",
    "    predictions = [model_interface.predict_once(model, x)]\n",
    "    visualization.draw_path(eval_data_x[n], eval_data_y[n], predictions=predictions, name=f\"path {n}, deterministic\")\n",
    "    predictions = model_interface.prediction_sampling(model_prob, x, samples=5)\n",
    "    visualization.draw_path(eval_data_x[n], eval_data_y[n], predictions=predictions, name=f\"path {n}, non-deterministic\")"
   ]
  }
 ],
 "metadata": {
  "language_info": {
   "name": "python"
  },
  "orig_nbformat": 4
 },
 "nbformat": 4,
 "nbformat_minor": 2
}
