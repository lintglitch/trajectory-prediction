{
 "cells": [
  {
   "cell_type": "code",
   "execution_count": 1,
   "metadata": {},
   "outputs": [
    {
     "name": "stderr",
     "output_type": "stream",
     "text": [
      "100%|██████████| 1224/1224 [00:17<00:00, 71.87it/s] \n"
     ]
    },
    {
     "name": "stdout",
     "output_type": "stream",
     "text": [
      "Dividing 697 human trajectories: 627 training, 70 eval, 0 test\n",
      "train (224535, 40, 2) float64 (224535, 25) float32 (224535, 40, 2) float64\n",
      "eval (24685, 40, 2) float64 (24685, 25) float32 (24685, 40, 2) float64\n"
     ]
    }
   ],
   "source": [
    "from importlib import reload\n",
    "import parsing\n",
    "import model_path\n",
    "import model_goal\n",
    "import model_interface\n",
    "import visualization\n",
    "import util\n",
    "import config\n",
    "reload(parsing)\n",
    "reload(model_interface)\n",
    "reload(visualization)\n",
    "reload(util)\n",
    "reload(config)\n",
    "\n",
    "# load input\n",
    "file_path = \"data/medium_aa.csv\"\n",
    "train_data, eval_data, test_data = parsing.parse_atc_day(file_path, train_ratio=0.9, eval_ratio=0.1)"
   ]
  },
  {
   "cell_type": "code",
   "execution_count": 3,
   "metadata": {},
   "outputs": [
    {
     "name": "stdout",
     "output_type": "stream",
     "text": [
      "Model: \"model\"\n",
      "_________________________________________________________________\n",
      "Layer (type)                 Output Shape              Param #   \n",
      "=================================================================\n",
      "input_2 (InputLayer)         [(None, 40, 2)]           0         \n",
      "_________________________________________________________________\n",
      "conv1d_1 (Conv1D)            (None, 38, 32)            224       \n",
      "_________________________________________________________________\n",
      "max_pooling1d (MaxPooling1D) (None, 19, 32)            0         \n",
      "_________________________________________________________________\n",
      "flatten (Flatten)            (None, 608)               0         \n",
      "_________________________________________________________________\n",
      "dense (Dense)                (None, 25)                15225     \n",
      "=================================================================\n",
      "Total params: 15,449\n",
      "Trainable params: 15,449\n",
      "Non-trainable params: 0\n",
      "_________________________________________________________________\n",
      "None\n",
      "Epoch 1/10\n",
      "7017/7017 [==============================] - 12s 2ms/step - loss: 1.1332 - accuracy: 0.6308 - val_loss: 1.2165 - val_accuracy: 0.5860\n",
      "Epoch 2/10\n",
      "7017/7017 [==============================] - 11s 2ms/step - loss: 1.0751 - accuracy: 0.6443 - val_loss: 1.1896 - val_accuracy: 0.5982\n",
      "Epoch 3/10\n",
      "7017/7017 [==============================] - 11s 2ms/step - loss: 1.0661 - accuracy: 0.6468 - val_loss: 1.1909 - val_accuracy: 0.5934\n",
      "Epoch 4/10\n",
      "7017/7017 [==============================] - 11s 2ms/step - loss: 1.0612 - accuracy: 0.6481 - val_loss: 1.1747 - val_accuracy: 0.6018\n",
      "Epoch 5/10\n",
      "7017/7017 [==============================] - 11s 2ms/step - loss: 1.0584 - accuracy: 0.6487 - val_loss: 1.1829 - val_accuracy: 0.6032\n",
      "Epoch 6/10\n",
      "7017/7017 [==============================] - 11s 2ms/step - loss: 1.0568 - accuracy: 0.6499 - val_loss: 1.1714 - val_accuracy: 0.6026\n",
      "Epoch 7/10\n",
      "7017/7017 [==============================] - 18s 3ms/step - loss: 1.0546 - accuracy: 0.6500 - val_loss: 1.1804 - val_accuracy: 0.5984\n",
      "Epoch 8/10\n",
      "7017/7017 [==============================] - 11s 2ms/step - loss: 1.0532 - accuracy: 0.6500 - val_loss: 1.1681 - val_accuracy: 0.6055\n",
      "Epoch 9/10\n",
      "7017/7017 [==============================] - 11s 2ms/step - loss: 1.0518 - accuracy: 0.6508 - val_loss: 1.1676 - val_accuracy: 0.6041\n",
      "Epoch 10/10\n",
      "7017/7017 [==============================] - 11s 2ms/step - loss: 1.0502 - accuracy: 0.6514 - val_loss: 1.1640 - val_accuracy: 0.6071\n"
     ]
    },
    {
     "data": {
      "text/plain": [
       "<keras.callbacks.History at 0x7f76a1506550>"
      ]
     },
     "execution_count": 3,
     "metadata": {},
     "output_type": "execute_result"
    }
   ],
   "source": [
    "reload(model_goal)\n",
    "\n",
    "m_goal_estimator = model_goal.ModelGoal(model_goal.simple_cnn(train_data))\n",
    "m_goal_estimator.train(train_data, eval_data)\n",
    "\n",
    "# generate estimations\n",
    "train_goals_estimation = m_goal_estimator.estimate(train_data)\n",
    "eval_goals_estimation = m_goal_estimator.estimate(eval_data)\n",
    "\n",
    "# get the correct pedestrian goals\n",
    "train_goals_correct = train_data[1]\n",
    "eval_goals_correct = eval_data[1]"
   ]
  },
  {
   "cell_type": "code",
   "execution_count": 7,
   "metadata": {},
   "outputs": [
    {
     "ename": "AttributeError",
     "evalue": "'ModelGoal' object has no attribute 'estimate'",
     "output_type": "error",
     "traceback": [
      "\u001b[0;31m---------------------------------------------------------------------------\u001b[0m",
      "\u001b[0;31mAttributeError\u001b[0m                            Traceback (most recent call last)",
      "\u001b[0;32m<ipython-input-7-a5ae0bcc63bf>\u001b[0m in \u001b[0;36m<module>\u001b[0;34m\u001b[0m\n\u001b[1;32m      1\u001b[0m \u001b[0mreload\u001b[0m\u001b[0;34m(\u001b[0m\u001b[0mmodel_goal\u001b[0m\u001b[0;34m)\u001b[0m\u001b[0;34m\u001b[0m\u001b[0;34m\u001b[0m\u001b[0m\n\u001b[0;32m----> 2\u001b[0;31m \u001b[0mtrain_goals_estimation\u001b[0m \u001b[0;34m=\u001b[0m \u001b[0mm_goal_estimator\u001b[0m\u001b[0;34m.\u001b[0m\u001b[0mestimate\u001b[0m\u001b[0;34m(\u001b[0m\u001b[0mtrain_data\u001b[0m\u001b[0;34m)\u001b[0m\u001b[0;34m\u001b[0m\u001b[0;34m\u001b[0m\u001b[0m\n\u001b[0m\u001b[1;32m      3\u001b[0m \u001b[0;31m# eval_goals_estimation = m_goal_estimator.estimate(eval_data)\u001b[0m\u001b[0;34m\u001b[0m\u001b[0;34m\u001b[0m\u001b[0;34m\u001b[0m\u001b[0m\n",
      "\u001b[0;31mAttributeError\u001b[0m: 'ModelGoal' object has no attribute 'estimate'"
     ]
    }
   ],
   "source": [
    "reload(model_goal)\n",
    "train_goals_estimation = m_goal_estimator.estimate(train_data)\n",
    "# eval_goals_estimation = m_goal_estimator.estimate(eval_data)"
   ]
  }
 ],
 "metadata": {
  "interpreter": {
   "hash": "e7370f93d1d0cde622a1f8e1c04877d8463912d04d973331ad4851f04de6915a"
  },
  "kernelspec": {
   "display_name": "Python 3.8.10 64-bit",
   "language": "python",
   "name": "python3"
  },
  "language_info": {
   "codemirror_mode": {
    "name": "ipython",
    "version": 3
   },
   "file_extension": ".py",
   "mimetype": "text/x-python",
   "name": "python",
   "nbconvert_exporter": "python",
   "pygments_lexer": "ipython3",
   "version": "3.8.10"
  },
  "orig_nbformat": 4
 },
 "nbformat": 4,
 "nbformat_minor": 2
}
