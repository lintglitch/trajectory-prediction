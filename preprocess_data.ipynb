{
 "cells": [
  {
   "cell_type": "code",
   "execution_count": 1,
   "metadata": {},
   "outputs": [
    {
     "data": {
      "text/plain": [
       "<module 'src.parsing' from '/home/deus/Documents/trajectory-prediction/src/parsing.py'>"
      ]
     },
     "execution_count": 1,
     "metadata": {},
     "output_type": "execute_result"
    }
   ],
   "source": [
    "from importlib import reload\n",
    "from src import parsing\n",
    "reload(parsing)"
   ]
  },
  {
   "cell_type": "code",
   "execution_count": 2,
   "metadata": {},
   "outputs": [
    {
     "name": "stderr",
     "output_type": "stream",
     "text": [
      "100%|██████████| 1224/1224 [00:16<00:00, 72.30it/s] \n"
     ]
    },
    {
     "name": "stdout",
     "output_type": "stream",
     "text": [
      "1224 unique ids found. Generated 248765 sequences total from 697 trajectories.\n",
      "Skipped 503 trajectories.\n",
      "        353 too short\n",
      "        150 frequency issues (like gaps)\n",
      "    \n",
      "Skipped 455 sequences (0.183%) because of abnormally high absolute value after normalization\n",
      "Dividing 697 human trajectories: 627 training, 70 eval, 0 test\n",
      "train (226275, 40, 2) float64 (226275, 25) float32 (226275, 40, 2) float64\n",
      "eval (22490, 40, 2) float64 (22490, 25) float32 (22490, 40, 2) float64\n"
     ]
    }
   ],
   "source": [
    "file_name = \"medium_aa.csv\"\n",
    "# file_name = \"atc-20121114.csv\"\n",
    "file_path = f\"data/{file_name}\"\n",
    "# file_path = \"data/atc-20121114.csv\"\n",
    "train_data, eval_data, test_data = parsing.parse_atc_day(file_path, train_ratio=0.9, eval_ratio=0.1)"
   ]
  },
  {
   "cell_type": "code",
   "execution_count": 3,
   "metadata": {},
   "outputs": [],
   "source": [
    "parsing.save_processed_data(file_name, train_data, eval_data, test_data)"
   ]
  },
  {
   "cell_type": "code",
   "execution_count": 22,
   "metadata": {},
   "outputs": [],
   "source": [
    "train_data2, eval_data_2, test_data_2 = parsing.load_processed_data(file_name)"
   ]
  }
 ],
 "metadata": {
  "interpreter": {
   "hash": "e7370f93d1d0cde622a1f8e1c04877d8463912d04d973331ad4851f04de6915a"
  },
  "kernelspec": {
   "display_name": "Python 3.8.10 64-bit",
   "language": "python",
   "name": "python3"
  },
  "language_info": {
   "codemirror_mode": {
    "name": "ipython",
    "version": 3
   },
   "file_extension": ".py",
   "mimetype": "text/x-python",
   "name": "python",
   "nbconvert_exporter": "python",
   "pygments_lexer": "ipython3",
   "version": "3.8.10"
  },
  "orig_nbformat": 4
 },
 "nbformat": 4,
 "nbformat_minor": 2
}
