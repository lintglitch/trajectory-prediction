{
 "cells": [
  {
   "cell_type": "code",
   "execution_count": 1,
   "metadata": {},
   "outputs": [
    {
     "data": {
      "text/plain": [
       "<module 'src.parsing' from '/home/deus/Documents/trajectory-prediction/src/parsing.py'>"
      ]
     },
     "execution_count": 1,
     "metadata": {},
     "output_type": "execute_result"
    }
   ],
   "source": [
    "from importlib import reload\n",
    "from src import parsing\n",
    "reload(parsing)"
   ]
  },
  {
   "cell_type": "code",
   "execution_count": 4,
   "metadata": {},
   "outputs": [
    {
     "name": "stderr",
     "output_type": "stream",
     "text": [
      "100%|██████████| 51936/51936 [28:32<00:00, 30.33it/s]\n"
     ]
    },
    {
     "name": "stdout",
     "output_type": "stream",
     "text": [
      "51936 unique ids found. Generated 1968562 sequences total from 28428 trajectories.\n",
      "Skipped 21256 trajectories.\n",
      "        13041 too short\n",
      "        8215 frequency issues (like gaps)\n",
      "    \n",
      "Skipped 2478 sequences (0.126%) because of abnormally high absolute value after normalization\n",
      "Dividing 28428 human trajectories: 25585 training, 2843 eval, 0 test\n",
      "train (1770619, 50, 2) float32 (1770619, 25) float32 (1770619, 50, 2) float32\n",
      "eval (197943, 50, 2) float32 (197943, 25) float32 (197943, 50, 2) float32\n"
     ]
    },
    {
     "name": "stderr",
     "output_type": "stream",
     "text": [
      "100%|██████████| 22227/22227 [08:20<00:00, 44.43it/s]\n"
     ]
    },
    {
     "name": "stdout",
     "output_type": "stream",
     "text": [
      "22227 unique ids found. Generated 1043144 sequences total from 12262 trajectories.\n",
      "Skipped 9043 trajectories.\n",
      "        6048 too short\n",
      "        2995 frequency issues (like gaps)\n",
      "    \n",
      "Skipped 1030 sequences (0.099%) because of abnormally high absolute value after normalization\n",
      "Dividing 12262 human trajectories: 11035 training, 1227 eval, 0 test\n",
      "train (935962, 50, 2) float32 (935962, 25) float32 (935962, 50, 2) float32\n",
      "eval (107182, 50, 2) float32 (107182, 25) float32 (107182, 50, 2) float32\n"
     ]
    },
    {
     "name": "stderr",
     "output_type": "stream",
     "text": [
      "100%|██████████| 56036/56036 [33:07<00:00, 28.20it/s]\n"
     ]
    },
    {
     "name": "stdout",
     "output_type": "stream",
     "text": [
      "56036 unique ids found. Generated 2259793 sequences total from 29537 trajectories.\n",
      "Skipped 24143 trajectories.\n",
      "        14345 too short\n",
      "        9798 frequency issues (like gaps)\n",
      "    \n",
      "Skipped 2139 sequences (0.095%) because of abnormally high absolute value after normalization\n",
      "Dividing 29537 human trajectories: 26583 training, 2954 eval, 0 test\n",
      "train (2034055, 50, 2) float32 (2034055, 25) float32 (2034055, 50, 2) float32\n",
      "eval (225738, 50, 2) float32 (225738, 25) float32 (225738, 50, 2) float32\n",
      "\n",
      "COMBINED STATS:\n",
      "combined train (4740636, 50, 2) float32 (4740636, 25) float32 (4740636, 50, 2) float32\n",
      "combined eval (530863, 50, 2) float32 (530863, 25) float32 (530863, 50, 2) float32\n"
     ]
    }
   ],
   "source": [
    "train_data = None\n",
    "eval_data = None\n",
    "test_data = None\n",
    "\n",
    "file_name_list = [\n",
    "    # 'atc-20121024.csv',\n",
    "    # 'atc-20121028.csv',\n",
    "    # 'atc-20121031.csv',\n",
    "\n",
    "    # 'atc-20121104.csv',\n",
    "    # 'atc-20121107.csv',\n",
    "    # 'atc-20121111.csv',\n",
    "    # 'atc-20121114.csv',\n",
    "\n",
    "    'atc-20121118.csv',\n",
    "    'atc-20121121.csv',\n",
    "    'atc-20121125.csv',\n",
    "\n",
    "]\n",
    "\n",
    "# file_name_list = [\n",
    "#     'medium_aa.csv',\n",
    "#     'medium_ab.csv',\n",
    "#     'medium_ac.csv',\n",
    "# ]\n",
    "\n",
    "train_data, eval_data, test_data = parsing.parse_several_atc_days(file_name_list, train_ratio=0.9, eval_ratio=0.1)"
   ]
  },
  {
   "cell_type": "code",
   "execution_count": 5,
   "metadata": {},
   "outputs": [],
   "source": [
    "parsing.save_processed_data('part1_days_08_to_10', train_data, eval_data, test_data)"
   ]
  },
  {
   "cell_type": "code",
   "execution_count": 2,
   "metadata": {},
   "outputs": [
    {
     "name": "stdout",
     "output_type": "stream",
     "text": [
      "\n",
      "COMBINED STATS:\n",
      "combined train (7833269, 50, 2) float32 (7833269, 25) float32 (7833269, 50, 2) float32\n",
      "combined eval (880402, 50, 2) float32 (880402, 25) float32 (880402, 50, 2) float32\n"
     ]
    }
   ],
   "source": [
    "file_name_list = [\n",
    "    'part1_days_01_to_03',\n",
    "    'part1_days_04_to_07',\n",
    "    # 'part1_days_08_to_10',\n",
    "]\n",
    "\n",
    "train_data, eval_data, test_data = parsing.unite_processed_data(file_name_list)\n",
    "parsing.save_processed_data('part1_days_01_to_07', train_data, eval_data, test_data)"
   ]
  },
  {
   "cell_type": "code",
   "execution_count": 2,
   "metadata": {},
   "outputs": [
    {
     "name": "stderr",
     "output_type": "stream",
     "text": [
      "100%|██████████| 1224/1224 [00:06<00:00, 197.20it/s]\n"
     ]
    },
    {
     "name": "stdout",
     "output_type": "stream",
     "text": [
      "1224 unique ids found. Generated 37391 sequences total from 660 trajectories.\n",
      "Skipped 503 trajectories.\n",
      "        353 too short\n",
      "        150 frequency issues (like gaps)\n",
      "    \n",
      "Skipped 139 sequences (0.372%) because of abnormally high absolute value after normalization\n",
      "Dividing 660 human trajectories: 594 training, 66 eval, 0 test\n",
      "train (34191, 50, 2) float64 (34191, 25) float32 (34191, 50, 2) float64\n",
      "eval (3200, 50, 2) float64 (3200, 25) float32 (3200, 50, 2) float64\n"
     ]
    }
   ],
   "source": [
    "file_name = \"medium_aa.csv\"\n",
    "# file_name = \"atc-20121114.csv\"\n",
    "file_path = f\"data/{file_name}\"\n",
    "# file_path = \"data/atc-20121114.csv\"\n",
    "train_data, eval_data, test_data = parsing.parse_atc_day(file_path, train_ratio=0.9, eval_ratio=0.1)"
   ]
  },
  {
   "cell_type": "code",
   "execution_count": 3,
   "metadata": {},
   "outputs": [
    {
     "name": "stderr",
     "output_type": "stream",
     "text": [
      "100%|██████████| 1224/1224 [00:09<00:00, 122.77it/s]\n"
     ]
    },
    {
     "name": "stdout",
     "output_type": "stream",
     "text": [
      "1224 unique ids found. Generated 99509 sequences total from 697 trajectories.\n",
      "Skipped 503 trajectories.\n",
      "        353 too short\n",
      "        150 frequency issues (like gaps)\n",
      "    \n",
      "Skipped 179 sequences (0.18%) because of abnormally high absolute value after normalization\n",
      "Dividing 697 human trajectories: 627 training, 70 eval, 0 test\n",
      "train (90875, 40, 2) float64 (90875, 25) float32 (90875, 40, 2) float64\n",
      "eval (8634, 40, 2) float64 (8634, 25) float32 (8634, 40, 2) float64\n"
     ]
    },
    {
     "name": "stderr",
     "output_type": "stream",
     "text": [
      "100%|██████████| 1058/1058 [00:09<00:00, 111.30it/s]\n"
     ]
    },
    {
     "name": "stdout",
     "output_type": "stream",
     "text": [
      "1058 unique ids found. Generated 99056 sequences total from 580 trajectories.\n",
      "Skipped 457 trajectories.\n",
      "        307 too short\n",
      "        150 frequency issues (like gaps)\n",
      "    \n",
      "Skipped 6 sequences (0.006%) because of abnormally high absolute value after normalization\n",
      "Dividing 580 human trajectories: 522 training, 58 eval, 0 test\n",
      "train (91210, 40, 2) float64 (91210, 25) float32 (91210, 40, 2) float64\n",
      "eval (7846, 40, 2) float64 (7846, 25) float32 (7846, 40, 2) float64\n"
     ]
    }
   ],
   "source": [
    "file_name = \"medium_aa.csv\"\n",
    "file_path = f\"data/{file_name}\"\n",
    "train_data1, eval_data1, test_data1 = parsing.parse_atc_day(file_path, train_ratio=0.9, eval_ratio=0.1)\n",
    "\n",
    "file_name = \"medium_ab.csv\"\n",
    "file_path = f\"data/{file_name}\"\n",
    "train_data2, eval_data2, test_data2 = parsing.parse_atc_day(file_path, train_ratio=0.9, eval_ratio=0.1)"
   ]
  },
  {
   "cell_type": "code",
   "execution_count": 8,
   "metadata": {},
   "outputs": [
    {
     "name": "stdout",
     "output_type": "stream",
     "text": [
      "(90875, 40, 2) (91210, 40, 2)\n",
      "(182085, 40, 2)\n"
     ]
    }
   ],
   "source": [
    "print(train_data1[0].shape, train_data2[0].shape)\n",
    "train_data, eval_data, test_data = parsing.unite_all_data(train_data1, train_data2, eval_data1, eval_data2, test_data1, test_data2)\n",
    "print(train_data[0].shape)"
   ]
  },
  {
   "cell_type": "code",
   "execution_count": 3,
   "metadata": {},
   "outputs": [],
   "source": [
    "parsing.save_processed_data(file_name, train_data, eval_data, test_data)"
   ]
  },
  {
   "cell_type": "code",
   "execution_count": 3,
   "metadata": {},
   "outputs": [
    {
     "name": "stdout",
     "output_type": "stream",
     "text": [
      "(3755430, 40, 2)\n"
     ]
    }
   ],
   "source": [
    "file_name = \"atc-20121114.csv\"\n",
    "train_data, eval_data, test_data = parsing.load_processed_data(file_name)\n",
    "print(train_data[0].shape)"
   ]
  }
 ],
 "metadata": {
  "interpreter": {
   "hash": "e7370f93d1d0cde622a1f8e1c04877d8463912d04d973331ad4851f04de6915a"
  },
  "kernelspec": {
   "display_name": "Python 3.8.10 64-bit",
   "language": "python",
   "name": "python3"
  },
  "language_info": {
   "codemirror_mode": {
    "name": "ipython",
    "version": 3
   },
   "file_extension": ".py",
   "mimetype": "text/x-python",
   "name": "python",
   "nbconvert_exporter": "python",
   "pygments_lexer": "ipython3",
   "version": "3.8.10"
  },
  "orig_nbformat": 4
 },
 "nbformat": 4,
 "nbformat_minor": 2
}
