{
 "cells": [
  {
   "cell_type": "code",
   "execution_count": 23,
   "metadata": {},
   "outputs": [],
   "source": [
    "from importlib import reload\n",
    "from src import parsing\n",
    "from src import model_path\n",
    "from src import models_path\n",
    "from src import model_goal\n",
    "from src import models_goal\n",
    "from src import model_interface\n",
    "from src import visualization\n",
    "from src import util\n",
    "from src import config\n",
    "reload(parsing)\n",
    "reload(model_path)\n",
    "reload(models_path)\n",
    "reload(model_goal)\n",
    "reload(models_goal)\n",
    "reload(model_interface)\n",
    "reload(visualization)\n",
    "reload(util)\n",
    "reload(config)\n",
    "\n",
    "import seaborn\n",
    "import numpy as np\n",
    "import pandas as pd"
   ]
  },
  {
   "cell_type": "code",
   "execution_count": null,
   "metadata": {},
   "outputs": [],
   "source": [
    "# file used for evaluating the atc dataset\n",
    "file_path = \"data/medium_aa.csv\""
   ]
  },
  {
   "cell_type": "code",
   "execution_count": 30,
   "metadata": {},
   "outputs": [],
   "source": [
    "## load raw data into pandas\n",
    "## modified from parsing.py:\n",
    "df = pd.read_csv(file_path, names=[\"time\", \"id\", \"x\", \"y\", \"z\", \"velocity\", \"motion_angle\", \"facing_angle\"])\n",
    "df = df.drop(columns=['z', 'velocity', 'motion_angle', 'facing_angle'])\n",
    "df['time'] = pd.to_datetime(df['time'], unit='s')"
   ]
  },
  {
   "cell_type": "code",
   "execution_count": 31,
   "metadata": {},
   "outputs": [
    {
     "name": "stdout",
     "output_type": "stream",
     "text": [
      "Min -41020, Max 48051, Mean 270.2975155, Std 19186.293111789735\n"
     ]
    },
    {
     "data": {
      "image/png": "[encoded data removed]",
      "text/plain": [
       "<Figure size 432x288 with 1 Axes>"
      ]
     },
     "metadata": {
      "needs_background": "light"
     },
     "output_type": "display_data"
    }
   ],
   "source": [
    "# for this we are only interested in the x and y columns\n",
    "# combine these in a single 1D numpy array\n",
    "raw_data = df.loc[:, ['x', 'y']].to_numpy().flatten()\n",
    "seaborn.histplot(data=raw_data, bins=50, stat='proportion')\n",
    "\n",
    "print(f\"Min {raw_data.min()}, Max {raw_data.max()}, Mean {raw_data.mean()}, Std {raw_data.std()}\")"
   ]
  },
  {
   "cell_type": "code",
   "execution_count": 32,
   "metadata": {},
   "outputs": [],
   "source": [
    "# scale df\n",
    "df['x'] = df['x'] / config.SCALING_FACTOR\n",
    "df['y'] = df['y'] / config.SCALING_FACTOR"
   ]
  },
  {
   "cell_type": "code",
   "execution_count": 33,
   "metadata": {},
   "outputs": [
    {
     "name": "stdout",
     "output_type": "stream",
     "text": [
      "Min -4.102, Max 4.8051, Mean 0.02702975155000001, Std 1.9186293111789734\n"
     ]
    },
    {
     "data": {
      "image/png": "[encoded data removed]",
      "text/plain": [
       "<Figure size 432x288 with 1 Axes>"
      ]
     },
     "metadata": {
      "needs_background": "light"
     },
     "output_type": "display_data"
    }
   ],
   "source": [
    "raw_data = df.loc[:, ['x', 'y']].to_numpy().flatten()\n",
    "seaborn.histplot(data=raw_data, bins=50, stat='proportion')\n",
    "\n",
    "print(f\"Min {raw_data.min()}, Max {raw_data.max()}, Mean {raw_data.mean()}, Std {raw_data.std()}\")"
   ]
  },
  {
   "cell_type": "code",
   "execution_count": 2,
   "metadata": {},
   "outputs": [
    {
     "name": "stderr",
     "output_type": "stream",
     "text": [
      "100%|██████████| 1224/1224 [00:16<00:00, 72.44it/s] \n"
     ]
    },
    {
     "name": "stdout",
     "output_type": "stream",
     "text": [
      "1224 unique ids found. Generated 248765 sequences total from 697 trajectories.\n",
      "Skipped 503 trajectories.\n",
      "        353 too short\n",
      "        150 frequency issues (like gaps)\n",
      "    \n",
      "Skipped 455 sequences (0.183%) because of abnormally high absolute value after normalization\n",
      "Dividing 697 human trajectories: 557 training, 69 eval, 71 test\n",
      "train (202617, 40, 2) float64 (202617, 25) float32 (202617, 40, 2) float64\n",
      "eval (23245, 40, 2) float64 (23245, 25) float32 (23245, 40, 2) float64\n",
      "test (22903, 40, 2) float64 (22903, 25) float32 (22903, 40, 2) float64\n"
     ]
    }
   ],
   "source": [
    "# load testing data and format it for the model\n",
    "train_data, eval_data, test_data = parsing.parse_atc_day(file_path, train_ratio=0.9, eval_ratio=0.1)"
   ]
  },
  {
   "cell_type": "code",
   "execution_count": 34,
   "metadata": {},
   "outputs": [
    {
     "name": "stdout",
     "output_type": "stream",
     "text": [
      "Min -0.9973233759822279, Max 0.9990387629906906, Mean 3.59256009576268e-05, Std 0.1699921601345119\n"
     ]
    },
    {
     "data": {
      "image/png": "[encoded data removed]",
      "text/plain": [
       "<Figure size 432x288 with 1 Axes>"
      ]
     },
     "metadata": {
      "needs_background": "light"
     },
     "output_type": "display_data"
    }
   ],
   "source": [
    "raw_data_x = train_data[0].flatten()\n",
    "raw_data_y = train_data[2].flatten()\n",
    "raw_data = np.concatenate((raw_data_x, raw_data_y))\n",
    "\n",
    "seaborn.histplot(data=raw_data, bins=50, stat='proportion')\n",
    "print(f\"Min {raw_data.min()}, Max {raw_data.max()}, Mean {raw_data.mean()}, Std {raw_data.std()}\")"
   ]
  },
  {
   "cell_type": "code",
   "execution_count": 35,
   "metadata": {},
   "outputs": [
    {
     "data": {
      "text/plain": [
       "<AxesSubplot:ylabel='Proportion'>"
      ]
     },
     "execution_count": 35,
     "metadata": {},
     "output_type": "execute_result"
    },
    {
     "data": {
      "image/png": "[encoded data removed]",
      "text/plain": [
       "<Figure size 432x288 with 1 Axes>"
      ]
     },
     "metadata": {
      "needs_background": "light"
     },
     "output_type": "display_data"
    }
   ],
   "source": [
    "raw_data = df.loc[:, ['time']].to_numpy().flatten()\n",
    "seaborn.histplot(data=raw_data, bins=50, stat='proportion')"
   ]
  }
 ],
 "metadata": {
  "interpreter": {
   "hash": "e7370f93d1d0cde622a1f8e1c04877d8463912d04d973331ad4851f04de6915a"
  },
  "kernelspec": {
   "display_name": "Python 3.8.10 64-bit",
   "language": "python",
   "name": "python3"
  },
  "language_info": {
   "codemirror_mode": {
    "name": "ipython",
    "version": 3
   },
   "file_extension": ".py",
   "mimetype": "text/x-python",
   "name": "python",
   "nbconvert_exporter": "python",
   "pygments_lexer": "ipython3",
   "version": "3.8.10"
  },
  "orig_nbformat": 4
 },
 "nbformat": 4,
 "nbformat_minor": 2
}
