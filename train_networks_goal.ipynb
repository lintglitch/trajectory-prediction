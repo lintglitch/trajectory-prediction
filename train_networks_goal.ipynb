{
 "cells": [
  {
   "cell_type": "code",
   "execution_count": 1,
   "metadata": {},
   "outputs": [],
   "source": [
    "from importlib import reload\n",
    "from src import parsing\n",
    "from src import model_path\n",
    "from src import models_path\n",
    "from src import model_goal\n",
    "from src import models_goal\n",
    "from src import inception\n",
    "from src import transformer\n",
    "from src import model_interface\n",
    "from src import visualization\n",
    "from src import util\n",
    "from src import config\n",
    "reload(parsing)\n",
    "reload(model_path)\n",
    "reload(models_path)\n",
    "reload(model_goal)\n",
    "reload(models_goal)\n",
    "reload(inception)\n",
    "reload(model_interface)\n",
    "reload(visualization)\n",
    "reload(util)\n",
    "reload(config)\n",
    "\n",
    "# file_name = \"atc-20121114.csv\"\n",
    "file_name = \"part1_days_01_to_03\"\n",
    "# file_name = \"medium_aa.csv\"\n",
    "# file_name = \"part1_days_04_to_07\"\n",
    "train_data, eval_data, test_data = parsing.load_processed_data(file_name)\n",
    "\n",
    "input_shape = train_data[0].shape\n",
    "input_shape = (input_shape[1], input_shape[2])"
   ]
  },
  {
   "cell_type": "code",
   "execution_count": 2,
   "metadata": {},
   "outputs": [
    {
     "name": "stdout",
     "output_type": "stream",
     "text": [
      "Compiling new model\n",
      "Epoch 1/40\n",
      "353/353 [==============================] - 3s 5ms/step - loss: 2.4430 - categorical_accuracy: 0.3467 - val_loss: 1.9178 - val_categorical_accuracy: 0.4212\n",
      "Epoch 2/40\n",
      "353/353 [==============================] - 2s 4ms/step - loss: 1.5221 - categorical_accuracy: 0.5518 - val_loss: 1.3799 - val_categorical_accuracy: 0.5849\n",
      "Epoch 3/40\n",
      "353/353 [==============================] - 2s 5ms/step - loss: 1.3306 - categorical_accuracy: 0.6017 - val_loss: 1.3380 - val_categorical_accuracy: 0.5917\n",
      "Epoch 4/40\n",
      "353/353 [==============================] - 2s 5ms/step - loss: 1.3070 - categorical_accuracy: 0.6073 - val_loss: 1.3241 - val_categorical_accuracy: 0.5969\n",
      "Epoch 5/40\n",
      "353/353 [==============================] - 2s 5ms/step - loss: 1.2978 - categorical_accuracy: 0.6097 - val_loss: 1.3182 - val_categorical_accuracy: 0.5986\n",
      "Epoch 6/40\n",
      "353/353 [==============================] - 2s 5ms/step - loss: 1.2931 - categorical_accuracy: 0.6109 - val_loss: 1.3145 - val_categorical_accuracy: 0.5995\n",
      "Epoch 7/40\n",
      "353/353 [==============================] - 2s 5ms/step - loss: 1.2900 - categorical_accuracy: 0.6118 - val_loss: 1.3113 - val_categorical_accuracy: 0.6005\n",
      "Epoch 8/40\n",
      "353/353 [==============================] - 2s 5ms/step - loss: 1.2874 - categorical_accuracy: 0.6124 - val_loss: 1.3096 - val_categorical_accuracy: 0.6013\n",
      "Epoch 9/40\n",
      "353/353 [==============================] - 2s 5ms/step - loss: 1.2852 - categorical_accuracy: 0.6131 - val_loss: 1.3071 - val_categorical_accuracy: 0.6018\n",
      "Epoch 10/40\n",
      "353/353 [==============================] - 2s 5ms/step - loss: 1.2832 - categorical_accuracy: 0.6137 - val_loss: 1.3051 - val_categorical_accuracy: 0.6008\n",
      "Epoch 11/40\n",
      "353/353 [==============================] - 2s 5ms/step - loss: 1.2812 - categorical_accuracy: 0.6142 - val_loss: 1.3029 - val_categorical_accuracy: 0.6033\n",
      "Epoch 12/40\n",
      "353/353 [==============================] - 2s 5ms/step - loss: 1.2795 - categorical_accuracy: 0.6146 - val_loss: 1.3009 - val_categorical_accuracy: 0.6024\n",
      "Epoch 13/40\n",
      "353/353 [==============================] - 2s 5ms/step - loss: 1.2777 - categorical_accuracy: 0.6150 - val_loss: 1.2999 - val_categorical_accuracy: 0.6027\n",
      "Epoch 14/40\n",
      "353/353 [==============================] - 2s 5ms/step - loss: 1.2760 - categorical_accuracy: 0.6155 - val_loss: 1.2978 - val_categorical_accuracy: 0.6030\n",
      "Epoch 15/40\n",
      "353/353 [==============================] - 2s 5ms/step - loss: 1.2744 - categorical_accuracy: 0.6159 - val_loss: 1.2968 - val_categorical_accuracy: 0.6038\n",
      "Epoch 16/40\n",
      "353/353 [==============================] - 2s 5ms/step - loss: 1.2730 - categorical_accuracy: 0.6162 - val_loss: 1.2954 - val_categorical_accuracy: 0.6038\n",
      "Epoch 17/40\n",
      "353/353 [==============================] - 2s 5ms/step - loss: 1.2717 - categorical_accuracy: 0.6165 - val_loss: 1.2939 - val_categorical_accuracy: 0.6053\n",
      "Epoch 18/40\n",
      "353/353 [==============================] - 2s 5ms/step - loss: 1.2704 - categorical_accuracy: 0.6169 - val_loss: 1.2926 - val_categorical_accuracy: 0.6040\n",
      "Epoch 19/40\n",
      "353/353 [==============================] - 2s 5ms/step - loss: 1.2691 - categorical_accuracy: 0.6173 - val_loss: 1.2917 - val_categorical_accuracy: 0.6051\n",
      "Epoch 20/40\n",
      "353/353 [==============================] - 2s 5ms/step - loss: 1.2680 - categorical_accuracy: 0.6176 - val_loss: 1.2905 - val_categorical_accuracy: 0.6063\n",
      "Epoch 21/40\n",
      "353/353 [==============================] - 2s 5ms/step - loss: 1.2668 - categorical_accuracy: 0.6179 - val_loss: 1.2891 - val_categorical_accuracy: 0.6059\n",
      "Epoch 22/40\n",
      "353/353 [==============================] - 2s 5ms/step - loss: 1.2657 - categorical_accuracy: 0.6181 - val_loss: 1.2876 - val_categorical_accuracy: 0.6067\n",
      "Epoch 23/40\n",
      "353/353 [==============================] - 2s 5ms/step - loss: 1.2648 - categorical_accuracy: 0.6183 - val_loss: 1.2874 - val_categorical_accuracy: 0.6076\n",
      "Epoch 24/40\n",
      "353/353 [==============================] - 2s 5ms/step - loss: 1.2638 - categorical_accuracy: 0.6186 - val_loss: 1.2858 - val_categorical_accuracy: 0.6067\n",
      "Epoch 25/40\n",
      "353/353 [==============================] - 2s 5ms/step - loss: 1.2629 - categorical_accuracy: 0.6188 - val_loss: 1.2856 - val_categorical_accuracy: 0.6060\n",
      "Epoch 26/40\n",
      "353/353 [==============================] - 2s 5ms/step - loss: 1.2620 - categorical_accuracy: 0.6190 - val_loss: 1.2844 - val_categorical_accuracy: 0.6074\n",
      "Epoch 27/40\n",
      "353/353 [==============================] - 2s 5ms/step - loss: 1.2611 - categorical_accuracy: 0.6194 - val_loss: 1.2835 - val_categorical_accuracy: 0.6070\n",
      "Epoch 28/40\n",
      "353/353 [==============================] - 2s 5ms/step - loss: 1.2603 - categorical_accuracy: 0.6196 - val_loss: 1.2827 - val_categorical_accuracy: 0.6077\n",
      "Epoch 29/40\n",
      "353/353 [==============================] - 2s 5ms/step - loss: 1.2595 - categorical_accuracy: 0.6198 - val_loss: 1.2824 - val_categorical_accuracy: 0.6072\n",
      "Epoch 30/40\n",
      "353/353 [==============================] - 2s 5ms/step - loss: 1.2588 - categorical_accuracy: 0.6198 - val_loss: 1.2815 - val_categorical_accuracy: 0.6080\n",
      "Epoch 31/40\n",
      "353/353 [==============================] - 2s 5ms/step - loss: 1.2580 - categorical_accuracy: 0.6201 - val_loss: 1.2807 - val_categorical_accuracy: 0.6078\n",
      "Epoch 32/40\n",
      "353/353 [==============================] - 2s 5ms/step - loss: 1.2574 - categorical_accuracy: 0.6201 - val_loss: 1.2800 - val_categorical_accuracy: 0.6083\n",
      "Epoch 33/40\n",
      "353/353 [==============================] - 2s 5ms/step - loss: 1.2567 - categorical_accuracy: 0.6203 - val_loss: 1.2789 - val_categorical_accuracy: 0.6090\n",
      "Epoch 34/40\n",
      "353/353 [==============================] - 2s 5ms/step - loss: 1.2561 - categorical_accuracy: 0.6205 - val_loss: 1.2786 - val_categorical_accuracy: 0.6081\n",
      "Epoch 35/40\n",
      "353/353 [==============================] - 2s 5ms/step - loss: 1.2555 - categorical_accuracy: 0.6206 - val_loss: 1.2781 - val_categorical_accuracy: 0.6081\n",
      "Epoch 36/40\n",
      "353/353 [==============================] - 2s 5ms/step - loss: 1.2549 - categorical_accuracy: 0.6209 - val_loss: 1.2776 - val_categorical_accuracy: 0.6084\n",
      "Epoch 37/40\n",
      "353/353 [==============================] - 2s 5ms/step - loss: 1.2544 - categorical_accuracy: 0.6208 - val_loss: 1.2768 - val_categorical_accuracy: 0.6083\n",
      "Epoch 38/40\n",
      "353/353 [==============================] - 2s 5ms/step - loss: 1.2538 - categorical_accuracy: 0.6210 - val_loss: 1.2768 - val_categorical_accuracy: 0.6078\n",
      "Epoch 39/40\n",
      "353/353 [==============================] - 2s 5ms/step - loss: 1.2533 - categorical_accuracy: 0.6210 - val_loss: 1.2761 - val_categorical_accuracy: 0.6098\n",
      "Epoch 40/40\n",
      "353/353 [==============================] - 2s 5ms/step - loss: 1.2528 - categorical_accuracy: 0.6212 - val_loss: 1.2760 - val_categorical_accuracy: 0.6091\n",
      "INFO:tensorflow:Assets written to: weights/goal_simple_cnn_a/assets\n"
     ]
    }
   ],
   "source": [
    "reload(models_goal)\n",
    "\n",
    "m = model_goal.ModelGoal()\n",
    "model_name = 'goal_simple_cnn_a'\n",
    "history = m.train(train_data, eval_data,\n",
    "    model=models_goal.simple_cnn(train_data),\n",
    "    batch_size=8192,\n",
    "    epochs=40,\n",
    "    learning_rate=1e-3,\n",
    "    #checkpoints_path=f'checkpoints/{model_name}'\n",
    ")\n",
    "m.save(model_name)\n",
    "m = None\n",
    "model_interface.save_history(model_name, history)"
   ]
  },
  {
   "cell_type": "code",
   "execution_count": 2,
   "metadata": {},
   "outputs": [
    {
     "name": "stdout",
     "output_type": "stream",
     "text": [
      "Model: \"model\"\n",
      "__________________________________________________________________________________________________\n",
      "Layer (type)                    Output Shape         Param #     Connected to                     \n",
      "==================================================================================================\n",
      "input_1 (InputLayer)            [(None, 50, 2)]      0                                            \n",
      "__________________________________________________________________________________________________\n",
      "conv1d (Conv1D)                 (None, 50, 32)       64          input_1[0][0]                    \n",
      "__________________________________________________________________________________________________\n",
      "max_pooling1d (MaxPooling1D)    (None, 50, 2)        0           input_1[0][0]                    \n",
      "__________________________________________________________________________________________________\n",
      "conv1d_1 (Conv1D)               (None, 50, 32)       40960       conv1d[0][0]                     \n",
      "__________________________________________________________________________________________________\n",
      "conv1d_2 (Conv1D)               (None, 50, 32)       20480       conv1d[0][0]                     \n",
      "__________________________________________________________________________________________________\n",
      "conv1d_3 (Conv1D)               (None, 50, 32)       10240       conv1d[0][0]                     \n",
      "__________________________________________________________________________________________________\n",
      "conv1d_4 (Conv1D)               (None, 50, 32)       64          max_pooling1d[0][0]              \n",
      "__________________________________________________________________________________________________\n",
      "concatenate (Concatenate)       (None, 50, 128)      0           conv1d_1[0][0]                   \n",
      "                                                                 conv1d_2[0][0]                   \n",
      "                                                                 conv1d_3[0][0]                   \n",
      "                                                                 conv1d_4[0][0]                   \n",
      "__________________________________________________________________________________________________\n",
      "batch_normalization (BatchNorma (None, 50, 128)      512         concatenate[0][0]                \n",
      "__________________________________________________________________________________________________\n",
      "activation (Activation)         (None, 50, 128)      0           batch_normalization[0][0]        \n",
      "__________________________________________________________________________________________________\n",
      "conv1d_5 (Conv1D)               (None, 50, 32)       4096        activation[0][0]                 \n",
      "__________________________________________________________________________________________________\n",
      "max_pooling1d_1 (MaxPooling1D)  (None, 50, 128)      0           activation[0][0]                 \n",
      "__________________________________________________________________________________________________\n",
      "conv1d_6 (Conv1D)               (None, 50, 32)       40960       conv1d_5[0][0]                   \n",
      "__________________________________________________________________________________________________\n",
      "conv1d_7 (Conv1D)               (None, 50, 32)       20480       conv1d_5[0][0]                   \n",
      "__________________________________________________________________________________________________\n",
      "conv1d_8 (Conv1D)               (None, 50, 32)       10240       conv1d_5[0][0]                   \n",
      "__________________________________________________________________________________________________\n",
      "conv1d_9 (Conv1D)               (None, 50, 32)       4096        max_pooling1d_1[0][0]            \n",
      "__________________________________________________________________________________________________\n",
      "concatenate_1 (Concatenate)     (None, 50, 128)      0           conv1d_6[0][0]                   \n",
      "                                                                 conv1d_7[0][0]                   \n",
      "                                                                 conv1d_8[0][0]                   \n",
      "                                                                 conv1d_9[0][0]                   \n",
      "__________________________________________________________________________________________________\n",
      "batch_normalization_1 (BatchNor (None, 50, 128)      512         concatenate_1[0][0]              \n",
      "__________________________________________________________________________________________________\n",
      "activation_1 (Activation)       (None, 50, 128)      0           batch_normalization_1[0][0]      \n",
      "__________________________________________________________________________________________________\n",
      "conv1d_10 (Conv1D)              (None, 50, 32)       4096        activation_1[0][0]               \n",
      "__________________________________________________________________________________________________\n",
      "max_pooling1d_2 (MaxPooling1D)  (None, 50, 128)      0           activation_1[0][0]               \n",
      "__________________________________________________________________________________________________\n",
      "conv1d_11 (Conv1D)              (None, 50, 32)       40960       conv1d_10[0][0]                  \n",
      "__________________________________________________________________________________________________\n",
      "conv1d_12 (Conv1D)              (None, 50, 32)       20480       conv1d_10[0][0]                  \n",
      "__________________________________________________________________________________________________\n",
      "conv1d_13 (Conv1D)              (None, 50, 32)       10240       conv1d_10[0][0]                  \n",
      "__________________________________________________________________________________________________\n",
      "conv1d_14 (Conv1D)              (None, 50, 32)       4096        max_pooling1d_2[0][0]            \n",
      "__________________________________________________________________________________________________\n",
      "concatenate_2 (Concatenate)     (None, 50, 128)      0           conv1d_11[0][0]                  \n",
      "                                                                 conv1d_12[0][0]                  \n",
      "                                                                 conv1d_13[0][0]                  \n",
      "                                                                 conv1d_14[0][0]                  \n",
      "__________________________________________________________________________________________________\n",
      "conv1d_15 (Conv1D)              (None, 50, 128)      256         input_1[0][0]                    \n",
      "__________________________________________________________________________________________________\n",
      "batch_normalization_2 (BatchNor (None, 50, 128)      512         concatenate_2[0][0]              \n",
      "__________________________________________________________________________________________________\n",
      "batch_normalization_3 (BatchNor (None, 50, 128)      512         conv1d_15[0][0]                  \n",
      "__________________________________________________________________________________________________\n",
      "activation_2 (Activation)       (None, 50, 128)      0           batch_normalization_2[0][0]      \n",
      "__________________________________________________________________________________________________\n",
      "add (Add)                       (None, 50, 128)      0           batch_normalization_3[0][0]      \n",
      "                                                                 activation_2[0][0]               \n",
      "__________________________________________________________________________________________________\n",
      "activation_3 (Activation)       (None, 50, 128)      0           add[0][0]                        \n",
      "__________________________________________________________________________________________________\n",
      "global_average_pooling1d (Globa (None, 128)          0           activation_3[0][0]               \n",
      "__________________________________________________________________________________________________\n",
      "dense (Dense)                   (None, 25)           3225        global_average_pooling1d[0][0]   \n",
      "==================================================================================================\n",
      "Total params: 237,081\n",
      "Trainable params: 236,057\n",
      "Non-trainable params: 1,024\n",
      "__________________________________________________________________________________________________\n",
      "Compiling new model\n",
      "Epoch 1/40\n",
      "353/353 [==============================] - 172s 480ms/step - loss: 1.4181 - categorical_accuracy: 0.5973 - val_loss: 2.2389 - val_categorical_accuracy: 0.3396\n",
      "INFO:tensorflow:Assets written to: checkpoints/goal_inception_e/assets\n",
      "Epoch 2/40\n"
     ]
    },
    {
     "name": "stderr",
     "output_type": "stream",
     "text": [
      "/home/deus/.local/lib/python3.8/site-packages/keras/utils/generic_utils.py:494: CustomMaskWarning: Custom mask layers require a config and must override get_config. When loading, the custom mask layer must be passed to the custom_objects argument.\n",
      "  warnings.warn('Custom mask layers require a config and must override '\n"
     ]
    },
    {
     "name": "stdout",
     "output_type": "stream",
     "text": [
      "353/353 [==============================] - 170s 481ms/step - loss: 1.1852 - categorical_accuracy: 0.6329 - val_loss: 1.2563 - val_categorical_accuracy: 0.6046\n",
      "INFO:tensorflow:Assets written to: checkpoints/goal_inception_e/assets\n",
      "Epoch 3/40\n"
     ]
    },
    {
     "name": "stderr",
     "output_type": "stream",
     "text": [
      "/home/deus/.local/lib/python3.8/site-packages/keras/utils/generic_utils.py:494: CustomMaskWarning: Custom mask layers require a config and must override get_config. When loading, the custom mask layer must be passed to the custom_objects argument.\n",
      "  warnings.warn('Custom mask layers require a config and must override '\n"
     ]
    },
    {
     "name": "stdout",
     "output_type": "stream",
     "text": [
      "353/353 [==============================] - 170s 481ms/step - loss: 1.1631 - categorical_accuracy: 0.6367 - val_loss: 1.1920 - val_categorical_accuracy: 0.6252\n",
      "INFO:tensorflow:Assets written to: checkpoints/goal_inception_e/assets\n",
      "Epoch 4/40\n"
     ]
    },
    {
     "name": "stderr",
     "output_type": "stream",
     "text": [
      "/home/deus/.local/lib/python3.8/site-packages/keras/utils/generic_utils.py:494: CustomMaskWarning: Custom mask layers require a config and must override get_config. When loading, the custom mask layer must be passed to the custom_objects argument.\n",
      "  warnings.warn('Custom mask layers require a config and must override '\n"
     ]
    },
    {
     "name": "stdout",
     "output_type": "stream",
     "text": [
      "353/353 [==============================] - 170s 483ms/step - loss: 1.1504 - categorical_accuracy: 0.6391 - val_loss: 1.1754 - val_categorical_accuracy: 0.6282\n",
      "INFO:tensorflow:Assets written to: checkpoints/goal_inception_e/assets\n",
      "Epoch 5/40\n"
     ]
    },
    {
     "name": "stderr",
     "output_type": "stream",
     "text": [
      "/home/deus/.local/lib/python3.8/site-packages/keras/utils/generic_utils.py:494: CustomMaskWarning: Custom mask layers require a config and must override get_config. When loading, the custom mask layer must be passed to the custom_objects argument.\n",
      "  warnings.warn('Custom mask layers require a config and must override '\n"
     ]
    },
    {
     "name": "stdout",
     "output_type": "stream",
     "text": [
      "353/353 [==============================] - 170s 481ms/step - loss: 1.1429 - categorical_accuracy: 0.6405 - val_loss: 1.1689 - val_categorical_accuracy: 0.6289\n",
      "INFO:tensorflow:Assets written to: checkpoints/goal_inception_e/assets\n",
      "Epoch 6/40\n"
     ]
    },
    {
     "name": "stderr",
     "output_type": "stream",
     "text": [
      "/home/deus/.local/lib/python3.8/site-packages/keras/utils/generic_utils.py:494: CustomMaskWarning: Custom mask layers require a config and must override get_config. When loading, the custom mask layer must be passed to the custom_objects argument.\n",
      "  warnings.warn('Custom mask layers require a config and must override '\n"
     ]
    },
    {
     "name": "stdout",
     "output_type": "stream",
     "text": [
      "353/353 [==============================] - 170s 482ms/step - loss: 1.1374 - categorical_accuracy: 0.6414 - val_loss: 1.1648 - val_categorical_accuracy: 0.6298\n",
      "INFO:tensorflow:Assets written to: checkpoints/goal_inception_e/assets\n",
      "Epoch 7/40\n"
     ]
    },
    {
     "name": "stderr",
     "output_type": "stream",
     "text": [
      "/home/deus/.local/lib/python3.8/site-packages/keras/utils/generic_utils.py:494: CustomMaskWarning: Custom mask layers require a config and must override get_config. When loading, the custom mask layer must be passed to the custom_objects argument.\n",
      "  warnings.warn('Custom mask layers require a config and must override '\n"
     ]
    },
    {
     "name": "stdout",
     "output_type": "stream",
     "text": [
      "353/353 [==============================] - 169s 480ms/step - loss: 1.1339 - categorical_accuracy: 0.6418 - val_loss: 1.1606 - val_categorical_accuracy: 0.6299\n",
      "INFO:tensorflow:Assets written to: checkpoints/goal_inception_e/assets\n",
      "Epoch 8/40\n"
     ]
    },
    {
     "name": "stderr",
     "output_type": "stream",
     "text": [
      "/home/deus/.local/lib/python3.8/site-packages/keras/utils/generic_utils.py:494: CustomMaskWarning: Custom mask layers require a config and must override get_config. When loading, the custom mask layer must be passed to the custom_objects argument.\n",
      "  warnings.warn('Custom mask layers require a config and must override '\n"
     ]
    },
    {
     "name": "stdout",
     "output_type": "stream",
     "text": [
      "353/353 [==============================] - 170s 483ms/step - loss: 1.1315 - categorical_accuracy: 0.6420 - val_loss: 1.1546 - val_categorical_accuracy: 0.6321\n",
      "INFO:tensorflow:Assets written to: checkpoints/goal_inception_e/assets\n",
      "Epoch 9/40\n"
     ]
    },
    {
     "name": "stderr",
     "output_type": "stream",
     "text": [
      "/home/deus/.local/lib/python3.8/site-packages/keras/utils/generic_utils.py:494: CustomMaskWarning: Custom mask layers require a config and must override get_config. When loading, the custom mask layer must be passed to the custom_objects argument.\n",
      "  warnings.warn('Custom mask layers require a config and must override '\n"
     ]
    },
    {
     "name": "stdout",
     "output_type": "stream",
     "text": [
      "353/353 [==============================] - 169s 480ms/step - loss: 1.1294 - categorical_accuracy: 0.6424 - val_loss: 1.1561 - val_categorical_accuracy: 0.6309\n",
      "Epoch 10/40\n",
      "353/353 [==============================] - 170s 481ms/step - loss: 1.1276 - categorical_accuracy: 0.6428 - val_loss: 1.1557 - val_categorical_accuracy: 0.6306\n",
      "Epoch 11/40\n",
      "353/353 [==============================] - 170s 480ms/step - loss: 1.1263 - categorical_accuracy: 0.6429 - val_loss: 1.1520 - val_categorical_accuracy: 0.6319\n",
      "Epoch 12/40\n",
      "353/353 [==============================] - 170s 481ms/step - loss: 1.1249 - categorical_accuracy: 0.6432 - val_loss: 1.1516 - val_categorical_accuracy: 0.6315\n",
      "Epoch 13/40\n",
      "353/353 [==============================] - 168s 476ms/step - loss: 1.1235 - categorical_accuracy: 0.6435 - val_loss: 1.1485 - val_categorical_accuracy: 0.6329\n",
      "INFO:tensorflow:Assets written to: checkpoints/goal_inception_e/assets\n",
      "Epoch 14/40\n"
     ]
    },
    {
     "name": "stderr",
     "output_type": "stream",
     "text": [
      "/home/deus/.local/lib/python3.8/site-packages/keras/utils/generic_utils.py:494: CustomMaskWarning: Custom mask layers require a config and must override get_config. When loading, the custom mask layer must be passed to the custom_objects argument.\n",
      "  warnings.warn('Custom mask layers require a config and must override '\n"
     ]
    },
    {
     "name": "stdout",
     "output_type": "stream",
     "text": [
      "353/353 [==============================] - 161s 456ms/step - loss: 1.1225 - categorical_accuracy: 0.6437 - val_loss: 1.1481 - val_categorical_accuracy: 0.6326\n",
      "Epoch 15/40\n",
      "353/353 [==============================] - 161s 456ms/step - loss: 1.1215 - categorical_accuracy: 0.6438 - val_loss: 1.1531 - val_categorical_accuracy: 0.6312\n",
      "Epoch 16/40\n",
      "353/353 [==============================] - 161s 456ms/step - loss: 1.1208 - categorical_accuracy: 0.6440 - val_loss: 1.1456 - val_categorical_accuracy: 0.6330\n",
      "INFO:tensorflow:Assets written to: checkpoints/goal_inception_e/assets\n",
      "Epoch 17/40\n"
     ]
    },
    {
     "name": "stderr",
     "output_type": "stream",
     "text": [
      "/home/deus/.local/lib/python3.8/site-packages/keras/utils/generic_utils.py:494: CustomMaskWarning: Custom mask layers require a config and must override get_config. When loading, the custom mask layer must be passed to the custom_objects argument.\n",
      "  warnings.warn('Custom mask layers require a config and must override '\n"
     ]
    },
    {
     "name": "stdout",
     "output_type": "stream",
     "text": [
      "353/353 [==============================] - 161s 456ms/step - loss: 1.1204 - categorical_accuracy: 0.6440 - val_loss: 1.1475 - val_categorical_accuracy: 0.6322\n",
      "Epoch 18/40\n",
      "353/353 [==============================] - 161s 456ms/step - loss: 1.1192 - categorical_accuracy: 0.6442 - val_loss: 1.1470 - val_categorical_accuracy: 0.6335\n",
      "INFO:tensorflow:Assets written to: checkpoints/goal_inception_e/assets\n",
      "Epoch 19/40\n"
     ]
    },
    {
     "name": "stderr",
     "output_type": "stream",
     "text": [
      "/home/deus/.local/lib/python3.8/site-packages/keras/utils/generic_utils.py:494: CustomMaskWarning: Custom mask layers require a config and must override get_config. When loading, the custom mask layer must be passed to the custom_objects argument.\n",
      "  warnings.warn('Custom mask layers require a config and must override '\n"
     ]
    },
    {
     "name": "stdout",
     "output_type": "stream",
     "text": [
      "353/353 [==============================] - 161s 456ms/step - loss: 1.1184 - categorical_accuracy: 0.6445 - val_loss: 1.1436 - val_categorical_accuracy: 0.6332\n",
      "Epoch 20/40\n",
      "353/353 [==============================] - 161s 456ms/step - loss: 1.1178 - categorical_accuracy: 0.6446 - val_loss: 1.1444 - val_categorical_accuracy: 0.6332\n",
      "Epoch 21/40\n",
      "353/353 [==============================] - 161s 457ms/step - loss: 1.1173 - categorical_accuracy: 0.6447 - val_loss: 1.1441 - val_categorical_accuracy: 0.6337\n",
      "INFO:tensorflow:Assets written to: checkpoints/goal_inception_e/assets\n",
      "Epoch 22/40\n"
     ]
    },
    {
     "name": "stderr",
     "output_type": "stream",
     "text": [
      "/home/deus/.local/lib/python3.8/site-packages/keras/utils/generic_utils.py:494: CustomMaskWarning: Custom mask layers require a config and must override get_config. When loading, the custom mask layer must be passed to the custom_objects argument.\n",
      "  warnings.warn('Custom mask layers require a config and must override '\n"
     ]
    },
    {
     "name": "stdout",
     "output_type": "stream",
     "text": [
      "353/353 [==============================] - 162s 458ms/step - loss: 1.1167 - categorical_accuracy: 0.6449 - val_loss: 1.1415 - val_categorical_accuracy: 0.6342\n",
      "INFO:tensorflow:Assets written to: checkpoints/goal_inception_e/assets\n",
      "Epoch 23/40\n"
     ]
    },
    {
     "name": "stderr",
     "output_type": "stream",
     "text": [
      "/home/deus/.local/lib/python3.8/site-packages/keras/utils/generic_utils.py:494: CustomMaskWarning: Custom mask layers require a config and must override get_config. When loading, the custom mask layer must be passed to the custom_objects argument.\n",
      "  warnings.warn('Custom mask layers require a config and must override '\n"
     ]
    },
    {
     "name": "stdout",
     "output_type": "stream",
     "text": [
      "353/353 [==============================] - 163s 463ms/step - loss: 1.1160 - categorical_accuracy: 0.6450 - val_loss: 1.1422 - val_categorical_accuracy: 0.6334\n",
      "Epoch 24/40\n",
      "353/353 [==============================] - 161s 455ms/step - loss: 1.1155 - categorical_accuracy: 0.6450 - val_loss: 1.1426 - val_categorical_accuracy: 0.6339\n",
      "Epoch 25/40\n",
      "353/353 [==============================] - 161s 456ms/step - loss: 1.1150 - categorical_accuracy: 0.6453 - val_loss: 1.1400 - val_categorical_accuracy: 0.6344\n",
      "INFO:tensorflow:Assets written to: checkpoints/goal_inception_e/assets\n",
      "Epoch 26/40\n"
     ]
    },
    {
     "name": "stderr",
     "output_type": "stream",
     "text": [
      "/home/deus/.local/lib/python3.8/site-packages/keras/utils/generic_utils.py:494: CustomMaskWarning: Custom mask layers require a config and must override get_config. When loading, the custom mask layer must be passed to the custom_objects argument.\n",
      "  warnings.warn('Custom mask layers require a config and must override '\n"
     ]
    },
    {
     "name": "stdout",
     "output_type": "stream",
     "text": [
      "353/353 [==============================] - 163s 462ms/step - loss: 1.1144 - categorical_accuracy: 0.6453 - val_loss: 1.1407 - val_categorical_accuracy: 0.6337\n",
      "Epoch 27/40\n",
      "353/353 [==============================] - 161s 455ms/step - loss: 1.1140 - categorical_accuracy: 0.6455 - val_loss: 1.1402 - val_categorical_accuracy: 0.6347\n",
      "INFO:tensorflow:Assets written to: checkpoints/goal_inception_e/assets\n",
      "Epoch 28/40\n"
     ]
    },
    {
     "name": "stderr",
     "output_type": "stream",
     "text": [
      "/home/deus/.local/lib/python3.8/site-packages/keras/utils/generic_utils.py:494: CustomMaskWarning: Custom mask layers require a config and must override get_config. When loading, the custom mask layer must be passed to the custom_objects argument.\n",
      "  warnings.warn('Custom mask layers require a config and must override '\n"
     ]
    },
    {
     "name": "stdout",
     "output_type": "stream",
     "text": [
      "353/353 [==============================] - 161s 456ms/step - loss: 1.1133 - categorical_accuracy: 0.6457 - val_loss: 1.1433 - val_categorical_accuracy: 0.6329\n",
      "Epoch 29/40\n",
      "353/353 [==============================] - 166s 471ms/step - loss: 1.1131 - categorical_accuracy: 0.6456 - val_loss: 1.1393 - val_categorical_accuracy: 0.6344\n",
      "Epoch 30/40\n",
      "353/353 [==============================] - 167s 474ms/step - loss: 1.1126 - categorical_accuracy: 0.6457 - val_loss: 1.1399 - val_categorical_accuracy: 0.6341\n",
      "Epoch 31/40\n",
      "353/353 [==============================] - 167s 474ms/step - loss: 1.1121 - categorical_accuracy: 0.6459 - val_loss: 1.1398 - val_categorical_accuracy: 0.6334\n",
      "Epoch 32/40\n",
      "353/353 [==============================] - 168s 477ms/step - loss: 1.1116 - categorical_accuracy: 0.6458 - val_loss: 1.1404 - val_categorical_accuracy: 0.6337\n",
      "Epoch 33/40\n",
      "353/353 [==============================] - 168s 476ms/step - loss: 1.1110 - categorical_accuracy: 0.6461 - val_loss: 1.1380 - val_categorical_accuracy: 0.6347\n",
      "INFO:tensorflow:Assets written to: checkpoints/goal_inception_e/assets\n",
      "Epoch 34/40\n"
     ]
    },
    {
     "name": "stderr",
     "output_type": "stream",
     "text": [
      "/home/deus/.local/lib/python3.8/site-packages/keras/utils/generic_utils.py:494: CustomMaskWarning: Custom mask layers require a config and must override get_config. When loading, the custom mask layer must be passed to the custom_objects argument.\n",
      "  warnings.warn('Custom mask layers require a config and must override '\n"
     ]
    },
    {
     "name": "stdout",
     "output_type": "stream",
     "text": [
      "353/353 [==============================] - 163s 462ms/step - loss: 1.1107 - categorical_accuracy: 0.6460 - val_loss: 1.1410 - val_categorical_accuracy: 0.6345\n",
      "Epoch 35/40\n",
      "353/353 [==============================] - 163s 461ms/step - loss: 1.1104 - categorical_accuracy: 0.6462 - val_loss: 1.1407 - val_categorical_accuracy: 0.6333\n",
      "Epoch 36/40\n",
      "353/353 [==============================] - 161s 456ms/step - loss: 1.1099 - categorical_accuracy: 0.6464 - val_loss: 1.1384 - val_categorical_accuracy: 0.6341\n",
      "Epoch 37/40\n",
      "353/353 [==============================] - 161s 456ms/step - loss: 1.1097 - categorical_accuracy: 0.6464 - val_loss: 1.1372 - val_categorical_accuracy: 0.6350\n",
      "INFO:tensorflow:Assets written to: checkpoints/goal_inception_e/assets\n",
      "Epoch 38/40\n"
     ]
    },
    {
     "name": "stderr",
     "output_type": "stream",
     "text": [
      "/home/deus/.local/lib/python3.8/site-packages/keras/utils/generic_utils.py:494: CustomMaskWarning: Custom mask layers require a config and must override get_config. When loading, the custom mask layer must be passed to the custom_objects argument.\n",
      "  warnings.warn('Custom mask layers require a config and must override '\n"
     ]
    },
    {
     "name": "stdout",
     "output_type": "stream",
     "text": [
      "353/353 [==============================] - 161s 456ms/step - loss: 1.1093 - categorical_accuracy: 0.6464 - val_loss: 1.1364 - val_categorical_accuracy: 0.6348\n",
      "Epoch 39/40\n",
      "353/353 [==============================] - 161s 456ms/step - loss: 1.1088 - categorical_accuracy: 0.6466 - val_loss: 1.1349 - val_categorical_accuracy: 0.6353\n",
      "INFO:tensorflow:Assets written to: checkpoints/goal_inception_e/assets\n",
      "Epoch 40/40\n"
     ]
    },
    {
     "name": "stderr",
     "output_type": "stream",
     "text": [
      "/home/deus/.local/lib/python3.8/site-packages/keras/utils/generic_utils.py:494: CustomMaskWarning: Custom mask layers require a config and must override get_config. When loading, the custom mask layer must be passed to the custom_objects argument.\n",
      "  warnings.warn('Custom mask layers require a config and must override '\n"
     ]
    },
    {
     "name": "stdout",
     "output_type": "stream",
     "text": [
      "353/353 [==============================] - 161s 456ms/step - loss: 1.1083 - categorical_accuracy: 0.6468 - val_loss: 1.1367 - val_categorical_accuracy: 0.6350\n",
      "INFO:tensorflow:Assets written to: weights/goal_inception_e/assets\n"
     ]
    },
    {
     "name": "stderr",
     "output_type": "stream",
     "text": [
      "/home/deus/.local/lib/python3.8/site-packages/keras/utils/generic_utils.py:494: CustomMaskWarning: Custom mask layers require a config and must override get_config. When loading, the custom mask layer must be passed to the custom_objects argument.\n",
      "  warnings.warn('Custom mask layers require a config and must override '\n"
     ]
    }
   ],
   "source": [
    "reload(inception)\n",
    "\n",
    "m = model_goal.ModelGoal()\n",
    "model_name = 'goal_inception_e'\n",
    "\n",
    "model = inception.InceptionTime(\n",
    "    depth=3,\n",
    "    # nb_filters=64,\n",
    "    # kernel_size=81,\n",
    "    use_residual=True,\n",
    ").build(\n",
    "    input_shape=input_shape,\n",
    "    number_output_classes=config.GOAL_GRID_SIZE**2\n",
    ")\n",
    "\n",
    "history = m.train(train_data, eval_data,\n",
    "    model=model,\n",
    "    # batch_size=256,\n",
    "    batch_size=8192,\n",
    "    epochs=40,\n",
    "    learning_rate=1e-4,\n",
    "    checkpoints_path=f'checkpoints/{model_name}'\n",
    ")\n",
    "m.save(model_name)\n",
    "m = None\n",
    "model = None\n",
    "model_interface.save_history(model_name, history)"
   ]
  },
  {
   "cell_type": "code",
   "execution_count": 2,
   "metadata": {},
   "outputs": [
    {
     "name": "stdout",
     "output_type": "stream",
     "text": [
      "Compiling new model\n",
      "Epoch 1/40\n",
      "\n",
      "Epoch 00001: LearningRateScheduler setting learning rate to 0.001.\n",
      "11295/11295 [==============================] - 123s 11ms/step - loss: 1.5190 - categorical_accuracy: 0.5437 - val_loss: 1.5270 - val_categorical_accuracy: 0.5420\n"
     ]
    },
    {
     "name": "stderr",
     "output_type": "stream",
     "text": [
      "WARNING:absl:Found untraced functions such as query_layer_call_fn, query_layer_call_and_return_conditional_losses, key_layer_call_fn, key_layer_call_and_return_conditional_losses, value_layer_call_fn while saving (showing 5 of 30). These functions will not be directly callable after loading.\n"
     ]
    },
    {
     "name": "stdout",
     "output_type": "stream",
     "text": [
      "INFO:tensorflow:Assets written to: checkpoints/goal_transformer_b/assets\n"
     ]
    },
    {
     "name": "stderr",
     "output_type": "stream",
     "text": [
      "INFO:tensorflow:Assets written to: checkpoints/goal_transformer_b/assets\n"
     ]
    },
    {
     "name": "stdout",
     "output_type": "stream",
     "text": [
      "Epoch 2/40\n",
      "\n",
      "Epoch 00002: LearningRateScheduler setting learning rate to 0.001.\n",
      "11295/11295 [==============================] - 120s 11ms/step - loss: 1.3550 - categorical_accuracy: 0.5856 - val_loss: 1.5180 - val_categorical_accuracy: 0.5437\n"
     ]
    },
    {
     "name": "stderr",
     "output_type": "stream",
     "text": [
      "WARNING:absl:Found untraced functions such as query_layer_call_fn, query_layer_call_and_return_conditional_losses, key_layer_call_fn, key_layer_call_and_return_conditional_losses, value_layer_call_fn while saving (showing 5 of 30). These functions will not be directly callable after loading.\n"
     ]
    },
    {
     "name": "stdout",
     "output_type": "stream",
     "text": [
      "INFO:tensorflow:Assets written to: checkpoints/goal_transformer_b/assets\n"
     ]
    },
    {
     "name": "stderr",
     "output_type": "stream",
     "text": [
      "INFO:tensorflow:Assets written to: checkpoints/goal_transformer_b/assets\n"
     ]
    },
    {
     "name": "stdout",
     "output_type": "stream",
     "text": [
      "Epoch 3/40\n",
      "\n",
      "Epoch 00003: LearningRateScheduler setting learning rate to 0.001.\n",
      "11295/11295 [==============================] - 121s 11ms/step - loss: 1.3447 - categorical_accuracy: 0.5881 - val_loss: 1.5176 - val_categorical_accuracy: 0.5494\n"
     ]
    },
    {
     "name": "stderr",
     "output_type": "stream",
     "text": [
      "WARNING:absl:Found untraced functions such as query_layer_call_fn, query_layer_call_and_return_conditional_losses, key_layer_call_fn, key_layer_call_and_return_conditional_losses, value_layer_call_fn while saving (showing 5 of 30). These functions will not be directly callable after loading.\n"
     ]
    },
    {
     "name": "stdout",
     "output_type": "stream",
     "text": [
      "INFO:tensorflow:Assets written to: checkpoints/goal_transformer_b/assets\n"
     ]
    },
    {
     "name": "stderr",
     "output_type": "stream",
     "text": [
      "INFO:tensorflow:Assets written to: checkpoints/goal_transformer_b/assets\n"
     ]
    },
    {
     "name": "stdout",
     "output_type": "stream",
     "text": [
      "Epoch 4/40\n",
      "\n",
      "Epoch 00004: LearningRateScheduler setting learning rate to 0.001.\n",
      "11295/11295 [==============================] - 121s 11ms/step - loss: 1.3407 - categorical_accuracy: 0.5888 - val_loss: 1.5226 - val_categorical_accuracy: 0.5468\n",
      "Epoch 5/40\n",
      "\n",
      "Epoch 00005: LearningRateScheduler setting learning rate to 0.001.\n",
      "11295/11295 [==============================] - 122s 11ms/step - loss: 1.3374 - categorical_accuracy: 0.5896 - val_loss: 1.5216 - val_categorical_accuracy: 0.5423\n",
      "Epoch 6/40\n",
      "\n",
      "Epoch 00006: LearningRateScheduler setting learning rate to 0.001.\n",
      "11295/11295 [==============================] - 123s 11ms/step - loss: 1.3365 - categorical_accuracy: 0.5897 - val_loss: 1.5114 - val_categorical_accuracy: 0.5549\n"
     ]
    },
    {
     "name": "stderr",
     "output_type": "stream",
     "text": [
      "WARNING:absl:Found untraced functions such as query_layer_call_fn, query_layer_call_and_return_conditional_losses, key_layer_call_fn, key_layer_call_and_return_conditional_losses, value_layer_call_fn while saving (showing 5 of 30). These functions will not be directly callable after loading.\n"
     ]
    },
    {
     "name": "stdout",
     "output_type": "stream",
     "text": [
      "INFO:tensorflow:Assets written to: checkpoints/goal_transformer_b/assets\n"
     ]
    },
    {
     "name": "stderr",
     "output_type": "stream",
     "text": [
      "INFO:tensorflow:Assets written to: checkpoints/goal_transformer_b/assets\n"
     ]
    },
    {
     "name": "stdout",
     "output_type": "stream",
     "text": [
      "Epoch 7/40\n",
      "\n",
      "Epoch 00007: LearningRateScheduler setting learning rate to 0.001.\n",
      "11295/11295 [==============================] - 123s 11ms/step - loss: 1.3347 - categorical_accuracy: 0.5907 - val_loss: 1.5244 - val_categorical_accuracy: 0.5440\n",
      "Epoch 8/40\n",
      "\n",
      "Epoch 00008: LearningRateScheduler setting learning rate to 0.001.\n",
      "11295/11295 [==============================] - 121s 11ms/step - loss: 1.3336 - categorical_accuracy: 0.5906 - val_loss: 1.4919 - val_categorical_accuracy: 0.5537\n",
      "Epoch 9/40\n",
      "\n",
      "Epoch 00009: LearningRateScheduler setting learning rate to 0.001.\n",
      "11295/11295 [==============================] - 121s 11ms/step - loss: 1.3325 - categorical_accuracy: 0.5909 - val_loss: 1.5078 - val_categorical_accuracy: 0.5511\n",
      "Epoch 10/40\n",
      "\n",
      "Epoch 00010: LearningRateScheduler setting learning rate to 0.001.\n",
      "11295/11295 [==============================] - 121s 11ms/step - loss: 1.3324 - categorical_accuracy: 0.5913 - val_loss: 1.5063 - val_categorical_accuracy: 0.5513\n",
      "Epoch 11/40\n",
      "\n",
      "Epoch 00011: LearningRateScheduler setting learning rate to 0.001.\n",
      "11295/11295 [==============================] - 121s 11ms/step - loss: 1.3319 - categorical_accuracy: 0.5915 - val_loss: 1.4855 - val_categorical_accuracy: 0.5572\n"
     ]
    },
    {
     "name": "stderr",
     "output_type": "stream",
     "text": [
      "WARNING:absl:Found untraced functions such as query_layer_call_fn, query_layer_call_and_return_conditional_losses, key_layer_call_fn, key_layer_call_and_return_conditional_losses, value_layer_call_fn while saving (showing 5 of 30). These functions will not be directly callable after loading.\n"
     ]
    },
    {
     "name": "stdout",
     "output_type": "stream",
     "text": [
      "INFO:tensorflow:Assets written to: checkpoints/goal_transformer_b/assets\n"
     ]
    },
    {
     "name": "stderr",
     "output_type": "stream",
     "text": [
      "INFO:tensorflow:Assets written to: checkpoints/goal_transformer_b/assets\n"
     ]
    },
    {
     "name": "stdout",
     "output_type": "stream",
     "text": [
      "Epoch 12/40\n",
      "\n",
      "Epoch 00012: LearningRateScheduler setting learning rate to 0.001.\n",
      "11295/11295 [==============================] - 121s 11ms/step - loss: 1.3318 - categorical_accuracy: 0.5915 - val_loss: 1.4983 - val_categorical_accuracy: 0.5551\n",
      "Epoch 13/40\n",
      "\n",
      "Epoch 00013: LearningRateScheduler setting learning rate to 0.001.\n",
      "11295/11295 [==============================] - 121s 11ms/step - loss: 1.3315 - categorical_accuracy: 0.5918 - val_loss: 1.4948 - val_categorical_accuracy: 0.5559\n",
      "Epoch 14/40\n",
      "\n",
      "Epoch 00014: LearningRateScheduler setting learning rate to 0.001.\n",
      "11295/11295 [==============================] - 120s 11ms/step - loss: 1.3306 - categorical_accuracy: 0.5918 - val_loss: 1.4809 - val_categorical_accuracy: 0.5581\n"
     ]
    },
    {
     "name": "stderr",
     "output_type": "stream",
     "text": [
      "WARNING:absl:Found untraced functions such as query_layer_call_fn, query_layer_call_and_return_conditional_losses, key_layer_call_fn, key_layer_call_and_return_conditional_losses, value_layer_call_fn while saving (showing 5 of 30). These functions will not be directly callable after loading.\n"
     ]
    },
    {
     "name": "stdout",
     "output_type": "stream",
     "text": [
      "INFO:tensorflow:Assets written to: checkpoints/goal_transformer_b/assets\n"
     ]
    },
    {
     "name": "stderr",
     "output_type": "stream",
     "text": [
      "INFO:tensorflow:Assets written to: checkpoints/goal_transformer_b/assets\n"
     ]
    },
    {
     "name": "stdout",
     "output_type": "stream",
     "text": [
      "Epoch 15/40\n",
      "\n",
      "Epoch 00015: LearningRateScheduler setting learning rate to 0.001.\n",
      "11295/11295 [==============================] - 119s 11ms/step - loss: 1.3306 - categorical_accuracy: 0.5921 - val_loss: 1.4834 - val_categorical_accuracy: 0.5566\n",
      "Epoch 16/40\n",
      "\n",
      "Epoch 00016: LearningRateScheduler setting learning rate to 0.001.\n",
      "11295/11295 [==============================] - 119s 11ms/step - loss: 1.3300 - categorical_accuracy: 0.5922 - val_loss: 1.5024 - val_categorical_accuracy: 0.5522\n",
      "Epoch 17/40\n",
      "\n",
      "Epoch 00017: LearningRateScheduler setting learning rate to 0.0001.\n",
      "11295/11295 [==============================] - 119s 11ms/step - loss: 1.3162 - categorical_accuracy: 0.5966 - val_loss: 1.4864 - val_categorical_accuracy: 0.5601\n"
     ]
    },
    {
     "name": "stderr",
     "output_type": "stream",
     "text": [
      "WARNING:absl:Found untraced functions such as query_layer_call_fn, query_layer_call_and_return_conditional_losses, key_layer_call_fn, key_layer_call_and_return_conditional_losses, value_layer_call_fn while saving (showing 5 of 30). These functions will not be directly callable after loading.\n"
     ]
    },
    {
     "name": "stdout",
     "output_type": "stream",
     "text": [
      "INFO:tensorflow:Assets written to: checkpoints/goal_transformer_b/assets\n"
     ]
    },
    {
     "name": "stderr",
     "output_type": "stream",
     "text": [
      "INFO:tensorflow:Assets written to: checkpoints/goal_transformer_b/assets\n"
     ]
    },
    {
     "name": "stdout",
     "output_type": "stream",
     "text": [
      "Epoch 18/40\n",
      "\n",
      "Epoch 00018: LearningRateScheduler setting learning rate to 0.0001.\n",
      "11295/11295 [==============================] - 123s 11ms/step - loss: 1.3128 - categorical_accuracy: 0.5976 - val_loss: 1.4837 - val_categorical_accuracy: 0.5591\n",
      "Epoch 19/40\n",
      "\n",
      "Epoch 00019: LearningRateScheduler setting learning rate to 0.0001.\n",
      "11295/11295 [==============================] - 124s 11ms/step - loss: 1.3113 - categorical_accuracy: 0.5981 - val_loss: 1.4826 - val_categorical_accuracy: 0.5603\n"
     ]
    },
    {
     "name": "stderr",
     "output_type": "stream",
     "text": [
      "WARNING:absl:Found untraced functions such as query_layer_call_fn, query_layer_call_and_return_conditional_losses, key_layer_call_fn, key_layer_call_and_return_conditional_losses, value_layer_call_fn while saving (showing 5 of 30). These functions will not be directly callable after loading.\n"
     ]
    },
    {
     "name": "stdout",
     "output_type": "stream",
     "text": [
      "INFO:tensorflow:Assets written to: checkpoints/goal_transformer_b/assets\n"
     ]
    },
    {
     "name": "stderr",
     "output_type": "stream",
     "text": [
      "INFO:tensorflow:Assets written to: checkpoints/goal_transformer_b/assets\n"
     ]
    },
    {
     "name": "stdout",
     "output_type": "stream",
     "text": [
      "Epoch 20/40\n",
      "\n",
      "Epoch 00020: LearningRateScheduler setting learning rate to 0.0001.\n",
      "11295/11295 [==============================] - 122s 11ms/step - loss: 1.3103 - categorical_accuracy: 0.5980 - val_loss: 1.4821 - val_categorical_accuracy: 0.5605\n"
     ]
    },
    {
     "name": "stderr",
     "output_type": "stream",
     "text": [
      "WARNING:absl:Found untraced functions such as query_layer_call_fn, query_layer_call_and_return_conditional_losses, key_layer_call_fn, key_layer_call_and_return_conditional_losses, value_layer_call_fn while saving (showing 5 of 30). These functions will not be directly callable after loading.\n"
     ]
    },
    {
     "name": "stdout",
     "output_type": "stream",
     "text": [
      "INFO:tensorflow:Assets written to: checkpoints/goal_transformer_b/assets\n"
     ]
    },
    {
     "name": "stderr",
     "output_type": "stream",
     "text": [
      "INFO:tensorflow:Assets written to: checkpoints/goal_transformer_b/assets\n"
     ]
    },
    {
     "name": "stdout",
     "output_type": "stream",
     "text": [
      "Epoch 21/40\n",
      "\n",
      "Epoch 00021: LearningRateScheduler setting learning rate to 0.0001.\n",
      "11295/11295 [==============================] - 121s 11ms/step - loss: 1.3099 - categorical_accuracy: 0.5984 - val_loss: 1.4853 - val_categorical_accuracy: 0.5602\n",
      "Epoch 22/40\n",
      "\n",
      "Epoch 00022: LearningRateScheduler setting learning rate to 0.0001.\n",
      "11295/11295 [==============================] - 118s 10ms/step - loss: 1.3094 - categorical_accuracy: 0.5988 - val_loss: 1.4775 - val_categorical_accuracy: 0.5617\n"
     ]
    },
    {
     "name": "stderr",
     "output_type": "stream",
     "text": [
      "WARNING:absl:Found untraced functions such as query_layer_call_fn, query_layer_call_and_return_conditional_losses, key_layer_call_fn, key_layer_call_and_return_conditional_losses, value_layer_call_fn while saving (showing 5 of 30). These functions will not be directly callable after loading.\n"
     ]
    },
    {
     "name": "stdout",
     "output_type": "stream",
     "text": [
      "INFO:tensorflow:Assets written to: checkpoints/goal_transformer_b/assets\n"
     ]
    },
    {
     "name": "stderr",
     "output_type": "stream",
     "text": [
      "INFO:tensorflow:Assets written to: checkpoints/goal_transformer_b/assets\n"
     ]
    },
    {
     "name": "stdout",
     "output_type": "stream",
     "text": [
      "Epoch 23/40\n",
      "\n",
      "Epoch 00023: LearningRateScheduler setting learning rate to 0.0001.\n",
      "11295/11295 [==============================] - 118s 10ms/step - loss: 1.3088 - categorical_accuracy: 0.5988 - val_loss: 1.4802 - val_categorical_accuracy: 0.5616\n",
      "Epoch 24/40\n",
      "\n",
      "Epoch 00024: LearningRateScheduler setting learning rate to 0.0001.\n",
      "11295/11295 [==============================] - 118s 10ms/step - loss: 1.3089 - categorical_accuracy: 0.5989 - val_loss: 1.4806 - val_categorical_accuracy: 0.5611\n",
      "Epoch 25/40\n",
      "\n",
      "Epoch 00025: LearningRateScheduler setting learning rate to 0.0001.\n",
      "11295/11295 [==============================] - 119s 11ms/step - loss: 1.3091 - categorical_accuracy: 0.5988 - val_loss: 1.4762 - val_categorical_accuracy: 0.5624\n"
     ]
    },
    {
     "name": "stderr",
     "output_type": "stream",
     "text": [
      "WARNING:absl:Found untraced functions such as query_layer_call_fn, query_layer_call_and_return_conditional_losses, key_layer_call_fn, key_layer_call_and_return_conditional_losses, value_layer_call_fn while saving (showing 5 of 30). These functions will not be directly callable after loading.\n"
     ]
    },
    {
     "name": "stdout",
     "output_type": "stream",
     "text": [
      "INFO:tensorflow:Assets written to: checkpoints/goal_transformer_b/assets\n"
     ]
    },
    {
     "name": "stderr",
     "output_type": "stream",
     "text": [
      "INFO:tensorflow:Assets written to: checkpoints/goal_transformer_b/assets\n"
     ]
    },
    {
     "name": "stdout",
     "output_type": "stream",
     "text": [
      "Epoch 26/40\n",
      "\n",
      "Epoch 00026: LearningRateScheduler setting learning rate to 0.0001.\n",
      "11295/11295 [==============================] - 119s 11ms/step - loss: 1.3086 - categorical_accuracy: 0.5988 - val_loss: 1.4750 - val_categorical_accuracy: 0.5621\n",
      "Epoch 27/40\n",
      "\n",
      "Epoch 00027: LearningRateScheduler setting learning rate to 0.0001.\n",
      "11295/11295 [==============================] - 119s 11ms/step - loss: 1.3079 - categorical_accuracy: 0.5992 - val_loss: 1.4790 - val_categorical_accuracy: 0.5622\n",
      "Epoch 28/40\n",
      "\n",
      "Epoch 00028: LearningRateScheduler setting learning rate to 0.0001.\n",
      "11295/11295 [==============================] - 118s 10ms/step - loss: 1.3081 - categorical_accuracy: 0.5989 - val_loss: 1.4823 - val_categorical_accuracy: 0.5619\n",
      "Epoch 29/40\n",
      "\n",
      "Epoch 00029: LearningRateScheduler setting learning rate to 0.0001.\n",
      "11295/11295 [==============================] - 120s 11ms/step - loss: 1.3076 - categorical_accuracy: 0.5992 - val_loss: 1.4789 - val_categorical_accuracy: 0.5633\n"
     ]
    },
    {
     "name": "stderr",
     "output_type": "stream",
     "text": [
      "WARNING:absl:Found untraced functions such as query_layer_call_fn, query_layer_call_and_return_conditional_losses, key_layer_call_fn, key_layer_call_and_return_conditional_losses, value_layer_call_fn while saving (showing 5 of 30). These functions will not be directly callable after loading.\n"
     ]
    },
    {
     "name": "stdout",
     "output_type": "stream",
     "text": [
      "INFO:tensorflow:Assets written to: checkpoints/goal_transformer_b/assets\n"
     ]
    },
    {
     "name": "stderr",
     "output_type": "stream",
     "text": [
      "INFO:tensorflow:Assets written to: checkpoints/goal_transformer_b/assets\n"
     ]
    },
    {
     "name": "stdout",
     "output_type": "stream",
     "text": [
      "Epoch 30/40\n",
      "\n",
      "Epoch 00030: LearningRateScheduler setting learning rate to 0.0001.\n",
      "11295/11295 [==============================] - 120s 11ms/step - loss: 1.3077 - categorical_accuracy: 0.5992 - val_loss: 1.4795 - val_categorical_accuracy: 0.5624\n",
      "Epoch 31/40\n",
      "\n",
      "Epoch 00031: LearningRateScheduler setting learning rate to 0.0001.\n",
      "11295/11295 [==============================] - 120s 11ms/step - loss: 1.3071 - categorical_accuracy: 0.5996 - val_loss: 1.4757 - val_categorical_accuracy: 0.5633\n",
      "Epoch 32/40\n",
      "\n",
      "Epoch 00032: LearningRateScheduler setting learning rate to 0.0001.\n",
      "11295/11295 [==============================] - 121s 11ms/step - loss: 1.3073 - categorical_accuracy: 0.5993 - val_loss: 1.4781 - val_categorical_accuracy: 0.5627\n",
      "Epoch 33/40\n",
      "\n",
      "Epoch 00033: LearningRateScheduler setting learning rate to 0.0001.\n",
      "11295/11295 [==============================] - 120s 11ms/step - loss: 1.3072 - categorical_accuracy: 0.5991 - val_loss: 1.4777 - val_categorical_accuracy: 0.5632\n",
      "Epoch 34/40\n",
      "\n",
      "Epoch 00034: LearningRateScheduler setting learning rate to 0.0001.\n",
      "11295/11295 [==============================] - 120s 11ms/step - loss: 1.3071 - categorical_accuracy: 0.5994 - val_loss: 1.4805 - val_categorical_accuracy: 0.5626\n",
      "Epoch 35/40\n",
      "\n",
      "Epoch 00035: LearningRateScheduler setting learning rate to 0.0001.\n",
      "11295/11295 [==============================] - 121s 11ms/step - loss: 1.3071 - categorical_accuracy: 0.5993 - val_loss: 1.4839 - val_categorical_accuracy: 0.5610\n",
      "Epoch 36/40\n",
      "\n",
      "Epoch 00036: LearningRateScheduler setting learning rate to 0.0001.\n",
      "11295/11295 [==============================] - 121s 11ms/step - loss: 1.3071 - categorical_accuracy: 0.5993 - val_loss: 1.4784 - val_categorical_accuracy: 0.5633\n"
     ]
    },
    {
     "name": "stderr",
     "output_type": "stream",
     "text": [
      "WARNING:absl:Found untraced functions such as query_layer_call_fn, query_layer_call_and_return_conditional_losses, key_layer_call_fn, key_layer_call_and_return_conditional_losses, value_layer_call_fn while saving (showing 5 of 30). These functions will not be directly callable after loading.\n"
     ]
    },
    {
     "name": "stdout",
     "output_type": "stream",
     "text": [
      "INFO:tensorflow:Assets written to: checkpoints/goal_transformer_b/assets\n"
     ]
    },
    {
     "name": "stderr",
     "output_type": "stream",
     "text": [
      "INFO:tensorflow:Assets written to: checkpoints/goal_transformer_b/assets\n"
     ]
    },
    {
     "name": "stdout",
     "output_type": "stream",
     "text": [
      "Epoch 37/40\n",
      "\n",
      "Epoch 00037: LearningRateScheduler setting learning rate to 0.0001.\n",
      "11295/11295 [==============================] - 119s 11ms/step - loss: 1.3067 - categorical_accuracy: 0.5995 - val_loss: 1.4787 - val_categorical_accuracy: 0.5628\n",
      "Epoch 38/40\n",
      "\n",
      "Epoch 00038: LearningRateScheduler setting learning rate to 0.0001.\n",
      "11295/11295 [==============================] - 119s 11ms/step - loss: 1.3068 - categorical_accuracy: 0.5997 - val_loss: 1.4810 - val_categorical_accuracy: 0.5625\n",
      "Epoch 39/40\n",
      "\n",
      "Epoch 00039: LearningRateScheduler setting learning rate to 0.0001.\n",
      "11295/11295 [==============================] - 120s 11ms/step - loss: 1.3067 - categorical_accuracy: 0.5997 - val_loss: 1.4762 - val_categorical_accuracy: 0.5642\n"
     ]
    },
    {
     "name": "stderr",
     "output_type": "stream",
     "text": [
      "WARNING:absl:Found untraced functions such as query_layer_call_fn, query_layer_call_and_return_conditional_losses, key_layer_call_fn, key_layer_call_and_return_conditional_losses, value_layer_call_fn while saving (showing 5 of 30). These functions will not be directly callable after loading.\n"
     ]
    },
    {
     "name": "stdout",
     "output_type": "stream",
     "text": [
      "INFO:tensorflow:Assets written to: checkpoints/goal_transformer_b/assets\n"
     ]
    },
    {
     "name": "stderr",
     "output_type": "stream",
     "text": [
      "INFO:tensorflow:Assets written to: checkpoints/goal_transformer_b/assets\n"
     ]
    },
    {
     "name": "stdout",
     "output_type": "stream",
     "text": [
      "Epoch 40/40\n",
      "\n",
      "Epoch 00040: LearningRateScheduler setting learning rate to 0.0001.\n",
      "11295/11295 [==============================] - 118s 10ms/step - loss: 1.3064 - categorical_accuracy: 0.5995 - val_loss: 1.4788 - val_categorical_accuracy: 0.5631\n"
     ]
    },
    {
     "name": "stderr",
     "output_type": "stream",
     "text": [
      "WARNING:absl:Found untraced functions such as query_layer_call_fn, query_layer_call_and_return_conditional_losses, key_layer_call_fn, key_layer_call_and_return_conditional_losses, value_layer_call_fn while saving (showing 5 of 30). These functions will not be directly callable after loading.\n"
     ]
    },
    {
     "name": "stdout",
     "output_type": "stream",
     "text": [
      "INFO:tensorflow:Assets written to: weights/goal_transformer_b/assets\n"
     ]
    },
    {
     "name": "stderr",
     "output_type": "stream",
     "text": [
      "INFO:tensorflow:Assets written to: weights/goal_transformer_b/assets\n"
     ]
    },
    {
     "ename": "TypeError",
     "evalue": "Object of type float32 is not JSON serializable",
     "output_type": "error",
     "traceback": [
      "\u001b[0;31m---------------------------------------------------------------------------\u001b[0m",
      "\u001b[0;31mTypeError\u001b[0m                                 Traceback (most recent call last)",
      "\u001b[0;32m<ipython-input-2-738575321bed>\u001b[0m in \u001b[0;36m<module>\u001b[0;34m\u001b[0m\n\u001b[1;32m     29\u001b[0m \u001b[0mm\u001b[0m \u001b[0;34m=\u001b[0m \u001b[0;32mNone\u001b[0m\u001b[0;34m\u001b[0m\u001b[0;34m\u001b[0m\u001b[0m\n\u001b[1;32m     30\u001b[0m \u001b[0;34m\u001b[0m\u001b[0m\n\u001b[0;32m---> 31\u001b[0;31m \u001b[0mmodel_interface\u001b[0m\u001b[0;34m.\u001b[0m\u001b[0msave_history\u001b[0m\u001b[0;34m(\u001b[0m\u001b[0mmodel_name\u001b[0m\u001b[0;34m,\u001b[0m \u001b[0mhistory\u001b[0m\u001b[0;34m)\u001b[0m\u001b[0;34m\u001b[0m\u001b[0;34m\u001b[0m\u001b[0m\n\u001b[0m",
      "\u001b[0;32m~/Documents/trajectory-prediction/src/model_interface.py\u001b[0m in \u001b[0;36msave_history\u001b[0;34m(filename, history)\u001b[0m\n\u001b[1;32m     62\u001b[0m \u001b[0;34m\u001b[0m\u001b[0m\n\u001b[1;32m     63\u001b[0m     \u001b[0;32mwith\u001b[0m \u001b[0mopen\u001b[0m\u001b[0;34m(\u001b[0m\u001b[0mpath\u001b[0m\u001b[0;34m,\u001b[0m \u001b[0;34m'w'\u001b[0m\u001b[0;34m)\u001b[0m \u001b[0;32mas\u001b[0m \u001b[0mf\u001b[0m\u001b[0;34m:\u001b[0m\u001b[0;34m\u001b[0m\u001b[0;34m\u001b[0m\u001b[0m\n\u001b[0;32m---> 64\u001b[0;31m         \u001b[0mjson_s\u001b[0m \u001b[0;34m=\u001b[0m \u001b[0mjson\u001b[0m\u001b[0;34m.\u001b[0m\u001b[0mdumps\u001b[0m\u001b[0;34m(\u001b[0m\u001b[0mhistory\u001b[0m\u001b[0;34m.\u001b[0m\u001b[0mhistory\u001b[0m\u001b[0;34m)\u001b[0m\u001b[0;34m\u001b[0m\u001b[0;34m\u001b[0m\u001b[0m\n\u001b[0m\u001b[1;32m     65\u001b[0m         \u001b[0mf\u001b[0m\u001b[0;34m.\u001b[0m\u001b[0mwrite\u001b[0m\u001b[0;34m(\u001b[0m\u001b[0mjson_s\u001b[0m\u001b[0;34m)\u001b[0m\u001b[0;34m\u001b[0m\u001b[0;34m\u001b[0m\u001b[0m\n\u001b[1;32m     66\u001b[0m \u001b[0;34m\u001b[0m\u001b[0m\n",
      "\u001b[0;32m/usr/lib/python3.8/json/__init__.py\u001b[0m in \u001b[0;36mdumps\u001b[0;34m(obj, skipkeys, ensure_ascii, check_circular, allow_nan, cls, indent, separators, default, sort_keys, **kw)\u001b[0m\n\u001b[1;32m    229\u001b[0m         \u001b[0mcls\u001b[0m \u001b[0;32mis\u001b[0m \u001b[0;32mNone\u001b[0m \u001b[0;32mand\u001b[0m \u001b[0mindent\u001b[0m \u001b[0;32mis\u001b[0m \u001b[0;32mNone\u001b[0m \u001b[0;32mand\u001b[0m \u001b[0mseparators\u001b[0m \u001b[0;32mis\u001b[0m \u001b[0;32mNone\u001b[0m \u001b[0;32mand\u001b[0m\u001b[0;34m\u001b[0m\u001b[0;34m\u001b[0m\u001b[0m\n\u001b[1;32m    230\u001b[0m         default is None and not sort_keys and not kw):\n\u001b[0;32m--> 231\u001b[0;31m         \u001b[0;32mreturn\u001b[0m \u001b[0m_default_encoder\u001b[0m\u001b[0;34m.\u001b[0m\u001b[0mencode\u001b[0m\u001b[0;34m(\u001b[0m\u001b[0mobj\u001b[0m\u001b[0;34m)\u001b[0m\u001b[0;34m\u001b[0m\u001b[0;34m\u001b[0m\u001b[0m\n\u001b[0m\u001b[1;32m    232\u001b[0m     \u001b[0;32mif\u001b[0m \u001b[0mcls\u001b[0m \u001b[0;32mis\u001b[0m \u001b[0;32mNone\u001b[0m\u001b[0;34m:\u001b[0m\u001b[0;34m\u001b[0m\u001b[0;34m\u001b[0m\u001b[0m\n\u001b[1;32m    233\u001b[0m         \u001b[0mcls\u001b[0m \u001b[0;34m=\u001b[0m \u001b[0mJSONEncoder\u001b[0m\u001b[0;34m\u001b[0m\u001b[0;34m\u001b[0m\u001b[0m\n",
      "\u001b[0;32m/usr/lib/python3.8/json/encoder.py\u001b[0m in \u001b[0;36mencode\u001b[0;34m(self, o)\u001b[0m\n\u001b[1;32m    197\u001b[0m         \u001b[0;31m# exceptions aren't as detailed.  The list call should be roughly\u001b[0m\u001b[0;34m\u001b[0m\u001b[0;34m\u001b[0m\u001b[0;34m\u001b[0m\u001b[0m\n\u001b[1;32m    198\u001b[0m         \u001b[0;31m# equivalent to the PySequence_Fast that ''.join() would do.\u001b[0m\u001b[0;34m\u001b[0m\u001b[0;34m\u001b[0m\u001b[0;34m\u001b[0m\u001b[0m\n\u001b[0;32m--> 199\u001b[0;31m         \u001b[0mchunks\u001b[0m \u001b[0;34m=\u001b[0m \u001b[0mself\u001b[0m\u001b[0;34m.\u001b[0m\u001b[0miterencode\u001b[0m\u001b[0;34m(\u001b[0m\u001b[0mo\u001b[0m\u001b[0;34m,\u001b[0m \u001b[0m_one_shot\u001b[0m\u001b[0;34m=\u001b[0m\u001b[0;32mTrue\u001b[0m\u001b[0;34m)\u001b[0m\u001b[0;34m\u001b[0m\u001b[0;34m\u001b[0m\u001b[0m\n\u001b[0m\u001b[1;32m    200\u001b[0m         \u001b[0;32mif\u001b[0m \u001b[0;32mnot\u001b[0m \u001b[0misinstance\u001b[0m\u001b[0;34m(\u001b[0m\u001b[0mchunks\u001b[0m\u001b[0;34m,\u001b[0m \u001b[0;34m(\u001b[0m\u001b[0mlist\u001b[0m\u001b[0;34m,\u001b[0m \u001b[0mtuple\u001b[0m\u001b[0;34m)\u001b[0m\u001b[0;34m)\u001b[0m\u001b[0;34m:\u001b[0m\u001b[0;34m\u001b[0m\u001b[0;34m\u001b[0m\u001b[0m\n\u001b[1;32m    201\u001b[0m             \u001b[0mchunks\u001b[0m \u001b[0;34m=\u001b[0m \u001b[0mlist\u001b[0m\u001b[0;34m(\u001b[0m\u001b[0mchunks\u001b[0m\u001b[0;34m)\u001b[0m\u001b[0;34m\u001b[0m\u001b[0;34m\u001b[0m\u001b[0m\n",
      "\u001b[0;32m/usr/lib/python3.8/json/encoder.py\u001b[0m in \u001b[0;36miterencode\u001b[0;34m(self, o, _one_shot)\u001b[0m\n\u001b[1;32m    255\u001b[0m                 \u001b[0mself\u001b[0m\u001b[0;34m.\u001b[0m\u001b[0mkey_separator\u001b[0m\u001b[0;34m,\u001b[0m \u001b[0mself\u001b[0m\u001b[0;34m.\u001b[0m\u001b[0mitem_separator\u001b[0m\u001b[0;34m,\u001b[0m \u001b[0mself\u001b[0m\u001b[0;34m.\u001b[0m\u001b[0msort_keys\u001b[0m\u001b[0;34m,\u001b[0m\u001b[0;34m\u001b[0m\u001b[0;34m\u001b[0m\u001b[0m\n\u001b[1;32m    256\u001b[0m                 self.skipkeys, _one_shot)\n\u001b[0;32m--> 257\u001b[0;31m         \u001b[0;32mreturn\u001b[0m \u001b[0m_iterencode\u001b[0m\u001b[0;34m(\u001b[0m\u001b[0mo\u001b[0m\u001b[0;34m,\u001b[0m \u001b[0;36m0\u001b[0m\u001b[0;34m)\u001b[0m\u001b[0;34m\u001b[0m\u001b[0;34m\u001b[0m\u001b[0m\n\u001b[0m\u001b[1;32m    258\u001b[0m \u001b[0;34m\u001b[0m\u001b[0m\n\u001b[1;32m    259\u001b[0m def _make_iterencode(markers, _default, _encoder, _indent, _floatstr,\n",
      "\u001b[0;32m/usr/lib/python3.8/json/encoder.py\u001b[0m in \u001b[0;36mdefault\u001b[0;34m(self, o)\u001b[0m\n\u001b[1;32m    177\u001b[0m \u001b[0;34m\u001b[0m\u001b[0m\n\u001b[1;32m    178\u001b[0m         \"\"\"\n\u001b[0;32m--> 179\u001b[0;31m         raise TypeError(f'Object of type {o.__class__.__name__} '\n\u001b[0m\u001b[1;32m    180\u001b[0m                         f'is not JSON serializable')\n\u001b[1;32m    181\u001b[0m \u001b[0;34m\u001b[0m\u001b[0m\n",
      "\u001b[0;31mTypeError\u001b[0m: Object of type float32 is not JSON serializable"
     ]
    }
   ],
   "source": [
    "reload(model_goal)\n",
    "reload(transformer)\n",
    "m = model_goal.ModelGoal()\n",
    "model = transformer.build_model(\n",
    "    input_shape,\n",
    "    head_size=64, # 256\n",
    "    num_heads=4, # 4\n",
    "    ff_dim=64, # 4\n",
    "    num_transformer_blocks=1, # 4\n",
    "    mlp_units=1, # [128]\n",
    "    mlp_size=256,\n",
    "    mlp_dropout=0.4, # 0.4\n",
    "    dropout=0.25, # 0.25\n",
    "    n_classes=config.GOAL_GRID_SIZE**2,\n",
    ")\n",
    "\n",
    "model_name = 'goal_transformer_b'\n",
    "history = m.train(train_data, eval_data,\n",
    "    model=model,\n",
    "    batch_size=256,\n",
    "    epochs=40,\n",
    "    learning_rate=1e-4,\n",
    "    checkpoints_path=f'checkpoints/{model_name}',\n",
    "    learning_rate_scheduler=True,\n",
    ")\n",
    "\n",
    "m.save(model_name)\n",
    "model = None\n",
    "m = None\n",
    "\n",
    "model_interface.save_history(model_name, history)"
   ]
  }
 ],
 "metadata": {
  "interpreter": {
   "hash": "e7370f93d1d0cde622a1f8e1c04877d8463912d04d973331ad4851f04de6915a"
  },
  "kernelspec": {
   "display_name": "Python 3.8.10 64-bit",
   "language": "python",
   "name": "python3"
  },
  "language_info": {
   "codemirror_mode": {
    "name": "ipython",
    "version": 3
   },
   "file_extension": ".py",
   "mimetype": "text/x-python",
   "name": "python",
   "nbconvert_exporter": "python",
   "pygments_lexer": "ipython3",
   "version": "3.8.10"
  },
  "orig_nbformat": 4
 },
 "nbformat": 4,
 "nbformat_minor": 2
}
