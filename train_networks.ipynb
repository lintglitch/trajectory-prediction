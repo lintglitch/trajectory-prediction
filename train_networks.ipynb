{
 "cells": [
  {
   "cell_type": "code",
   "execution_count": 1,
   "metadata": {},
   "outputs": [
    {
     "data": {
      "text/plain": [
       "<module 'src.config' from '/home/deus/Documents/trajectory-prediction/src/config.py'>"
      ]
     },
     "execution_count": 1,
     "metadata": {},
     "output_type": "execute_result"
    }
   ],
   "source": [
    "from importlib import reload\n",
    "from src import parsing\n",
    "from src import model_path\n",
    "from src import models_path\n",
    "from src import model_goal\n",
    "from src import models_goal\n",
    "from src import model_interface\n",
    "from src import visualization\n",
    "from src import util\n",
    "from src import config\n",
    "reload(parsing)\n",
    "reload(model_path)\n",
    "reload(models_path)\n",
    "reload(model_goal)\n",
    "reload(models_goal)\n",
    "reload(model_interface)\n",
    "reload(visualization)\n",
    "reload(util)\n",
    "reload(config)"
   ]
  },
  {
   "cell_type": "code",
   "execution_count": 2,
   "metadata": {},
   "outputs": [
    {
     "name": "stderr",
     "output_type": "stream",
     "text": [
      "100%|██████████| 1224/1224 [00:17<00:00, 70.41it/s] \n"
     ]
    },
    {
     "name": "stdout",
     "output_type": "stream",
     "text": [
      "Dividing 697 human trajectories: 627 training, 70 eval, 0 test\n",
      "train (218460, 40, 2) float64 (218460, 25) float32 (218460, 40, 2) float64\n",
      "eval (30760, 40, 2) float64 (30760, 25) float32 (30760, 40, 2) float64\n"
     ]
    }
   ],
   "source": [
    "# load training data\n",
    "file_path = \"data/medium_aa.csv\"\n",
    "train_data, eval_data, test_data = parsing.parse_atc_day(file_path, train_ratio=0.9, eval_ratio=0.1)"
   ]
  },
  {
   "cell_type": "code",
   "execution_count": 3,
   "metadata": {},
   "outputs": [
    {
     "name": "stdout",
     "output_type": "stream",
     "text": [
      "Epoch 1/10\n",
      "7082/7082 [==============================] - 12s 2ms/step - loss: 1.1432 - accuracy: 0.6286 - val_loss: 1.1735 - val_accuracy: 0.5990\n",
      "Epoch 2/10\n",
      "7082/7082 [==============================] - 11s 2ms/step - loss: 1.0805 - accuracy: 0.6425 - val_loss: 1.1560 - val_accuracy: 0.6080\n",
      "Epoch 3/10\n",
      "7082/7082 [==============================] - 11s 2ms/step - loss: 1.0707 - accuracy: 0.6455 - val_loss: 1.1494 - val_accuracy: 0.6092\n",
      "Epoch 4/10\n",
      "7082/7082 [==============================] - 11s 2ms/step - loss: 1.0657 - accuracy: 0.6464 - val_loss: 1.1565 - val_accuracy: 0.6078\n",
      "Epoch 5/10\n",
      "7082/7082 [==============================] - 11s 2ms/step - loss: 1.0629 - accuracy: 0.6480 - val_loss: 1.1622 - val_accuracy: 0.6083\n",
      "Epoch 6/10\n",
      "7082/7082 [==============================] - 11s 2ms/step - loss: 1.0605 - accuracy: 0.6487 - val_loss: 1.1446 - val_accuracy: 0.6116\n",
      "Epoch 7/10\n",
      "7082/7082 [==============================] - 12s 2ms/step - loss: 1.0589 - accuracy: 0.6486 - val_loss: 1.1426 - val_accuracy: 0.6069\n",
      "Epoch 8/10\n",
      "7082/7082 [==============================] - 11s 2ms/step - loss: 1.0574 - accuracy: 0.6494 - val_loss: 1.1399 - val_accuracy: 0.6095\n",
      "Epoch 9/10\n",
      "7082/7082 [==============================] - 11s 2ms/step - loss: 1.0557 - accuracy: 0.6501 - val_loss: 1.1444 - val_accuracy: 0.6122\n",
      "Epoch 10/10\n",
      "7082/7082 [==============================] - 11s 2ms/step - loss: 1.0538 - accuracy: 0.6505 - val_loss: 1.1407 - val_accuracy: 0.6101\n",
      "INFO:tensorflow:Assets written to: weights/goal_simple_cnn/assets\n"
     ]
    },
    {
     "name": "stderr",
     "output_type": "stream",
     "text": [
      "INFO:tensorflow:Assets written to: weights/goal_simple_cnn/assets\n"
     ]
    }
   ],
   "source": [
    "m = model_goal.ModelGoal()\n",
    "m.train(models_goal.simple_cnn(train_data), train_data, eval_data)\n",
    "m.save('goal_simple_cnn')\n",
    "m = None"
   ]
  },
  {
   "cell_type": "code",
   "execution_count": 4,
   "metadata": {},
   "outputs": [
    {
     "name": "stdout",
     "output_type": "stream",
     "text": [
      "Epoch 1/10\n",
      "6827/6827 [==============================] - 24s 3ms/step - loss: 0.0031 - mean_absolute_error: 0.0361 - val_loss: 0.0024 - val_mean_absolute_error: 0.0310\n",
      "Epoch 2/10\n",
      "6827/6827 [==============================] - 23s 3ms/step - loss: 0.0028 - mean_absolute_error: 0.0331 - val_loss: 0.0023 - val_mean_absolute_error: 0.0293\n",
      "Epoch 3/10\n",
      "6827/6827 [==============================] - 22s 3ms/step - loss: 0.0027 - mean_absolute_error: 0.0324 - val_loss: 0.0022 - val_mean_absolute_error: 0.0289\n",
      "Epoch 4/10\n",
      "6827/6827 [==============================] - 22s 3ms/step - loss: 0.0026 - mean_absolute_error: 0.0320 - val_loss: 0.0022 - val_mean_absolute_error: 0.0292\n",
      "Epoch 5/10\n",
      "6827/6827 [==============================] - 22s 3ms/step - loss: 0.0026 - mean_absolute_error: 0.0318 - val_loss: 0.0022 - val_mean_absolute_error: 0.0287\n",
      "Epoch 6/10\n",
      "6827/6827 [==============================] - 22s 3ms/step - loss: 0.0026 - mean_absolute_error: 0.0316 - val_loss: 0.0022 - val_mean_absolute_error: 0.0287\n",
      "Epoch 7/10\n",
      "6827/6827 [==============================] - 22s 3ms/step - loss: 0.0026 - mean_absolute_error: 0.0315 - val_loss: 0.0022 - val_mean_absolute_error: 0.0290\n",
      "Epoch 8/10\n",
      "6827/6827 [==============================] - 22s 3ms/step - loss: 0.0026 - mean_absolute_error: 0.0314 - val_loss: 0.0022 - val_mean_absolute_error: 0.0287\n",
      "Epoch 9/10\n",
      "6827/6827 [==============================] - 22s 3ms/step - loss: 0.0026 - mean_absolute_error: 0.0313 - val_loss: 0.0022 - val_mean_absolute_error: 0.0283\n",
      "Epoch 10/10\n",
      "6827/6827 [==============================] - 22s 3ms/step - loss: 0.0025 - mean_absolute_error: 0.0312 - val_loss: 0.0022 - val_mean_absolute_error: 0.0285\n"
     ]
    },
    {
     "name": "stderr",
     "output_type": "stream",
     "text": [
      "WARNING:absl:Found untraced functions such as lstm_cell_layer_call_fn, lstm_cell_layer_call_and_return_conditional_losses, lstm_cell_layer_call_fn, lstm_cell_layer_call_and_return_conditional_losses, lstm_cell_layer_call_and_return_conditional_losses while saving (showing 5 of 5). These functions will not be directly callable after loading.\n"
     ]
    },
    {
     "name": "stdout",
     "output_type": "stream",
     "text": [
      "INFO:tensorflow:Assets written to: weights/path_simple_lstm/assets\n"
     ]
    },
    {
     "name": "stderr",
     "output_type": "stream",
     "text": [
      "INFO:tensorflow:Assets written to: weights/path_simple_lstm/assets\n"
     ]
    }
   ],
   "source": [
    "m = model_path.ModelPath(uses_goal=False)\n",
    "m.train(models_path.simple_lstm(train_data), train_data, eval_data)\n",
    "m.save('path_simple_lstm')\n",
    "m = None"
   ]
  },
  {
   "cell_type": "code",
   "execution_count": 5,
   "metadata": {},
   "outputs": [
    {
     "name": "stdout",
     "output_type": "stream",
     "text": [
      "Epoch 1/10\n",
      "6827/6827 [==============================] - 22s 3ms/step - loss: 0.0017 - mean_absolute_error: 0.0283 - val_loss: 0.0013 - val_mean_absolute_error: 0.0245\n",
      "Epoch 2/10\n",
      "6827/6827 [==============================] - 21s 3ms/step - loss: 0.0014 - mean_absolute_error: 0.0262 - val_loss: 0.0012 - val_mean_absolute_error: 0.0239\n",
      "Epoch 3/10\n",
      "6827/6827 [==============================] - 21s 3ms/step - loss: 0.0014 - mean_absolute_error: 0.0256 - val_loss: 0.0012 - val_mean_absolute_error: 0.0235\n",
      "Epoch 4/10\n",
      "6827/6827 [==============================] - 21s 3ms/step - loss: 0.0014 - mean_absolute_error: 0.0252 - val_loss: 0.0012 - val_mean_absolute_error: 0.0234\n",
      "Epoch 5/10\n",
      "6827/6827 [==============================] - 21s 3ms/step - loss: 0.0013 - mean_absolute_error: 0.0250 - val_loss: 0.0012 - val_mean_absolute_error: 0.0232\n",
      "Epoch 6/10\n",
      "6827/6827 [==============================] - 22s 3ms/step - loss: 0.0013 - mean_absolute_error: 0.0249 - val_loss: 0.0012 - val_mean_absolute_error: 0.0233\n",
      "Epoch 7/10\n",
      "6827/6827 [==============================] - 22s 3ms/step - loss: 0.0013 - mean_absolute_error: 0.0248 - val_loss: 0.0012 - val_mean_absolute_error: 0.0233\n",
      "Epoch 8/10\n",
      "6827/6827 [==============================] - 22s 3ms/step - loss: 0.0013 - mean_absolute_error: 0.0247 - val_loss: 0.0011 - val_mean_absolute_error: 0.0230\n",
      "Epoch 9/10\n",
      "6827/6827 [==============================] - 22s 3ms/step - loss: 0.0013 - mean_absolute_error: 0.0246 - val_loss: 0.0011 - val_mean_absolute_error: 0.0229\n",
      "Epoch 10/10\n",
      "6827/6827 [==============================] - 22s 3ms/step - loss: 0.0013 - mean_absolute_error: 0.0246 - val_loss: 0.0011 - val_mean_absolute_error: 0.0229\n"
     ]
    },
    {
     "name": "stderr",
     "output_type": "stream",
     "text": [
      "WARNING:absl:Found untraced functions such as lstm_cell_1_layer_call_fn, lstm_cell_1_layer_call_and_return_conditional_losses, lstm_cell_1_layer_call_fn, lstm_cell_1_layer_call_and_return_conditional_losses, lstm_cell_1_layer_call_and_return_conditional_losses while saving (showing 5 of 5). These functions will not be directly callable after loading.\n"
     ]
    },
    {
     "name": "stdout",
     "output_type": "stream",
     "text": [
      "INFO:tensorflow:Assets written to: weights/path_simple_lstm_goal/assets\n"
     ]
    },
    {
     "name": "stderr",
     "output_type": "stream",
     "text": [
      "INFO:tensorflow:Assets written to: weights/path_simple_lstm_goal/assets\n"
     ]
    }
   ],
   "source": [
    "m = model_path.ModelPath(uses_goal=True)\n",
    "m.train(models_path.simple_lstm(train_data), train_data, eval_data, train_goals=train_data[1], eval_goals=eval_data[1])\n",
    "m.save('path_simple_lstm_goal')\n",
    "m = None"
   ]
  }
 ],
 "metadata": {
  "interpreter": {
   "hash": "e7370f93d1d0cde622a1f8e1c04877d8463912d04d973331ad4851f04de6915a"
  },
  "kernelspec": {
   "display_name": "Python 3.8.10 64-bit",
   "language": "python",
   "name": "python3"
  },
  "language_info": {
   "codemirror_mode": {
    "name": "ipython",
    "version": 3
   },
   "file_extension": ".py",
   "mimetype": "text/x-python",
   "name": "python",
   "nbconvert_exporter": "python",
   "pygments_lexer": "ipython3",
   "version": "3.8.10"
  },
  "orig_nbformat": 4
 },
 "nbformat": 4,
 "nbformat_minor": 2
}
