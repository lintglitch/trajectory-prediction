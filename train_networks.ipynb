{
 "cells": [
  {
   "cell_type": "code",
   "execution_count": 16,
   "metadata": {},
   "outputs": [
    {
     "data": {
      "text/plain": [
       "<module 'src.config' from '/home/deus/Documents/trajectory-prediction/src/config.py'>"
      ]
     },
     "execution_count": 16,
     "metadata": {},
     "output_type": "execute_result"
    }
   ],
   "source": [
    "from importlib import reload\n",
    "from src import parsing\n",
    "from src import model_path\n",
    "from src import models_path\n",
    "from src import model_goal\n",
    "from src import models_goal\n",
    "from src import inception\n",
    "from src import model_interface\n",
    "from src import visualization\n",
    "from src import util\n",
    "from src import config\n",
    "reload(parsing)\n",
    "reload(model_path)\n",
    "reload(models_path)\n",
    "reload(model_goal)\n",
    "reload(models_goal)\n",
    "reload(inception)\n",
    "reload(model_interface)\n",
    "reload(visualization)\n",
    "reload(util)\n",
    "reload(config)"
   ]
  },
  {
   "cell_type": "code",
   "execution_count": 2,
   "metadata": {},
   "outputs": [
    {
     "name": "stderr",
     "output_type": "stream",
     "text": [
      "100%|██████████| 1224/1224 [00:17<00:00, 70.50it/s] \n"
     ]
    },
    {
     "name": "stdout",
     "output_type": "stream",
     "text": [
      "Dividing 697 human trajectories: 627 training, 70 eval, 0 test\n",
      "train (225265, 40, 2) float64 (225265, 25) float32 (225265, 40, 2) float64\n",
      "eval (23955, 40, 2) float64 (23955, 25) float32 (23955, 40, 2) float64\n"
     ]
    }
   ],
   "source": [
    "# load training data\n",
    "file_path = \"data/medium_aa.csv\"\n",
    "train_data, eval_data, test_data = parsing.parse_atc_day(file_path, train_ratio=0.9, eval_ratio=0.1)"
   ]
  },
  {
   "cell_type": "code",
   "execution_count": 8,
   "metadata": {},
   "outputs": [
    {
     "name": "stdout",
     "output_type": "stream",
     "text": [
      "Epoch 1/10\n",
      "220/220 [==============================] - 1s 3ms/step - loss: 1.7042 - categorical_accuracy: 0.5314 - val_loss: 1.3216 - val_categorical_accuracy: 0.5670\n",
      "Epoch 2/10\n",
      "220/220 [==============================] - 1s 2ms/step - loss: 1.1301 - categorical_accuracy: 0.6314 - val_loss: 1.2790 - val_categorical_accuracy: 0.5862\n",
      "Epoch 3/10\n",
      "220/220 [==============================] - 1s 2ms/step - loss: 1.1002 - categorical_accuracy: 0.6411 - val_loss: 1.2693 - val_categorical_accuracy: 0.5875\n",
      "Epoch 4/10\n",
      "220/220 [==============================] - 1s 2ms/step - loss: 1.0868 - categorical_accuracy: 0.6450 - val_loss: 1.2605 - val_categorical_accuracy: 0.5956\n",
      "Epoch 5/10\n",
      "220/220 [==============================] - 1s 2ms/step - loss: 1.0779 - categorical_accuracy: 0.6467 - val_loss: 1.2553 - val_categorical_accuracy: 0.5964\n",
      "Epoch 6/10\n",
      "220/220 [==============================] - 1s 2ms/step - loss: 1.0708 - categorical_accuracy: 0.6480 - val_loss: 1.2521 - val_categorical_accuracy: 0.5962\n",
      "Epoch 7/10\n",
      "220/220 [==============================] - 1s 2ms/step - loss: 1.0648 - categorical_accuracy: 0.6499 - val_loss: 1.2463 - val_categorical_accuracy: 0.5993\n",
      "Epoch 8/10\n",
      "220/220 [==============================] - 1s 2ms/step - loss: 1.0592 - categorical_accuracy: 0.6510 - val_loss: 1.2432 - val_categorical_accuracy: 0.5997\n",
      "Epoch 9/10\n",
      "220/220 [==============================] - 1s 2ms/step - loss: 1.0549 - categorical_accuracy: 0.6515 - val_loss: 1.2422 - val_categorical_accuracy: 0.5994\n",
      "Epoch 10/10\n",
      "220/220 [==============================] - 1s 2ms/step - loss: 1.0525 - categorical_accuracy: 0.6523 - val_loss: 1.2408 - val_categorical_accuracy: 0.6004\n",
      "INFO:tensorflow:Assets written to: weights/goal_simple_cnn/assets\n"
     ]
    },
    {
     "name": "stderr",
     "output_type": "stream",
     "text": [
      "INFO:tensorflow:Assets written to: weights/goal_simple_cnn/assets\n"
     ]
    }
   ],
   "source": [
    "reload(models_goal)\n",
    "\n",
    "m = model_goal.ModelGoal()\n",
    "m.train(models_goal.simple_cnn(train_data), train_data, eval_data, batch_size=1024)\n",
    "m.save('goal_simple_cnn')\n",
    "m = None"
   ]
  },
  {
   "cell_type": "code",
   "execution_count": 19,
   "metadata": {},
   "outputs": [
    {
     "name": "stdout",
     "output_type": "stream",
     "text": [
      "Model: \"model_8\"\n",
      "__________________________________________________________________________________________________\n",
      "Layer (type)                    Output Shape         Param #     Connected to                     \n",
      "==================================================================================================\n",
      "input_12 (InputLayer)           [(None, 40, 2)]      0                                            \n",
      "__________________________________________________________________________________________________\n",
      "conv1d_105 (Conv1D)             (None, 40, 32)       64          input_12[0][0]                   \n",
      "__________________________________________________________________________________________________\n",
      "max_pooling1d_24 (MaxPooling1D) (None, 40, 2)        0           input_12[0][0]                   \n",
      "__________________________________________________________________________________________________\n",
      "conv1d_106 (Conv1D)             (None, 40, 32)       40960       conv1d_105[0][0]                 \n",
      "__________________________________________________________________________________________________\n",
      "conv1d_107 (Conv1D)             (None, 40, 32)       20480       conv1d_105[0][0]                 \n",
      "__________________________________________________________________________________________________\n",
      "conv1d_108 (Conv1D)             (None, 40, 32)       10240       conv1d_105[0][0]                 \n",
      "__________________________________________________________________________________________________\n",
      "conv1d_109 (Conv1D)             (None, 40, 32)       64          max_pooling1d_24[0][0]           \n",
      "__________________________________________________________________________________________________\n",
      "concatenate_18 (Concatenate)    (None, 40, 128)      0           conv1d_106[0][0]                 \n",
      "                                                                 conv1d_107[0][0]                 \n",
      "                                                                 conv1d_108[0][0]                 \n",
      "                                                                 conv1d_109[0][0]                 \n",
      "__________________________________________________________________________________________________\n",
      "batch_normalization_23 (BatchNo (None, 40, 128)      512         concatenate_18[0][0]             \n",
      "__________________________________________________________________________________________________\n",
      "activation_23 (Activation)      (None, 40, 128)      0           batch_normalization_23[0][0]     \n",
      "__________________________________________________________________________________________________\n",
      "conv1d_110 (Conv1D)             (None, 40, 32)       4096        activation_23[0][0]              \n",
      "__________________________________________________________________________________________________\n",
      "max_pooling1d_25 (MaxPooling1D) (None, 40, 128)      0           activation_23[0][0]              \n",
      "__________________________________________________________________________________________________\n",
      "conv1d_111 (Conv1D)             (None, 40, 32)       40960       conv1d_110[0][0]                 \n",
      "__________________________________________________________________________________________________\n",
      "conv1d_112 (Conv1D)             (None, 40, 32)       20480       conv1d_110[0][0]                 \n",
      "__________________________________________________________________________________________________\n",
      "conv1d_113 (Conv1D)             (None, 40, 32)       10240       conv1d_110[0][0]                 \n",
      "__________________________________________________________________________________________________\n",
      "conv1d_114 (Conv1D)             (None, 40, 32)       4096        max_pooling1d_25[0][0]           \n",
      "__________________________________________________________________________________________________\n",
      "concatenate_19 (Concatenate)    (None, 40, 128)      0           conv1d_111[0][0]                 \n",
      "                                                                 conv1d_112[0][0]                 \n",
      "                                                                 conv1d_113[0][0]                 \n",
      "                                                                 conv1d_114[0][0]                 \n",
      "__________________________________________________________________________________________________\n",
      "batch_normalization_24 (BatchNo (None, 40, 128)      512         concatenate_19[0][0]             \n",
      "__________________________________________________________________________________________________\n",
      "activation_24 (Activation)      (None, 40, 128)      0           batch_normalization_24[0][0]     \n",
      "__________________________________________________________________________________________________\n",
      "conv1d_115 (Conv1D)             (None, 40, 32)       4096        activation_24[0][0]              \n",
      "__________________________________________________________________________________________________\n",
      "max_pooling1d_26 (MaxPooling1D) (None, 40, 128)      0           activation_24[0][0]              \n",
      "__________________________________________________________________________________________________\n",
      "conv1d_116 (Conv1D)             (None, 40, 32)       40960       conv1d_115[0][0]                 \n",
      "__________________________________________________________________________________________________\n",
      "conv1d_117 (Conv1D)             (None, 40, 32)       20480       conv1d_115[0][0]                 \n",
      "__________________________________________________________________________________________________\n",
      "conv1d_118 (Conv1D)             (None, 40, 32)       10240       conv1d_115[0][0]                 \n",
      "__________________________________________________________________________________________________\n",
      "conv1d_119 (Conv1D)             (None, 40, 32)       4096        max_pooling1d_26[0][0]           \n",
      "__________________________________________________________________________________________________\n",
      "concatenate_20 (Concatenate)    (None, 40, 128)      0           conv1d_116[0][0]                 \n",
      "                                                                 conv1d_117[0][0]                 \n",
      "                                                                 conv1d_118[0][0]                 \n",
      "                                                                 conv1d_119[0][0]                 \n",
      "__________________________________________________________________________________________________\n",
      "conv1d_120 (Conv1D)             (None, 40, 128)      256         input_12[0][0]                   \n",
      "__________________________________________________________________________________________________\n",
      "batch_normalization_25 (BatchNo (None, 40, 128)      512         concatenate_20[0][0]             \n",
      "__________________________________________________________________________________________________\n",
      "batch_normalization_26 (BatchNo (None, 40, 128)      512         conv1d_120[0][0]                 \n",
      "__________________________________________________________________________________________________\n",
      "activation_25 (Activation)      (None, 40, 128)      0           batch_normalization_25[0][0]     \n",
      "__________________________________________________________________________________________________\n",
      "add_5 (Add)                     (None, 40, 128)      0           batch_normalization_26[0][0]     \n",
      "                                                                 activation_25[0][0]              \n",
      "__________________________________________________________________________________________________\n",
      "activation_26 (Activation)      (None, 40, 128)      0           add_5[0][0]                      \n",
      "__________________________________________________________________________________________________\n",
      "global_average_pooling1d_3 (Glo (None, 128)          0           activation_26[0][0]              \n",
      "__________________________________________________________________________________________________\n",
      "dense_8 (Dense)                 (None, 25)           3225        global_average_pooling1d_3[0][0] \n",
      "==================================================================================================\n",
      "Total params: 237,081\n",
      "Trainable params: 236,057\n",
      "Non-trainable params: 1,024\n",
      "__________________________________________________________________________________________________\n",
      "Epoch 1/5\n",
      "220/220 [==============================] - 14s 56ms/step - loss: 1.1434 - categorical_accuracy: 0.6331 - val_loss: 2.1013 - val_categorical_accuracy: 0.3092\n",
      "Epoch 2/5\n",
      "220/220 [==============================] - 12s 54ms/step - loss: 1.0540 - categorical_accuracy: 0.6490 - val_loss: 1.2999 - val_categorical_accuracy: 0.5875\n",
      "Epoch 3/5\n",
      "220/220 [==============================] - 12s 54ms/step - loss: 1.0481 - categorical_accuracy: 0.6493 - val_loss: 1.3176 - val_categorical_accuracy: 0.5782\n",
      "Epoch 4/5\n",
      "220/220 [==============================] - 12s 53ms/step - loss: 1.0455 - categorical_accuracy: 0.6497 - val_loss: 1.2810 - val_categorical_accuracy: 0.5890\n",
      "Epoch 5/5\n",
      "220/220 [==============================] - 12s 53ms/step - loss: 1.0404 - categorical_accuracy: 0.6519 - val_loss: 1.2612 - val_categorical_accuracy: 0.5978\n"
     ]
    }
   ],
   "source": [
    "reload(inception)\n",
    "\n",
    "m = model_goal.ModelGoal()\n",
    "input_shape = train_data[0].shape\n",
    "input_shape = (input_shape[1], input_shape[2])\n",
    "inception_model = inception.InceptionTime(\n",
    "    depth=3\n",
    ").build(\n",
    "    input_shape=input_shape, number_output_classes=config.GOAL_GRID_SIZE**2\n",
    "    )\n",
    "\n",
    "m.train(inception_model, train_data, eval_data, batch_size=1024, epochs=5)\n",
    "# m.save('goal_simple_cnn')\n",
    "m = None"
   ]
  },
  {
   "cell_type": "code",
   "execution_count": 4,
   "metadata": {},
   "outputs": [
    {
     "name": "stdout",
     "output_type": "stream",
     "text": [
      "Epoch 1/10\n",
      "6895/6895 [==============================] - 24s 3ms/step - loss: 0.0031 - mean_absolute_error: 0.0360 - val_loss: 0.0024 - val_mean_absolute_error: 0.0319\n",
      "Epoch 2/10\n",
      "6895/6895 [==============================] - 22s 3ms/step - loss: 0.0028 - mean_absolute_error: 0.0331 - val_loss: 0.0023 - val_mean_absolute_error: 0.0306\n",
      "Epoch 3/10\n",
      "6895/6895 [==============================] - 22s 3ms/step - loss: 0.0027 - mean_absolute_error: 0.0323 - val_loss: 0.0022 - val_mean_absolute_error: 0.0289\n",
      "Epoch 4/10\n",
      "6895/6895 [==============================] - 22s 3ms/step - loss: 0.0027 - mean_absolute_error: 0.0320 - val_loss: 0.0021 - val_mean_absolute_error: 0.0288\n",
      "Epoch 5/10\n",
      "6895/6895 [==============================] - 22s 3ms/step - loss: 0.0026 - mean_absolute_error: 0.0318 - val_loss: 0.0021 - val_mean_absolute_error: 0.0288\n",
      "Epoch 6/10\n",
      "6895/6895 [==============================] - 21s 3ms/step - loss: 0.0026 - mean_absolute_error: 0.0316 - val_loss: 0.0021 - val_mean_absolute_error: 0.0290\n",
      "Epoch 7/10\n",
      "6895/6895 [==============================] - 21s 3ms/step - loss: 0.0026 - mean_absolute_error: 0.0315 - val_loss: 0.0021 - val_mean_absolute_error: 0.0287\n",
      "Epoch 8/10\n",
      "6895/6895 [==============================] - 21s 3ms/step - loss: 0.0026 - mean_absolute_error: 0.0313 - val_loss: 0.0021 - val_mean_absolute_error: 0.0286\n",
      "Epoch 9/10\n",
      "6895/6895 [==============================] - 21s 3ms/step - loss: 0.0026 - mean_absolute_error: 0.0312 - val_loss: 0.0021 - val_mean_absolute_error: 0.0284\n",
      "Epoch 10/10\n",
      "6895/6895 [==============================] - 21s 3ms/step - loss: 0.0026 - mean_absolute_error: 0.0312 - val_loss: 0.0021 - val_mean_absolute_error: 0.0281\n"
     ]
    },
    {
     "name": "stderr",
     "output_type": "stream",
     "text": [
      "WARNING:absl:Found untraced functions such as lstm_cell_layer_call_fn, lstm_cell_layer_call_and_return_conditional_losses, lstm_cell_layer_call_fn, lstm_cell_layer_call_and_return_conditional_losses, lstm_cell_layer_call_and_return_conditional_losses while saving (showing 5 of 5). These functions will not be directly callable after loading.\n"
     ]
    },
    {
     "name": "stdout",
     "output_type": "stream",
     "text": [
      "INFO:tensorflow:Assets written to: weights/path_simple_lstm/assets\n"
     ]
    },
    {
     "name": "stderr",
     "output_type": "stream",
     "text": [
      "INFO:tensorflow:Assets written to: weights/path_simple_lstm/assets\n"
     ]
    }
   ],
   "source": [
    "m = model_path.ModelPath(uses_goal=False)\n",
    "m.train(models_path.simple_lstm(train_data), train_data, eval_data)\n",
    "m.save('path_simple_lstm')\n",
    "m = None"
   ]
  },
  {
   "cell_type": "code",
   "execution_count": 5,
   "metadata": {},
   "outputs": [
    {
     "name": "stdout",
     "output_type": "stream",
     "text": [
      "Epoch 1/10\n",
      "6895/6895 [==============================] - 22s 3ms/step - loss: 0.0017 - mean_absolute_error: 0.0283 - val_loss: 0.0014 - val_mean_absolute_error: 0.0252\n",
      "Epoch 2/10\n",
      "6895/6895 [==============================] - 22s 3ms/step - loss: 0.0014 - mean_absolute_error: 0.0262 - val_loss: 0.0013 - val_mean_absolute_error: 0.0245\n",
      "Epoch 3/10\n",
      "6895/6895 [==============================] - 21s 3ms/step - loss: 0.0014 - mean_absolute_error: 0.0255 - val_loss: 0.0013 - val_mean_absolute_error: 0.0240\n",
      "Epoch 4/10\n",
      "6895/6895 [==============================] - 21s 3ms/step - loss: 0.0014 - mean_absolute_error: 0.0252 - val_loss: 0.0012 - val_mean_absolute_error: 0.0236\n",
      "Epoch 5/10\n",
      "6895/6895 [==============================] - 21s 3ms/step - loss: 0.0013 - mean_absolute_error: 0.0250 - val_loss: 0.0012 - val_mean_absolute_error: 0.0237\n",
      "Epoch 6/10\n",
      "6895/6895 [==============================] - 21s 3ms/step - loss: 0.0013 - mean_absolute_error: 0.0248 - val_loss: 0.0012 - val_mean_absolute_error: 0.0233\n",
      "Epoch 7/10\n",
      "6895/6895 [==============================] - 21s 3ms/step - loss: 0.0013 - mean_absolute_error: 0.0247 - val_loss: 0.0012 - val_mean_absolute_error: 0.0231\n",
      "Epoch 8/10\n",
      "6895/6895 [==============================] - 21s 3ms/step - loss: 0.0013 - mean_absolute_error: 0.0247 - val_loss: 0.0012 - val_mean_absolute_error: 0.0232\n",
      "Epoch 9/10\n",
      "6895/6895 [==============================] - 21s 3ms/step - loss: 0.0013 - mean_absolute_error: 0.0246 - val_loss: 0.0012 - val_mean_absolute_error: 0.0232\n",
      "Epoch 10/10\n",
      "6895/6895 [==============================] - 21s 3ms/step - loss: 0.0013 - mean_absolute_error: 0.0245 - val_loss: 0.0012 - val_mean_absolute_error: 0.0233\n"
     ]
    },
    {
     "name": "stderr",
     "output_type": "stream",
     "text": [
      "WARNING:absl:Found untraced functions such as lstm_cell_1_layer_call_fn, lstm_cell_1_layer_call_and_return_conditional_losses, lstm_cell_1_layer_call_fn, lstm_cell_1_layer_call_and_return_conditional_losses, lstm_cell_1_layer_call_and_return_conditional_losses while saving (showing 5 of 5). These functions will not be directly callable after loading.\n"
     ]
    },
    {
     "name": "stdout",
     "output_type": "stream",
     "text": [
      "INFO:tensorflow:Assets written to: weights/path_simple_lstm_goal/assets\n"
     ]
    },
    {
     "name": "stderr",
     "output_type": "stream",
     "text": [
      "INFO:tensorflow:Assets written to: weights/path_simple_lstm_goal/assets\n"
     ]
    }
   ],
   "source": [
    "m = model_path.ModelPath(uses_goal=True)\n",
    "m.train(models_path.simple_lstm(train_data), train_data, eval_data, train_goals=train_data[1], eval_goals=eval_data[1])\n",
    "m.save('path_simple_lstm_goal')\n",
    "m = None"
   ]
  }
 ],
 "metadata": {
  "interpreter": {
   "hash": "e7370f93d1d0cde622a1f8e1c04877d8463912d04d973331ad4851f04de6915a"
  },
  "kernelspec": {
   "display_name": "Python 3.8.10 64-bit",
   "language": "python",
   "name": "python3"
  },
  "language_info": {
   "codemirror_mode": {
    "name": "ipython",
    "version": 3
   },
   "file_extension": ".py",
   "mimetype": "text/x-python",
   "name": "python",
   "nbconvert_exporter": "python",
   "pygments_lexer": "ipython3",
   "version": "3.8.10"
  },
  "orig_nbformat": 4
 },
 "nbformat": 4,
 "nbformat_minor": 2
}
